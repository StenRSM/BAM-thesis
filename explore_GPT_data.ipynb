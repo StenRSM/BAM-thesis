{
 "cells": [
  {
   "attachments": {},
   "cell_type": "markdown",
   "metadata": {},
   "source": [
    "# Explore GPT-data"
   ]
  },
  {
   "cell_type": "code",
   "execution_count": 1,
   "metadata": {},
   "outputs": [],
   "source": [
    "import pandas as pd"
   ]
  },
  {
   "cell_type": "code",
   "execution_count": 27,
   "metadata": {},
   "outputs": [],
   "source": [
    "df = pd.read_json(r'C:\\Users\\Sten\\Documents\\EUR BAM\\Thesis\\data\\xl-1542M-k40.train.jsonl', lines=True)"
   ]
  },
  {
   "cell_type": "code",
   "execution_count": 28,
   "metadata": {},
   "outputs": [
    {
     "data": {
      "text/html": [
       "<div>\n",
       "<style scoped>\n",
       "    .dataframe tbody tr th:only-of-type {\n",
       "        vertical-align: middle;\n",
       "    }\n",
       "\n",
       "    .dataframe tbody tr th {\n",
       "        vertical-align: top;\n",
       "    }\n",
       "\n",
       "    .dataframe thead th {\n",
       "        text-align: right;\n",
       "    }\n",
       "</style>\n",
       "<table border=\"1\" class=\"dataframe\">\n",
       "  <thead>\n",
       "    <tr style=\"text-align: right;\">\n",
       "      <th></th>\n",
       "      <th>id</th>\n",
       "      <th>text</th>\n",
       "      <th>length</th>\n",
       "      <th>ended</th>\n",
       "    </tr>\n",
       "  </thead>\n",
       "  <tbody>\n",
       "    <tr>\n",
       "      <th>0</th>\n",
       "      <td>1</td>\n",
       "      <td>Cops will have to take \"extreme care\" to avoid...</td>\n",
       "      <td>433</td>\n",
       "      <td>True</td>\n",
       "    </tr>\n",
       "    <tr>\n",
       "      <th>1</th>\n",
       "      <td>2</td>\n",
       "      <td>The latest edition of the German Football Hall...</td>\n",
       "      <td>715</td>\n",
       "      <td>True</td>\n",
       "    </tr>\n",
       "    <tr>\n",
       "      <th>2</th>\n",
       "      <td>3</td>\n",
       "      <td>Dangerous animals, especially snakes, in a car...</td>\n",
       "      <td>1024</td>\n",
       "      <td>False</td>\n",
       "    </tr>\n",
       "    <tr>\n",
       "      <th>3</th>\n",
       "      <td>4</td>\n",
       "      <td>I started my first MLP story way back in 2014 ...</td>\n",
       "      <td>1024</td>\n",
       "      <td>False</td>\n",
       "    </tr>\n",
       "    <tr>\n",
       "      <th>4</th>\n",
       "      <td>5</td>\n",
       "      <td>This article is a disambiguation page for The ...</td>\n",
       "      <td>84</td>\n",
       "      <td>True</td>\n",
       "    </tr>\n",
       "    <tr>\n",
       "      <th>...</th>\n",
       "      <td>...</td>\n",
       "      <td>...</td>\n",
       "      <td>...</td>\n",
       "      <td>...</td>\n",
       "    </tr>\n",
       "    <tr>\n",
       "      <th>249995</th>\n",
       "      <td>249996</td>\n",
       "      <td>There are a lot of things that I don't like ab...</td>\n",
       "      <td>806</td>\n",
       "      <td>True</td>\n",
       "    </tr>\n",
       "    <tr>\n",
       "      <th>249996</th>\n",
       "      <td>249997</td>\n",
       "      <td>A year after an unprecedented public outcry ag...</td>\n",
       "      <td>1024</td>\n",
       "      <td>False</td>\n",
       "    </tr>\n",
       "    <tr>\n",
       "      <th>249997</th>\n",
       "      <td>249998</td>\n",
       "      <td>Battles Between the English and the Scots\\n\\nT...</td>\n",
       "      <td>854</td>\n",
       "      <td>True</td>\n",
       "    </tr>\n",
       "    <tr>\n",
       "      <th>249998</th>\n",
       "      <td>249999</td>\n",
       "      <td>Kurt Rambis is the new head coach of the Knick...</td>\n",
       "      <td>441</td>\n",
       "      <td>True</td>\n",
       "    </tr>\n",
       "    <tr>\n",
       "      <th>249999</th>\n",
       "      <td>250000</td>\n",
       "      <td>\"To be a leader... you need to do this or that...</td>\n",
       "      <td>488</td>\n",
       "      <td>True</td>\n",
       "    </tr>\n",
       "  </tbody>\n",
       "</table>\n",
       "<p>250000 rows × 4 columns</p>\n",
       "</div>"
      ],
      "text/plain": [
       "            id                                               text  length  \\\n",
       "0            1  Cops will have to take \"extreme care\" to avoid...     433   \n",
       "1            2  The latest edition of the German Football Hall...     715   \n",
       "2            3  Dangerous animals, especially snakes, in a car...    1024   \n",
       "3            4  I started my first MLP story way back in 2014 ...    1024   \n",
       "4            5  This article is a disambiguation page for The ...      84   \n",
       "...        ...                                                ...     ...   \n",
       "249995  249996  There are a lot of things that I don't like ab...     806   \n",
       "249996  249997  A year after an unprecedented public outcry ag...    1024   \n",
       "249997  249998  Battles Between the English and the Scots\\n\\nT...     854   \n",
       "249998  249999  Kurt Rambis is the new head coach of the Knick...     441   \n",
       "249999  250000  \"To be a leader... you need to do this or that...     488   \n",
       "\n",
       "        ended  \n",
       "0        True  \n",
       "1        True  \n",
       "2       False  \n",
       "3       False  \n",
       "4        True  \n",
       "...       ...  \n",
       "249995   True  \n",
       "249996  False  \n",
       "249997   True  \n",
       "249998   True  \n",
       "249999   True  \n",
       "\n",
       "[250000 rows x 4 columns]"
      ]
     },
     "execution_count": 28,
     "metadata": {},
     "output_type": "execute_result"
    }
   ],
   "source": [
    "df"
   ]
  },
  {
   "cell_type": "code",
   "execution_count": 29,
   "metadata": {},
   "outputs": [
    {
     "data": {
      "text/plain": [
       "'Cops will have to take \"extreme care\" to avoid jail-breaking the latest iPhones as the US government will fine manufacturers for breaking its digital security.\\n\\nApple has been criticised for designing and releasing its latest smartphone without any security measures.\\n\\nApple has defended the iPhone 6 for carrying out some of its advanced security measures, but will be fined if it continues to fail that test.\\n\\nThe Federal Communications Commission and FBI will be allowed to fine companies as much as $25,000 (£17,800) for not patching bugs after they are announced.\\n\\nThe FCC, under a new ruling from president Obama , will allow fines of $1,500 per device over the same \"bug bounty\".\\n\\nThere have been multiple hacks into iPhone 6 smartphones this year in the wake of the 2013 revelation that the device could be unlocked with a passcode lock.\\n\\nHowever, security experts have criticised Apple\\'s software and device for not patching its bugs to prevent them becoming the latest weapon in the fight for online privacy.\\n\\nUS congressman Ted Lieu warned, \"We\\'re watching the FBI and the government take an old security issue — cracking open a closed device — and turn it into a brand new security issue with the advent of a new device.\"\\n\\nHis Democratic colleague Senator Mark Warner echoed a similar sentiment, saying: \"If the FBI is successful with this program, it could make it much more difficult for law-abiding Americans to protect their privacy.\"\\n\\nHowever, one leading security researcher said he believed the government was not seeking Apple\\'s help to fight off a criminal.\\n\\n\"They don\\'t see the need for Apple — they don\\'t see much of a market for new iPhones now,\" said Matthew Green.\\n\\nGreen believes the government wants new devices because it is concerned a new smartphone with facial recognition capabilities might become a tool for terrorists.\\n\\n\"These are not necessarily criminals — these are extremists,\" he said.\\n\\n\"If you have someone with a gun strapped to their body — if you want the FBI to stop that, then you want to lock that phone, and then lock it.\"'"
      ]
     },
     "execution_count": 29,
     "metadata": {},
     "output_type": "execute_result"
    }
   ],
   "source": [
    "df.loc[0, 'text']"
   ]
  },
  {
   "cell_type": "code",
   "execution_count": 2,
   "metadata": {},
   "outputs": [],
   "source": [
    "df = pd.read_json(r'C:\\Users\\Sten\\Documents\\EUR BAM\\Thesis\\data\\xl-1542M-k40.test.jsonl', lines=True)"
   ]
  },
  {
   "cell_type": "code",
   "execution_count": 6,
   "metadata": {},
   "outputs": [
    {
     "data": {
      "text/html": [
       "<div>\n",
       "<style scoped>\n",
       "    .dataframe tbody tr th:only-of-type {\n",
       "        vertical-align: middle;\n",
       "    }\n",
       "\n",
       "    .dataframe tbody tr th {\n",
       "        vertical-align: top;\n",
       "    }\n",
       "\n",
       "    .dataframe thead th {\n",
       "        text-align: right;\n",
       "    }\n",
       "</style>\n",
       "<table border=\"1\" class=\"dataframe\">\n",
       "  <thead>\n",
       "    <tr style=\"text-align: right;\">\n",
       "      <th></th>\n",
       "      <th>id</th>\n",
       "      <th>text</th>\n",
       "      <th>length</th>\n",
       "      <th>ended</th>\n",
       "    </tr>\n",
       "  </thead>\n",
       "  <tbody>\n",
       "    <tr>\n",
       "      <th>0</th>\n",
       "      <td>255001</td>\n",
       "      <td>When I first heard about what a lot of people ...</td>\n",
       "      <td>1024</td>\n",
       "      <td>False</td>\n",
       "    </tr>\n",
       "    <tr>\n",
       "      <th>1</th>\n",
       "      <td>255002</td>\n",
       "      <td>The FBI is investigating the case as a hate cr...</td>\n",
       "      <td>943</td>\n",
       "      <td>True</td>\n",
       "    </tr>\n",
       "    <tr>\n",
       "      <th>2</th>\n",
       "      <td>255003</td>\n",
       "      <td>D-backs third baseman Paul Goldschmidt (6) rea...</td>\n",
       "      <td>1024</td>\n",
       "      <td>False</td>\n",
       "    </tr>\n",
       "    <tr>\n",
       "      <th>3</th>\n",
       "      <td>255004</td>\n",
       "      <td>How do you make a show about a guy who is supe...</td>\n",
       "      <td>383</td>\n",
       "      <td>True</td>\n",
       "    </tr>\n",
       "    <tr>\n",
       "      <th>4</th>\n",
       "      <td>255005</td>\n",
       "      <td>It is widely agreed that there is a need for a...</td>\n",
       "      <td>225</td>\n",
       "      <td>True</td>\n",
       "    </tr>\n",
       "    <tr>\n",
       "      <th>...</th>\n",
       "      <td>...</td>\n",
       "      <td>...</td>\n",
       "      <td>...</td>\n",
       "      <td>...</td>\n",
       "    </tr>\n",
       "    <tr>\n",
       "      <th>4995</th>\n",
       "      <td>259996</td>\n",
       "      <td>How to make your life with your little ones ea...</td>\n",
       "      <td>1024</td>\n",
       "      <td>False</td>\n",
       "    </tr>\n",
       "    <tr>\n",
       "      <th>4996</th>\n",
       "      <td>259997</td>\n",
       "      <td>This isn't the first time I see this particula...</td>\n",
       "      <td>136</td>\n",
       "      <td>True</td>\n",
       "    </tr>\n",
       "    <tr>\n",
       "      <th>4997</th>\n",
       "      <td>259998</td>\n",
       "      <td>AUSTIN, Texas – The NCAA on Friday approved th...</td>\n",
       "      <td>917</td>\n",
       "      <td>True</td>\n",
       "    </tr>\n",
       "    <tr>\n",
       "      <th>4998</th>\n",
       "      <td>259999</td>\n",
       "      <td>In the previous blog post, I discussed the gen...</td>\n",
       "      <td>689</td>\n",
       "      <td>True</td>\n",
       "    </tr>\n",
       "    <tr>\n",
       "      <th>4999</th>\n",
       "      <td>260000</td>\n",
       "      <td>It is a common observation, in certain circles...</td>\n",
       "      <td>1024</td>\n",
       "      <td>False</td>\n",
       "    </tr>\n",
       "  </tbody>\n",
       "</table>\n",
       "<p>5000 rows × 4 columns</p>\n",
       "</div>"
      ],
      "text/plain": [
       "          id                                               text  length  ended\n",
       "0     255001  When I first heard about what a lot of people ...    1024  False\n",
       "1     255002  The FBI is investigating the case as a hate cr...     943   True\n",
       "2     255003  D-backs third baseman Paul Goldschmidt (6) rea...    1024  False\n",
       "3     255004  How do you make a show about a guy who is supe...     383   True\n",
       "4     255005  It is widely agreed that there is a need for a...     225   True\n",
       "...      ...                                                ...     ...    ...\n",
       "4995  259996  How to make your life with your little ones ea...    1024  False\n",
       "4996  259997  This isn't the first time I see this particula...     136   True\n",
       "4997  259998  AUSTIN, Texas – The NCAA on Friday approved th...     917   True\n",
       "4998  259999  In the previous blog post, I discussed the gen...     689   True\n",
       "4999  260000  It is a common observation, in certain circles...    1024  False\n",
       "\n",
       "[5000 rows x 4 columns]"
      ]
     },
     "execution_count": 6,
     "metadata": {},
     "output_type": "execute_result"
    }
   ],
   "source": [
    "df"
   ]
  },
  {
   "cell_type": "code",
   "execution_count": 8,
   "metadata": {},
   "outputs": [
    {
     "data": {
      "text/plain": [
       "'The FBI is investigating the case as a hate crime following claims that the suspect, Dylann Storm Roof, expressed support for white supremacy in an online post.\\n\\nThe suspect reportedly told his churchgoers that he planned to shoot black people because of the \"system\", according to local reports.\\n\\nRoof is also said to have posted on Facebook that he had pledged allegiance to the leader of the so-called \"sovereign citizens movement\", Steve King.\\n\\n\\nThe case has been referred to the FBI for further investigation.\\n\\nA Facebook post was found that refers to Roof as a \"lone wolf\" and appears to support white supremacy.\\n\\nFacebook Twitter Pinterest Dylann Storm Roof is charged with nine counts of murder at this court hearing at the South Carolina state court in Columbia, South Carolina. Photograph: Reuters\\n\\n\"I had to do it,\" Roof told authorities, South Carolina sheriff\\'s department officials said. He added he was not part of any \"larger group\", according to the Associated Press.\\n\\nThe FBI are now reportedly investigating whether the killing at his hometown of Charleston was racially motivated.\\n\\n\\n\"As a matter of course, the FBI is looking at all aspects of the suspect\\'s life and we\\'re talking to a lot of people in this community,\" John Monahan, special agent in charge at the FBI\\'s Columbia, South Carolina field office, told reporters. \"We\\'re treating this … as any other case.\\n\\nThe case of #CharlestonShooting suspect who told victim \"he wanted to start a race war\" has FBI investigation underway. — ABC News Politics (@ABCPolitics) June 18, 2015\\n\\nRacial tensions and hate crime: the race relations debate that went viral Read more\\n\\n\"There\\'s obviously no way to know if he\\'s actually racially motivated or not,\" he said. \"The thing to know is that he has expressed those views in his own words and he has a history here in our community and this community.\"\\n\\nMonahan would not comment on the Facebook post. Officials did not release any evidence of the suspect having expressed support for the so-called sovereign citizen movement.\\n\\nRoof, 26, was charged with nine counts of murder for allegedly opening fire on the Emanuel African Methodist Episcopal church in Charleston, South Carolina, killing nine people. Police believe he targeted the church because of its predominantly black congregants.\\n\\nThe suspect\\'s older brother, Daniel, told a news conference: \"He doesn\\'t hate anybody. He has nothing against any race.\" He also said that Roof was \"stupid\" for getting involved in the shooting.\\n\\nRoof wrote a chilling Facebook post in which he said he wanted to start a race war by executing black people. \"I have to do it,\" he posted on Sunday. \"I want to start something big…I don\\'t have a choice.\"\\n\\n\\nAccording to police, the suspect is a white man with white supremacist and anti-government tattoos, such as the flag of the sovereign citizens movement.\\n\\n\\nRoof said he had made a choice, a few months ago, to become the person he wanted to be, police spokesperson Chief Greg Mullen said. He described the suspect as a \"monster\".\\n\\nOn Wednesday, the family of one of the victims, Rev Clementa Pinckney, expressed \"heartfelt gratitude\" to the community for their support.\\n\\nThe Rev Pinckney, was remembered on Wednesday night as an inspiring Christian minister whose life was taken.\\n\\nThe city\\'s mayor, Joseph Riley, called him \"the most beloved man in Charleston\".\\n\\nCharleston shootings: \\'That\\'s not the America I know\\' Read more\\n\\nThe FBI has offered a $25,000 reward for people who will call them with information about the shooting. They are also looking at the suspect\\'s social media, the Charleston police department said.\\n\\nCharleston attorney James Brindle, who represents the victims\\' families, said: \"We continue to pray for all those affected by this terrible tragedy. We ask that the media respect those grieving families who want their privacy respected during this trying time. We ask that these hateful crimes be taken away from their families who may need time to grieve.\"\\n\\nA Facebook post on the website of the Sovereign Citizens of America\\'s local website, South Carolina Law Enforcement Division, also referred to the suspect as Dylann Storm Roof.\\n\\nIt is a group that is not recognised by the Federal government but is described as \"a broad association of citizens who support and respect the Constitution of the United States and its governing document, the Declaration of Independence\".'"
      ]
     },
     "execution_count": 8,
     "metadata": {},
     "output_type": "execute_result"
    }
   ],
   "source": [
    "df.loc[1, 'text']"
   ]
  }
 ],
 "metadata": {
  "kernelspec": {
   "display_name": "Python 3",
   "language": "python",
   "name": "python3"
  },
  "language_info": {
   "codemirror_mode": {
    "name": "ipython",
    "version": 3
   },
   "file_extension": ".py",
   "mimetype": "text/x-python",
   "name": "python",
   "nbconvert_exporter": "python",
   "pygments_lexer": "ipython3",
   "version": "3.9.16"
  },
  "orig_nbformat": 4
 },
 "nbformat": 4,
 "nbformat_minor": 2
}
