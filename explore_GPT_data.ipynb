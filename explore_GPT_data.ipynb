{
 "cells": [
  {
   "attachments": {},
   "cell_type": "markdown",
   "metadata": {},
   "source": [
    "# Explore GPT-data"
   ]
  },
  {
   "cell_type": "code",
   "execution_count": 1,
   "metadata": {},
   "outputs": [],
   "source": [
    "import pandas as pd"
   ]
  },
  {
   "cell_type": "code",
   "execution_count": 27,
   "metadata": {},
   "outputs": [],
   "source": [
    "df = pd.read_json(r'C:\\Users\\Sten\\Documents\\EUR BAM\\Thesis\\data\\xl-1542M-k40.train.jsonl', lines=True)"
   ]
  },
  {
   "cell_type": "code",
   "execution_count": 28,
   "metadata": {},
   "outputs": [
    {
     "data": {
      "text/html": [
       "<div>\n",
       "<style scoped>\n",
       "    .dataframe tbody tr th:only-of-type {\n",
       "        vertical-align: middle;\n",
       "    }\n",
       "\n",
       "    .dataframe tbody tr th {\n",
       "        vertical-align: top;\n",
       "    }\n",
       "\n",
       "    .dataframe thead th {\n",
       "        text-align: right;\n",
       "    }\n",
       "</style>\n",
       "<table border=\"1\" class=\"dataframe\">\n",
       "  <thead>\n",
       "    <tr style=\"text-align: right;\">\n",
       "      <th></th>\n",
       "      <th>id</th>\n",
       "      <th>text</th>\n",
       "      <th>length</th>\n",
       "      <th>ended</th>\n",
       "    </tr>\n",
       "  </thead>\n",
       "  <tbody>\n",
       "    <tr>\n",
       "      <th>0</th>\n",
       "      <td>1</td>\n",
       "      <td>Cops will have to take \"extreme care\" to avoid...</td>\n",
       "      <td>433</td>\n",
       "      <td>True</td>\n",
       "    </tr>\n",
       "    <tr>\n",
       "      <th>1</th>\n",
       "      <td>2</td>\n",
       "      <td>The latest edition of the German Football Hall...</td>\n",
       "      <td>715</td>\n",
       "      <td>True</td>\n",
       "    </tr>\n",
       "    <tr>\n",
       "      <th>2</th>\n",
       "      <td>3</td>\n",
       "      <td>Dangerous animals, especially snakes, in a car...</td>\n",
       "      <td>1024</td>\n",
       "      <td>False</td>\n",
       "    </tr>\n",
       "    <tr>\n",
       "      <th>3</th>\n",
       "      <td>4</td>\n",
       "      <td>I started my first MLP story way back in 2014 ...</td>\n",
       "      <td>1024</td>\n",
       "      <td>False</td>\n",
       "    </tr>\n",
       "    <tr>\n",
       "      <th>4</th>\n",
       "      <td>5</td>\n",
       "      <td>This article is a disambiguation page for The ...</td>\n",
       "      <td>84</td>\n",
       "      <td>True</td>\n",
       "    </tr>\n",
       "    <tr>\n",
       "      <th>...</th>\n",
       "      <td>...</td>\n",
       "      <td>...</td>\n",
       "      <td>...</td>\n",
       "      <td>...</td>\n",
       "    </tr>\n",
       "    <tr>\n",
       "      <th>249995</th>\n",
       "      <td>249996</td>\n",
       "      <td>There are a lot of things that I don't like ab...</td>\n",
       "      <td>806</td>\n",
       "      <td>True</td>\n",
       "    </tr>\n",
       "    <tr>\n",
       "      <th>249996</th>\n",
       "      <td>249997</td>\n",
       "      <td>A year after an unprecedented public outcry ag...</td>\n",
       "      <td>1024</td>\n",
       "      <td>False</td>\n",
       "    </tr>\n",
       "    <tr>\n",
       "      <th>249997</th>\n",
       "      <td>249998</td>\n",
       "      <td>Battles Between the English and the Scots\\n\\nT...</td>\n",
       "      <td>854</td>\n",
       "      <td>True</td>\n",
       "    </tr>\n",
       "    <tr>\n",
       "      <th>249998</th>\n",
       "      <td>249999</td>\n",
       "      <td>Kurt Rambis is the new head coach of the Knick...</td>\n",
       "      <td>441</td>\n",
       "      <td>True</td>\n",
       "    </tr>\n",
       "    <tr>\n",
       "      <th>249999</th>\n",
       "      <td>250000</td>\n",
       "      <td>\"To be a leader... you need to do this or that...</td>\n",
       "      <td>488</td>\n",
       "      <td>True</td>\n",
       "    </tr>\n",
       "  </tbody>\n",
       "</table>\n",
       "<p>250000 rows × 4 columns</p>\n",
       "</div>"
      ],
      "text/plain": [
       "            id                                               text  length  \\\n",
       "0            1  Cops will have to take \"extreme care\" to avoid...     433   \n",
       "1            2  The latest edition of the German Football Hall...     715   \n",
       "2            3  Dangerous animals, especially snakes, in a car...    1024   \n",
       "3            4  I started my first MLP story way back in 2014 ...    1024   \n",
       "4            5  This article is a disambiguation page for The ...      84   \n",
       "...        ...                                                ...     ...   \n",
       "249995  249996  There are a lot of things that I don't like ab...     806   \n",
       "249996  249997  A year after an unprecedented public outcry ag...    1024   \n",
       "249997  249998  Battles Between the English and the Scots\\n\\nT...     854   \n",
       "249998  249999  Kurt Rambis is the new head coach of the Knick...     441   \n",
       "249999  250000  \"To be a leader... you need to do this or that...     488   \n",
       "\n",
       "        ended  \n",
       "0        True  \n",
       "1        True  \n",
       "2       False  \n",
       "3       False  \n",
       "4        True  \n",
       "...       ...  \n",
       "249995   True  \n",
       "249996  False  \n",
       "249997   True  \n",
       "249998   True  \n",
       "249999   True  \n",
       "\n",
       "[250000 rows x 4 columns]"
      ]
     },
     "execution_count": 28,
     "metadata": {},
     "output_type": "execute_result"
    }
   ],
   "source": [
    "df"
   ]
  },
  {
   "cell_type": "code",
   "execution_count": 29,
   "metadata": {},
   "outputs": [
    {
     "data": {
      "text/plain": [
       "'Cops will have to take \"extreme care\" to avoid jail-breaking the latest iPhones as the US government will fine manufacturers for breaking its digital security.\\n\\nApple has been criticised for designing and releasing its latest smartphone without any security measures.\\n\\nApple has defended the iPhone 6 for carrying out some of its advanced security measures, but will be fined if it continues to fail that test.\\n\\nThe Federal Communications Commission and FBI will be allowed to fine companies as much as $25,000 (£17,800) for not patching bugs after they are announced.\\n\\nThe FCC, under a new ruling from president Obama , will allow fines of $1,500 per device over the same \"bug bounty\".\\n\\nThere have been multiple hacks into iPhone 6 smartphones this year in the wake of the 2013 revelation that the device could be unlocked with a passcode lock.\\n\\nHowever, security experts have criticised Apple\\'s software and device for not patching its bugs to prevent them becoming the latest weapon in the fight for online privacy.\\n\\nUS congressman Ted Lieu warned, \"We\\'re watching the FBI and the government take an old security issue — cracking open a closed device — and turn it into a brand new security issue with the advent of a new device.\"\\n\\nHis Democratic colleague Senator Mark Warner echoed a similar sentiment, saying: \"If the FBI is successful with this program, it could make it much more difficult for law-abiding Americans to protect their privacy.\"\\n\\nHowever, one leading security researcher said he believed the government was not seeking Apple\\'s help to fight off a criminal.\\n\\n\"They don\\'t see the need for Apple — they don\\'t see much of a market for new iPhones now,\" said Matthew Green.\\n\\nGreen believes the government wants new devices because it is concerned a new smartphone with facial recognition capabilities might become a tool for terrorists.\\n\\n\"These are not necessarily criminals — these are extremists,\" he said.\\n\\n\"If you have someone with a gun strapped to their body — if you want the FBI to stop that, then you want to lock that phone, and then lock it.\"'"
      ]
     },
     "execution_count": 29,
     "metadata": {},
     "output_type": "execute_result"
    }
   ],
   "source": [
    "df.loc[0, 'text']"
   ]
  }
 ],
 "metadata": {
  "kernelspec": {
   "display_name": "Python 3",
   "language": "python",
   "name": "python3"
  },
  "language_info": {
   "codemirror_mode": {
    "name": "ipython",
    "version": 3
   },
   "file_extension": ".py",
   "mimetype": "text/x-python",
   "name": "python",
   "nbconvert_exporter": "python",
   "pygments_lexer": "ipython3",
   "version": "3.9.16"
  },
  "orig_nbformat": 4
 },
 "nbformat": 4,
 "nbformat_minor": 2
}
