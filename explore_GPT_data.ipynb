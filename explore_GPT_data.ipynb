{
 "cells": [
  {
   "attachments": {},
   "cell_type": "markdown",
   "metadata": {},
   "source": [
    "# Explore GPT-data"
   ]
  },
  {
   "cell_type": "code",
   "execution_count": 1,
   "metadata": {},
   "outputs": [],
   "source": [
    "import pandas as pd"
   ]
  },
  {
   "cell_type": "code",
   "execution_count": 19,
   "metadata": {},
   "outputs": [],
   "source": [
    "df = pd.read_json(r'C:\\Users\\Sten\\Documents\\EUR BAM\\Thesis\\data\\xl-1542M.train.jsonl', lines=True)"
   ]
  },
  {
   "cell_type": "code",
   "execution_count": 20,
   "metadata": {},
   "outputs": [
    {
     "data": {
      "text/html": [
       "<div>\n",
       "<style scoped>\n",
       "    .dataframe tbody tr th:only-of-type {\n",
       "        vertical-align: middle;\n",
       "    }\n",
       "\n",
       "    .dataframe tbody tr th {\n",
       "        vertical-align: top;\n",
       "    }\n",
       "\n",
       "    .dataframe thead th {\n",
       "        text-align: right;\n",
       "    }\n",
       "</style>\n",
       "<table border=\"1\" class=\"dataframe\">\n",
       "  <thead>\n",
       "    <tr style=\"text-align: right;\">\n",
       "      <th></th>\n",
       "      <th>id</th>\n",
       "      <th>text</th>\n",
       "      <th>length</th>\n",
       "      <th>ended</th>\n",
       "    </tr>\n",
       "  </thead>\n",
       "  <tbody>\n",
       "    <tr>\n",
       "      <th>0</th>\n",
       "      <td>1</td>\n",
       "      <td>Germany's youngest ambassador, Frauke Petry, m...</td>\n",
       "      <td>663</td>\n",
       "      <td>True</td>\n",
       "    </tr>\n",
       "    <tr>\n",
       "      <th>1</th>\n",
       "      <td>2</td>\n",
       "      <td>3Feitage is one of those organizations that ha...</td>\n",
       "      <td>238</td>\n",
       "      <td>True</td>\n",
       "    </tr>\n",
       "    <tr>\n",
       "      <th>2</th>\n",
       "      <td>3</td>\n",
       "      <td>Settlers hook Bayintíp lawyer dead, say Ahosau...</td>\n",
       "      <td>1024</td>\n",
       "      <td>False</td>\n",
       "    </tr>\n",
       "    <tr>\n",
       "      <th>3</th>\n",
       "      <td>4</td>\n",
       "      <td>MPRA/FP/3W standard, also known as IEC 60529-1...</td>\n",
       "      <td>294</td>\n",
       "      <td>True</td>\n",
       "    </tr>\n",
       "    <tr>\n",
       "      <th>4</th>\n",
       "      <td>5</td>\n",
       "      <td>The party says they have a plan to increase th...</td>\n",
       "      <td>1024</td>\n",
       "      <td>False</td>\n",
       "    </tr>\n",
       "    <tr>\n",
       "      <th>...</th>\n",
       "      <td>...</td>\n",
       "      <td>...</td>\n",
       "      <td>...</td>\n",
       "      <td>...</td>\n",
       "    </tr>\n",
       "    <tr>\n",
       "      <th>249995</th>\n",
       "      <td>249996</td>\n",
       "      <td>Body Consciousness-It The best way to store my...</td>\n",
       "      <td>1024</td>\n",
       "      <td>False</td>\n",
       "    </tr>\n",
       "    <tr>\n",
       "      <th>249996</th>\n",
       "      <td>249997</td>\n",
       "      <td>Update, 7:31 p.m.: Aaron Hernandez was found d...</td>\n",
       "      <td>295</td>\n",
       "      <td>True</td>\n",
       "    </tr>\n",
       "    <tr>\n",
       "      <th>249997</th>\n",
       "      <td>249998</td>\n",
       "      <td>South Australia has the greatest inflow of edu...</td>\n",
       "      <td>61</td>\n",
       "      <td>True</td>\n",
       "    </tr>\n",
       "    <tr>\n",
       "      <th>249998</th>\n",
       "      <td>249999</td>\n",
       "      <td>Peter Lynn wrote this post on his personal blo...</td>\n",
       "      <td>148</td>\n",
       "      <td>True</td>\n",
       "    </tr>\n",
       "    <tr>\n",
       "      <th>249999</th>\n",
       "      <td>250000</td>\n",
       "      <td>Your work is never done.\\n\\nWe built this page...</td>\n",
       "      <td>870</td>\n",
       "      <td>True</td>\n",
       "    </tr>\n",
       "  </tbody>\n",
       "</table>\n",
       "<p>250000 rows × 4 columns</p>\n",
       "</div>"
      ],
      "text/plain": [
       "            id                                               text  length  \\\n",
       "0            1  Germany's youngest ambassador, Frauke Petry, m...     663   \n",
       "1            2  3Feitage is one of those organizations that ha...     238   \n",
       "2            3  Settlers hook Bayintíp lawyer dead, say Ahosau...    1024   \n",
       "3            4  MPRA/FP/3W standard, also known as IEC 60529-1...     294   \n",
       "4            5  The party says they have a plan to increase th...    1024   \n",
       "...        ...                                                ...     ...   \n",
       "249995  249996  Body Consciousness-It The best way to store my...    1024   \n",
       "249996  249997  Update, 7:31 p.m.: Aaron Hernandez was found d...     295   \n",
       "249997  249998  South Australia has the greatest inflow of edu...      61   \n",
       "249998  249999  Peter Lynn wrote this post on his personal blo...     148   \n",
       "249999  250000  Your work is never done.\\n\\nWe built this page...     870   \n",
       "\n",
       "        ended  \n",
       "0        True  \n",
       "1        True  \n",
       "2       False  \n",
       "3        True  \n",
       "4       False  \n",
       "...       ...  \n",
       "249995  False  \n",
       "249996   True  \n",
       "249997   True  \n",
       "249998   True  \n",
       "249999   True  \n",
       "\n",
       "[250000 rows x 4 columns]"
      ]
     },
     "execution_count": 20,
     "metadata": {},
     "output_type": "execute_result"
    }
   ],
   "source": [
    "df"
   ]
  },
  {
   "cell_type": "code",
   "execution_count": 21,
   "metadata": {},
   "outputs": [
    {
     "data": {
      "text/plain": [
       "'Germany\\'s youngest ambassador, Frauke Petry, made startling revelations on Thursday in a career-long crusade against Islamic immigration that even two years ahead of her 37th birthday insisted she is \"still young\".\\n\\nPetry, who burst onto the political scene by leading the rebellion of Angela Merkel\\'s CDU/CSU party last September, was loud on Thursday about an \"Islamisation\" of Germany that she asserted made \"everybody\" hate secularism.\\n\\n\"Let me say without ambiguity, Islam is not simply another religion like Christianity,\" said the rightwing populist who sits on the Christian Social Union from the Bavarian regional parliament, declining to reveal the source of her (in)complete worldview.\\n\\nThis was in stark contrast to her CDU/CSU party colleagues who last year slipped in the European Parliament onto the party\\'s bid for power in response to the migrant crisis, the unending chain of wars and terrorism plaguing the Middle East, and the persecution of minorities in cities on Germany\\'s southern border.\\n\\nTwo years ago, when Petry famously gave up one of her most significant vestiges of power as the interior minister to enter with a few dozen of her party peers on the very first cross-party coalition seeking to form NATO as the CSU/CSU-Greens (at that time lead by Frauke Petry) and the SPD across the German Senate made an alliance that even her own cabinet almost sabotaged – so unable was Merkel to make peace with the CSU.\\n\\nThe stakes are huge for keyboard adults of Petry\\'s age and experience. She was the felon behind last year\\'s parliamentary drubbing in the Godesberg City Opinion Quincy House in friendships with left-wing social-democrats and then with Justin Tempelhof, an open borders fanatic who represents German Greens-Merkel Trots to Brussels.\\n\\nPetry suggested on Thursday that she can no longer control the hatred in Germany that so easily flowed back into her party\\'s ranks after soldiers are militarised and stoop to reading the Koran at train stations such as Munich with ticket counters silent. She said that Berlin cowed in fear of reprisals if the milestones of Qtam killers were calledisen spiritle point signal inside every church through which they strangled eight people in Berlin.\\n\\nHowever, at the same time she cited U.S. Attorney General Jeff Sessions\\' December 2016 conviction of a network of alleged Muslim Brotherhood operatives in Birmingham for plotting to murder law enforcement officers, wonders about Islam, said that had long since passed that the numbers of North African Islam moderately recidivists of the mill muslims had dropped — The Berliner Zeitung reported.\\n\\nThe comments were particularly surprising considering Petry now boasts the fearlessness to create public an open defiance in what is called a Ratlines Gang, where apocalyptic non-stop propaganda has been injected into church through crowds at weekly services.\\n\\nPetry now heads a centre-right bloc with Jens Spahn, the deputy finance minister, and Peer Steinbrück, chief of CDU/CSU state policy portfolio in Berlin. The feeder party for politicians like Petry will likely be unthinkable without Orbán and Dworzak calling the shots with Washington.'"
      ]
     },
     "execution_count": 21,
     "metadata": {},
     "output_type": "execute_result"
    }
   ],
   "source": [
    "df.loc[0, 'text']"
   ]
  }
 ],
 "metadata": {
  "kernelspec": {
   "display_name": "Python 3",
   "language": "python",
   "name": "python3"
  },
  "language_info": {
   "codemirror_mode": {
    "name": "ipython",
    "version": 3
   },
   "file_extension": ".py",
   "mimetype": "text/x-python",
   "name": "python",
   "nbconvert_exporter": "python",
   "pygments_lexer": "ipython3",
   "version": "3.9.16"
  },
  "orig_nbformat": 4
 },
 "nbformat": 4,
 "nbformat_minor": 2
}
