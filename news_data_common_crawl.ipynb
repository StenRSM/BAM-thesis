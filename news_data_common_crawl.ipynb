{
 "cells": [
  {
   "cell_type": "code",
   "execution_count": 11,
   "metadata": {},
   "outputs": [],
   "source": [
    "import warcio\n",
    "import gzip"
   ]
  },
  {
   "cell_type": "code",
   "execution_count": 9,
   "metadata": {},
   "outputs": [],
   "source": [
    "with open(r'C:\\Users\\Sten\\Documents\\EUR BAM\\Thesis\\news\\CC-NEWS-20230331032008-01587.warc', 'rb') as f:\n",
    "    for record in warcio.ArchiveIterator(f):\n",
    "        if record.rec_type == 'response' and record.http_headers.get('Content-Type') == 'text/plain':\n",
    "\n",
    "            # Get the content of the response as bytes\n",
    "            content_bytes = record.content_stream().read()\n",
    "\n",
    "            # Convert the content to a string (assuming it's UTF-8 encoded)\n",
    "            content_string = content_bytes.decode('utf-8')\n",
    "\n",
    "            # Process the content as needed\n",
    "            # For example, print the first 100 characters of the text\n",
    "            print(content_string[:100])"
   ]
  },
  {
   "cell_type": "code",
   "execution_count": 13,
   "metadata": {},
   "outputs": [],
   "source": [
    "# Open the WARC file in binary mode\n",
    "with open(r'C:\\Users\\Sten\\Documents\\EUR BAM\\Thesis\\news\\CC-NEWS-20230331032008-01587.warc', 'rb') as f:\n",
    "\n",
    "    # Iterate over each record in the WARC file\n",
    "    for record in warcio.ArchiveIterator(f):\n",
    "\n",
    "        # Check if the record is a WET record\n",
    "        if record.rec_type == 'conversion' and record.content_type == 'text/plain':\n",
    "\n",
    "            # Get the content of the WET record as bytes\n",
    "            content_bytes = record.content_stream().read()\n",
    "\n",
    "            # Convert the content to a string\n",
    "            content_string = content_bytes.decode('utf-8')\n",
    "\n",
    "            # Print the first 100 characters of the string\n",
    "            print(content_string[:100])"
   ]
  }
 ],
 "metadata": {
  "kernelspec": {
   "display_name": "Python 3",
   "language": "python",
   "name": "python3"
  },
  "language_info": {
   "codemirror_mode": {
    "name": "ipython",
    "version": 3
   },
   "file_extension": ".py",
   "mimetype": "text/x-python",
   "name": "python",
   "nbconvert_exporter": "python",
   "pygments_lexer": "ipython3",
   "version": "3.9.16"
  },
  "orig_nbformat": 4
 },
 "nbformat": 4,
 "nbformat_minor": 2
}
