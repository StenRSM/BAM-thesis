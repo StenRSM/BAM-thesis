{
 "cells": [
  {
   "attachments": {},
   "cell_type": "markdown",
   "metadata": {},
   "source": [
    "# Gather news data"
   ]
  },
  {
   "cell_type": "code",
   "execution_count": 1,
   "metadata": {},
   "outputs": [],
   "source": [
    "from newscatcherapi import NewsCatcherApiClient\n",
    "import pandas as pd\n",
    "import json\n",
    "import time"
   ]
  },
  {
   "cell_type": "code",
   "execution_count": 8,
   "metadata": {},
   "outputs": [],
   "source": [
    "#API_KEY = #######################################\n",
    "\n",
    "newscatcherapi = NewsCatcherApiClient(x_api_key=API_KEY)"
   ]
  },
  {
   "cell_type": "code",
   "execution_count": 3,
   "metadata": {},
   "outputs": [],
   "source": [
    "df_news = pd.DataFrame(columns=[\"date\", 'url', \"author\", \"title\", \"topic\",  \"summary\", \"q\"])\n",
    "df_news_test = pd.DataFrame(columns=[\"date\", 'url', \"author\", \"title\", \"topic\",  \"summary\", \"q\"])"
   ]
  },
  {
   "cell_type": "code",
   "execution_count": 9,
   "metadata": {},
   "outputs": [],
   "source": [
    "def call_API_dataframe(q, date_from, page):\n",
    "    temp_articles = newscatcherapi.get_search(q=q, from_=date_from, lang='en', page_size=100, page=page)\n",
    "    for i in range(len(temp_articles['articles'])):\n",
    "        temp_row = [temp_articles['articles'][i][\"published_date\"], temp_articles['articles'][i][\"clean_url\"], temp_articles['articles'][i][\"author\"],\n",
    "                temp_articles['articles'][i][\"title\"], temp_articles['articles'][i][\"topic\"], temp_articles['articles'][i][\"summary\"], q]\n",
    "        df_news.loc[len(df_news)] = temp_row\n",
    "    path = r'C:\\Users\\Sten\\Documents\\EUR BAM\\Thesis\\data\\newscatcher' + '\\\\' + 'general' + str(page) + '.json'\n",
    "    with open(path, \"w\") as file:\n",
    "        json.dump(temp_articles, file)\n",
    "    time.sleep(1)\n"
   ]
  },
  {
   "cell_type": "code",
   "execution_count": 5,
   "metadata": {},
   "outputs": [],
   "source": [
    "# def call_API_dataframe_genericNews(date_from, page):\n",
    "#     temp_articles = newscatcherapi.get_latest_headlines(lang='en', page_size=100, when=date_from, page=page)\n",
    "#     for i in range(len(temp_articles['articles'])):\n",
    "#         temp_row = [temp_articles['articles'][i][\"published_date\"], temp_articles['articles'][i][\"clean_url\"], temp_articles['articles'][i][\"author\"],\n",
    "#                 temp_articles['articles'][i][\"title\"], temp_articles['articles'][i][\"topic\"], temp_articles['articles'][i][\"summary\"], q]\n",
    "#         df_news.loc[len(df_news)] = temp_row\n",
    "#     path = r'C:\\Users\\Sten\\Documents\\EUR BAM\\Thesis\\data\\newscatcher' + '\\\\' + 'latest' + str(page) + '.json'\n",
    "#     with open(path, \"w\") as file:\n",
    "#         json.dump(temp_articles, file)\n",
    "#     time.sleep(1)"
   ]
  },
  {
   "cell_type": "code",
   "execution_count": 10,
   "metadata": {},
   "outputs": [
    {
     "name": "stdout",
     "output_type": "stream",
     "text": [
      "50\n",
      "51\n",
      "52\n",
      "53\n",
      "54\n",
      "55\n",
      "56\n",
      "57\n",
      "58\n",
      "59\n",
      "60\n",
      "61\n",
      "62\n",
      "63\n",
      "64\n",
      "65\n",
      "66\n",
      "67\n",
      "68\n",
      "69\n",
      "70\n",
      "71\n",
      "72\n",
      "73\n",
      "74\n",
      "75\n",
      "76\n",
      "77\n",
      "78\n",
      "79\n",
      "80\n",
      "81\n",
      "82\n",
      "83\n",
      "84\n",
      "85\n",
      "86\n",
      "87\n",
      "88\n",
      "89\n",
      "90\n",
      "91\n",
      "92\n"
     ]
    }
   ],
   "source": [
    "for i in range(50, 93):\n",
    "    call_API_dataframe(q='\"the\"', date_from='30 days ago', page=i)\n",
    "    print(i)"
   ]
  },
  {
   "cell_type": "code",
   "execution_count": 21,
   "metadata": {},
   "outputs": [],
   "source": [
    "temp_articles = temp_articles = newscatcherapi.get_search(q='\"the\"', from_='30 days ago', lang='en', page_size=100, page=1)"
   ]
  },
  {
   "cell_type": "code",
   "execution_count": 26,
   "metadata": {},
   "outputs": [
    {
     "data": {
      "text/plain": [
       "{'title': 'Medical Support for Space Missions: The Case of the SIRIUS Project',\n",
       " 'author': 'Stefania Fedyay',\n",
       " 'published_date': '2023-05-31 00:00:00',\n",
       " 'published_date_precision': 'date',\n",
       " 'link': 'https://www.mdpi.com/2226-4310/10/6/518',\n",
       " 'clean_url': 'mdpi.com',\n",
       " 'excerpt': 'Medical support is one of the essential safety conditions for isolation or confinement experiments, as it enables the timely arrangement of actions to preserve the health of crew members and…',\n",
       " 'summary': 'Institute of Biomedical Problems (IBMP), Russian Academy of Sciences, Khoroshevskoye Shosse 76A, 123007 Moscow, Russia\\n\\n\\n\\n\\n \\nAuthor to whom correspondence should be addressed. \\n\\n\\n\\n\\n\\n\\n\\n\\n\\n\\nAerospace\\n \\n2023\\n, \\n10\\n(6), 518; https://doi.org/10.3390/aerospace10060518 (registering\\xa0DOI)\\n\\n\\n\\n\\n\\nReceived: 17 April 2023\\n\\n/\\n\\nRevised: 25 May 2023\\n\\n/\\n\\nAccepted: 29 May 2023\\n\\n/\\n\\nPublished: 31 May 2023\\n\\n\\n \\n\\n\\n\\n\\n\\n\\n\\n\\n\\n\\n:\\n\\n\\nMedical support is one of the essential safety conditions for isolation or confinement experiments, as it enables the timely arrangement of actions to preserve the health of crew members and volunteers.',\n",
       " 'rights': 'Creative Commons Attribution (CC-BY)',\n",
       " 'rank': 449,\n",
       " 'topic': 'science',\n",
       " 'country': 'CH',\n",
       " 'language': 'en',\n",
       " 'authors': 'Aleksei Polyakov,Arslan Niiazov,Belakovskiy,Fedyay,Niiazov,Orlov,Polyakov,Ponomarev,Sergey Ponomarev,Stefania Fedyay',\n",
       " 'media': 'https://pub.mdpi-res.com/aerospace/aerospace-10-00518/article_deploy/html/images/aerospace-10-00518-g001-550.jpg?1685514166',\n",
       " 'is_opinion': False,\n",
       " 'twitter_account': '@MDPIOpenAccess',\n",
       " '_score': 3.2336323,\n",
       " '_id': '4db7f1a8bff10ea788694a115229f906'}"
      ]
     },
     "execution_count": 26,
     "metadata": {},
     "output_type": "execute_result"
    }
   ],
   "source": [
    "temp_articles['articles'][4]"
   ]
  },
  {
   "cell_type": "code",
   "execution_count": 64,
   "metadata": {},
   "outputs": [
    {
     "name": "stdout",
     "output_type": "stream",
     "text": [
      "1\n",
      "2\n"
     ]
    }
   ],
   "source": [
    "for i in range(1, 3):\n",
    "    call_API_dataframe(q='the', date_from='2 weeks ago', page=i)\n",
    "    print(i)"
   ]
  },
  {
   "cell_type": "code",
   "execution_count": 11,
   "metadata": {},
   "outputs": [
    {
     "data": {
      "text/html": [
       "<div>\n",
       "<style scoped>\n",
       "    .dataframe tbody tr th:only-of-type {\n",
       "        vertical-align: middle;\n",
       "    }\n",
       "\n",
       "    .dataframe tbody tr th {\n",
       "        vertical-align: top;\n",
       "    }\n",
       "\n",
       "    .dataframe thead th {\n",
       "        text-align: right;\n",
       "    }\n",
       "</style>\n",
       "<table border=\"1\" class=\"dataframe\">\n",
       "  <thead>\n",
       "    <tr style=\"text-align: right;\">\n",
       "      <th></th>\n",
       "      <th>date</th>\n",
       "      <th>url</th>\n",
       "      <th>author</th>\n",
       "      <th>title</th>\n",
       "      <th>topic</th>\n",
       "      <th>summary</th>\n",
       "      <th>q</th>\n",
       "    </tr>\n",
       "  </thead>\n",
       "  <tbody>\n",
       "    <tr>\n",
       "      <th>0</th>\n",
       "      <td>2023-06-01 13:55:00</td>\n",
       "      <td>yahoo.com</td>\n",
       "      <td>Valoe Oyj</td>\n",
       "      <td>Valoe Corporation's Share Subscription Based o...</td>\n",
       "      <td>news</td>\n",
       "      <td>Valoe Corporation                Stock Exchang...</td>\n",
       "      <td>\"the\"</td>\n",
       "    </tr>\n",
       "    <tr>\n",
       "      <th>1</th>\n",
       "      <td>2023-06-02 14:45:00</td>\n",
       "      <td>msn.com</td>\n",
       "      <td>Park Ranger John</td>\n",
       "      <td>Epic Guide to Revolutionary War National Park ...</td>\n",
       "      <td>travel</td>\n",
       "      <td>Epic Guide to Revolutionary War National Park ...</td>\n",
       "      <td>\"the\"</td>\n",
       "    </tr>\n",
       "    <tr>\n",
       "      <th>2</th>\n",
       "      <td>2023-05-31 21:00:00</td>\n",
       "      <td>msn.com</td>\n",
       "      <td>Kudanisar Shrine</td>\n",
       "      <td>Kudanisar Shrine location and walkthrough in Z...</td>\n",
       "      <td>entertainment</td>\n",
       "      <td>Kudanisar Shrine is located within The Legend ...</td>\n",
       "      <td>\"the\"</td>\n",
       "    </tr>\n",
       "    <tr>\n",
       "      <th>3</th>\n",
       "      <td>2023-06-04 00:00:00</td>\n",
       "      <td>mdpi.com</td>\n",
       "      <td>Jozef Vlček</td>\n",
       "      <td>Analysis of a Large-Scale Physical Model of Ge...</td>\n",
       "      <td>science</td>\n",
       "      <td>Department of Geotechnics, Faculty of Civil En...</td>\n",
       "      <td>\"the\"</td>\n",
       "    </tr>\n",
       "    <tr>\n",
       "      <th>4</th>\n",
       "      <td>2023-05-31 00:00:00</td>\n",
       "      <td>mdpi.com</td>\n",
       "      <td>Stefania Fedyay</td>\n",
       "      <td>Medical Support for Space Missions: The Case o...</td>\n",
       "      <td>science</td>\n",
       "      <td>Institute of Biomedical Problems (IBMP), Russi...</td>\n",
       "      <td>\"the\"</td>\n",
       "    </tr>\n",
       "    <tr>\n",
       "      <th>...</th>\n",
       "      <td>...</td>\n",
       "      <td>...</td>\n",
       "      <td>...</td>\n",
       "      <td>...</td>\n",
       "      <td>...</td>\n",
       "      <td>...</td>\n",
       "      <td>...</td>\n",
       "    </tr>\n",
       "    <tr>\n",
       "      <th>9195</th>\n",
       "      <td>2023-05-29 14:34:57</td>\n",
       "      <td>msn.com</td>\n",
       "      <td>Sara Klimek</td>\n",
       "      <td>16 Mistakes You're Making With Homemade Cheese...</td>\n",
       "      <td>news</td>\n",
       "      <td>Although cheesecake technically isn't consider...</td>\n",
       "      <td>\"the\"</td>\n",
       "    </tr>\n",
       "    <tr>\n",
       "      <th>9196</th>\n",
       "      <td>2023-05-29 00:06:06</td>\n",
       "      <td>foxnews.com</td>\n",
       "      <td>Bradford Betz</td>\n",
       "      <td>Biden, McCarthy reach debt ceiling deal to avo...</td>\n",
       "      <td>politics</td>\n",
       "      <td>President Biden and House Speaker \\nKevin McCa...</td>\n",
       "      <td>\"the\"</td>\n",
       "    </tr>\n",
       "    <tr>\n",
       "      <th>9197</th>\n",
       "      <td>2023-06-03 22:30:00</td>\n",
       "      <td>espn.com</td>\n",
       "      <td>Greg Wyshynski</td>\n",
       "      <td>NHL reveals 'unprecedented' twin bill of outdo...</td>\n",
       "      <td>news</td>\n",
       "      <td>The 2024 NHL Stadium Series will be held at Me...</td>\n",
       "      <td>\"the\"</td>\n",
       "    </tr>\n",
       "    <tr>\n",
       "      <th>9198</th>\n",
       "      <td>2023-05-29 17:09:07</td>\n",
       "      <td>nypost.com</td>\n",
       "      <td>Emily Crane</td>\n",
       "      <td>Debt ceiling deal: What is it and what does it...</td>\n",
       "      <td>news</td>\n",
       "      <td>Just days before the US could start to run out...</td>\n",
       "      <td>\"the\"</td>\n",
       "    </tr>\n",
       "    <tr>\n",
       "      <th>9199</th>\n",
       "      <td>2023-06-03 00:09:32</td>\n",
       "      <td>nypost.com</td>\n",
       "      <td>Mark Skousen</td>\n",
       "      <td>Thank Adam Smith for our prosperity — and hope...</td>\n",
       "      <td>news</td>\n",
       "      <td>Thank a Scot for our 100-fold increase in Amer...</td>\n",
       "      <td>\"the\"</td>\n",
       "    </tr>\n",
       "  </tbody>\n",
       "</table>\n",
       "<p>9200 rows × 7 columns</p>\n",
       "</div>"
      ],
      "text/plain": [
       "                     date          url            author  \\\n",
       "0     2023-06-01 13:55:00    yahoo.com         Valoe Oyj   \n",
       "1     2023-06-02 14:45:00      msn.com  Park Ranger John   \n",
       "2     2023-05-31 21:00:00      msn.com  Kudanisar Shrine   \n",
       "3     2023-06-04 00:00:00     mdpi.com       Jozef Vlček   \n",
       "4     2023-05-31 00:00:00     mdpi.com   Stefania Fedyay   \n",
       "...                   ...          ...               ...   \n",
       "9195  2023-05-29 14:34:57      msn.com       Sara Klimek   \n",
       "9196  2023-05-29 00:06:06  foxnews.com     Bradford Betz   \n",
       "9197  2023-06-03 22:30:00     espn.com    Greg Wyshynski   \n",
       "9198  2023-05-29 17:09:07   nypost.com       Emily Crane   \n",
       "9199  2023-06-03 00:09:32   nypost.com      Mark Skousen   \n",
       "\n",
       "                                                  title          topic  \\\n",
       "0     Valoe Corporation's Share Subscription Based o...           news   \n",
       "1     Epic Guide to Revolutionary War National Park ...         travel   \n",
       "2     Kudanisar Shrine location and walkthrough in Z...  entertainment   \n",
       "3     Analysis of a Large-Scale Physical Model of Ge...        science   \n",
       "4     Medical Support for Space Missions: The Case o...        science   \n",
       "...                                                 ...            ...   \n",
       "9195  16 Mistakes You're Making With Homemade Cheese...           news   \n",
       "9196  Biden, McCarthy reach debt ceiling deal to avo...       politics   \n",
       "9197  NHL reveals 'unprecedented' twin bill of outdo...           news   \n",
       "9198  Debt ceiling deal: What is it and what does it...           news   \n",
       "9199  Thank Adam Smith for our prosperity — and hope...           news   \n",
       "\n",
       "                                                summary      q  \n",
       "0     Valoe Corporation                Stock Exchang...  \"the\"  \n",
       "1     Epic Guide to Revolutionary War National Park ...  \"the\"  \n",
       "2     Kudanisar Shrine is located within The Legend ...  \"the\"  \n",
       "3     Department of Geotechnics, Faculty of Civil En...  \"the\"  \n",
       "4     Institute of Biomedical Problems (IBMP), Russi...  \"the\"  \n",
       "...                                                 ...    ...  \n",
       "9195  Although cheesecake technically isn't consider...  \"the\"  \n",
       "9196  President Biden and House Speaker \\nKevin McCa...  \"the\"  \n",
       "9197  The 2024 NHL Stadium Series will be held at Me...  \"the\"  \n",
       "9198  Just days before the US could start to run out...  \"the\"  \n",
       "9199  Thank a Scot for our 100-fold increase in Amer...  \"the\"  \n",
       "\n",
       "[9200 rows x 7 columns]"
      ]
     },
     "execution_count": 11,
     "metadata": {},
     "output_type": "execute_result"
    }
   ],
   "source": [
    "df_news"
   ]
  },
  {
   "cell_type": "code",
   "execution_count": 12,
   "metadata": {},
   "outputs": [],
   "source": [
    "df_news.to_csv(r'C:\\Users\\Sten\\Documents\\EUR BAM\\Thesis\\data\\news\\general2.csv', index=False)"
   ]
  }
 ],
 "metadata": {
  "kernelspec": {
   "display_name": "Python 3",
   "language": "python",
   "name": "python3"
  },
  "language_info": {
   "codemirror_mode": {
    "name": "ipython",
    "version": 3
   },
   "file_extension": ".py",
   "mimetype": "text/x-python",
   "name": "python",
   "nbconvert_exporter": "python",
   "pygments_lexer": "ipython3",
   "version": "3.9.16"
  },
  "orig_nbformat": 4
 },
 "nbformat": 4,
 "nbformat_minor": 2
}
