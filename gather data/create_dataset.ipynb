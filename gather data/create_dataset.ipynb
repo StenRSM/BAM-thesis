{
 "cells": [
  {
   "attachments": {},
   "cell_type": "markdown",
   "metadata": {},
   "source": [
    "# Create dataset to train detectors"
   ]
  },
  {
   "cell_type": "code",
   "execution_count": 1,
   "metadata": {},
   "outputs": [],
   "source": [
    "import pandas as pd"
   ]
  },
  {
   "cell_type": "code",
   "execution_count": 2,
   "metadata": {},
   "outputs": [],
   "source": [
    "df_webtext = pd.read_json(r'C:\\Users\\Sten\\Documents\\EUR BAM\\Thesis\\data\\webtext.train.jsonl', lines=True)\n",
    "df_gpt = pd.read_json(r'C:\\Users\\Sten\\Documents\\EUR BAM\\Thesis\\data\\xl-1542M-k40.train.jsonl', lines=True)"
   ]
  },
  {
   "cell_type": "code",
   "execution_count": 3,
   "metadata": {},
   "outputs": [],
   "source": [
    "df_webtext['label'] = 0\n",
    "df_gpt['label'] = 1"
   ]
  },
  {
   "cell_type": "code",
   "execution_count": 4,
   "metadata": {},
   "outputs": [
    {
     "data": {
      "text/html": [
       "<div>\n",
       "<style scoped>\n",
       "    .dataframe tbody tr th:only-of-type {\n",
       "        vertical-align: middle;\n",
       "    }\n",
       "\n",
       "    .dataframe tbody tr th {\n",
       "        vertical-align: top;\n",
       "    }\n",
       "\n",
       "    .dataframe thead th {\n",
       "        text-align: right;\n",
       "    }\n",
       "</style>\n",
       "<table border=\"1\" class=\"dataframe\">\n",
       "  <thead>\n",
       "    <tr style=\"text-align: right;\">\n",
       "      <th></th>\n",
       "      <th>text</th>\n",
       "      <th>label</th>\n",
       "    </tr>\n",
       "  </thead>\n",
       "  <tbody>\n",
       "    <tr>\n",
       "      <th>0</th>\n",
       "      <td>These girlfriends deserves a special mention f...</td>\n",
       "      <td>0</td>\n",
       "    </tr>\n",
       "    <tr>\n",
       "      <th>1</th>\n",
       "      <td>LeSean McCoy going through warmups with first ...</td>\n",
       "      <td>0</td>\n",
       "    </tr>\n",
       "    <tr>\n",
       "      <th>2</th>\n",
       "      <td>Tom Curran has been called up to England's Ash...</td>\n",
       "      <td>0</td>\n",
       "    </tr>\n",
       "    <tr>\n",
       "      <th>3</th>\n",
       "      <td>We'll have turkey on the table Thursday but, a...</td>\n",
       "      <td>0</td>\n",
       "    </tr>\n",
       "    <tr>\n",
       "      <th>4</th>\n",
       "      <td>The 1945 Sinkings of the Cap Arcona and the Th...</td>\n",
       "      <td>0</td>\n",
       "    </tr>\n",
       "    <tr>\n",
       "      <th>...</th>\n",
       "      <td>...</td>\n",
       "      <td>...</td>\n",
       "    </tr>\n",
       "    <tr>\n",
       "      <th>499995</th>\n",
       "      <td>There are a lot of things that I don't like ab...</td>\n",
       "      <td>1</td>\n",
       "    </tr>\n",
       "    <tr>\n",
       "      <th>499996</th>\n",
       "      <td>A year after an unprecedented public outcry ag...</td>\n",
       "      <td>1</td>\n",
       "    </tr>\n",
       "    <tr>\n",
       "      <th>499997</th>\n",
       "      <td>Battles Between the English and the Scots\\n\\nT...</td>\n",
       "      <td>1</td>\n",
       "    </tr>\n",
       "    <tr>\n",
       "      <th>499998</th>\n",
       "      <td>Kurt Rambis is the new head coach of the Knick...</td>\n",
       "      <td>1</td>\n",
       "    </tr>\n",
       "    <tr>\n",
       "      <th>499999</th>\n",
       "      <td>\"To be a leader... you need to do this or that...</td>\n",
       "      <td>1</td>\n",
       "    </tr>\n",
       "  </tbody>\n",
       "</table>\n",
       "<p>500000 rows × 2 columns</p>\n",
       "</div>"
      ],
      "text/plain": [
       "                                                     text  label\n",
       "0       These girlfriends deserves a special mention f...      0\n",
       "1       LeSean McCoy going through warmups with first ...      0\n",
       "2       Tom Curran has been called up to England's Ash...      0\n",
       "3       We'll have turkey on the table Thursday but, a...      0\n",
       "4       The 1945 Sinkings of the Cap Arcona and the Th...      0\n",
       "...                                                   ...    ...\n",
       "499995  There are a lot of things that I don't like ab...      1\n",
       "499996  A year after an unprecedented public outcry ag...      1\n",
       "499997  Battles Between the English and the Scots\\n\\nT...      1\n",
       "499998  Kurt Rambis is the new head coach of the Knick...      1\n",
       "499999  \"To be a leader... you need to do this or that...      1\n",
       "\n",
       "[500000 rows x 2 columns]"
      ]
     },
     "execution_count": 4,
     "metadata": {},
     "output_type": "execute_result"
    }
   ],
   "source": [
    "df = pd.concat([df_webtext[['text', 'label']], df_gpt[['text', 'label']]], axis=0).reset_index(drop=True)\n",
    "df"
   ]
  },
  {
   "cell_type": "code",
   "execution_count": 7,
   "metadata": {},
   "outputs": [],
   "source": [
    "df.to_csv(r'C:\\Users\\Sten\\Documents\\EUR BAM\\Thesis\\data\\data_v1.csv', index=False)"
   ]
  },
  {
   "attachments": {},
   "cell_type": "markdown",
   "metadata": {},
   "source": [
    "## Test data"
   ]
  },
  {
   "cell_type": "code",
   "execution_count": 3,
   "metadata": {},
   "outputs": [],
   "source": [
    "df_webtext_test = pd.read_json(r'C:\\Users\\Sten\\Documents\\EUR BAM\\Thesis\\data\\webtext.test.jsonl', lines=True)\n",
    "df_gpt_test = pd.read_json(r'C:\\Users\\Sten\\Documents\\EUR BAM\\Thesis\\data\\xl-1542M-k40.test.jsonl', lines=True)"
   ]
  },
  {
   "cell_type": "code",
   "execution_count": 4,
   "metadata": {},
   "outputs": [],
   "source": [
    "df_webtext_test['label'] = 0\n",
    "df_gpt_test['label'] = 1"
   ]
  },
  {
   "cell_type": "code",
   "execution_count": 5,
   "metadata": {},
   "outputs": [
    {
     "data": {
      "text/html": [
       "<div>\n",
       "<style scoped>\n",
       "    .dataframe tbody tr th:only-of-type {\n",
       "        vertical-align: middle;\n",
       "    }\n",
       "\n",
       "    .dataframe tbody tr th {\n",
       "        vertical-align: top;\n",
       "    }\n",
       "\n",
       "    .dataframe thead th {\n",
       "        text-align: right;\n",
       "    }\n",
       "</style>\n",
       "<table border=\"1\" class=\"dataframe\">\n",
       "  <thead>\n",
       "    <tr style=\"text-align: right;\">\n",
       "      <th></th>\n",
       "      <th>text</th>\n",
       "      <th>label</th>\n",
       "    </tr>\n",
       "  </thead>\n",
       "  <tbody>\n",
       "    <tr>\n",
       "      <th>0</th>\n",
       "      <td>Is this restaurant family-friendly ? Yes No Un...</td>\n",
       "      <td>0</td>\n",
       "    </tr>\n",
       "    <tr>\n",
       "      <th>1</th>\n",
       "      <td>Clinton talks about her time of 'reflection' d...</td>\n",
       "      <td>0</td>\n",
       "    </tr>\n",
       "    <tr>\n",
       "      <th>2</th>\n",
       "      <td>House Majority Whip Steve Scalise has been dis...</td>\n",
       "      <td>0</td>\n",
       "    </tr>\n",
       "    <tr>\n",
       "      <th>3</th>\n",
       "      <td>Insight Course: Lesson 14\\n\\nControl of the Mi...</td>\n",
       "      <td>0</td>\n",
       "    </tr>\n",
       "    <tr>\n",
       "      <th>4</th>\n",
       "      <td>BY JENNIE MCNULTY\\n\\nLesbian.com\\n\\nYou know W...</td>\n",
       "      <td>0</td>\n",
       "    </tr>\n",
       "    <tr>\n",
       "      <th>...</th>\n",
       "      <td>...</td>\n",
       "      <td>...</td>\n",
       "    </tr>\n",
       "    <tr>\n",
       "      <th>9995</th>\n",
       "      <td>How to make your life with your little ones ea...</td>\n",
       "      <td>1</td>\n",
       "    </tr>\n",
       "    <tr>\n",
       "      <th>9996</th>\n",
       "      <td>This isn't the first time I see this particula...</td>\n",
       "      <td>1</td>\n",
       "    </tr>\n",
       "    <tr>\n",
       "      <th>9997</th>\n",
       "      <td>AUSTIN, Texas – The NCAA on Friday approved th...</td>\n",
       "      <td>1</td>\n",
       "    </tr>\n",
       "    <tr>\n",
       "      <th>9998</th>\n",
       "      <td>In the previous blog post, I discussed the gen...</td>\n",
       "      <td>1</td>\n",
       "    </tr>\n",
       "    <tr>\n",
       "      <th>9999</th>\n",
       "      <td>It is a common observation, in certain circles...</td>\n",
       "      <td>1</td>\n",
       "    </tr>\n",
       "  </tbody>\n",
       "</table>\n",
       "<p>10000 rows × 2 columns</p>\n",
       "</div>"
      ],
      "text/plain": [
       "                                                   text  label\n",
       "0     Is this restaurant family-friendly ? Yes No Un...      0\n",
       "1     Clinton talks about her time of 'reflection' d...      0\n",
       "2     House Majority Whip Steve Scalise has been dis...      0\n",
       "3     Insight Course: Lesson 14\\n\\nControl of the Mi...      0\n",
       "4     BY JENNIE MCNULTY\\n\\nLesbian.com\\n\\nYou know W...      0\n",
       "...                                                 ...    ...\n",
       "9995  How to make your life with your little ones ea...      1\n",
       "9996  This isn't the first time I see this particula...      1\n",
       "9997  AUSTIN, Texas – The NCAA on Friday approved th...      1\n",
       "9998  In the previous blog post, I discussed the gen...      1\n",
       "9999  It is a common observation, in certain circles...      1\n",
       "\n",
       "[10000 rows x 2 columns]"
      ]
     },
     "execution_count": 5,
     "metadata": {},
     "output_type": "execute_result"
    }
   ],
   "source": [
    "df_test = pd.concat([df_webtext_test[['text', 'label']], df_gpt_test[['text', 'label']]], axis=0).reset_index(drop=True)\n",
    "df_test"
   ]
  },
  {
   "cell_type": "code",
   "execution_count": 7,
   "metadata": {},
   "outputs": [],
   "source": [
    "df_test.to_csv(r'C:\\Users\\Sten\\Documents\\EUR BAM\\Thesis\\data\\data_test_v1.csv', index=False)"
   ]
  },
  {
   "cell_type": "markdown",
   "metadata": {},
   "source": [
    "## Get additional human generated texts from validation dataset for futher analysis"
   ]
  },
  {
   "cell_type": "code",
   "execution_count": 2,
   "metadata": {},
   "outputs": [],
   "source": [
    "df_webtext_valid = pd.read_json(r'C:\\Users\\Sten\\Documents\\EUR BAM\\Thesis\\data\\webtext.valid.jsonl', lines=True)"
   ]
  },
  {
   "cell_type": "code",
   "execution_count": 3,
   "metadata": {},
   "outputs": [
    {
     "data": {
      "text/html": [
       "<div>\n",
       "<style scoped>\n",
       "    .dataframe tbody tr th:only-of-type {\n",
       "        vertical-align: middle;\n",
       "    }\n",
       "\n",
       "    .dataframe tbody tr th {\n",
       "        vertical-align: top;\n",
       "    }\n",
       "\n",
       "    .dataframe thead th {\n",
       "        text-align: right;\n",
       "    }\n",
       "</style>\n",
       "<table border=\"1\" class=\"dataframe\">\n",
       "  <thead>\n",
       "    <tr style=\"text-align: right;\">\n",
       "      <th></th>\n",
       "      <th>id</th>\n",
       "      <th>ended</th>\n",
       "      <th>length</th>\n",
       "      <th>text</th>\n",
       "    </tr>\n",
       "  </thead>\n",
       "  <tbody>\n",
       "    <tr>\n",
       "      <th>0</th>\n",
       "      <td>250000</td>\n",
       "      <td>True</td>\n",
       "      <td>82</td>\n",
       "      <td>This author has not credited anyone else in th...</td>\n",
       "    </tr>\n",
       "    <tr>\n",
       "      <th>1</th>\n",
       "      <td>250001</td>\n",
       "      <td>True</td>\n",
       "      <td>309</td>\n",
       "      <td>A medium-power earthquake with a magnitude of ...</td>\n",
       "    </tr>\n",
       "    <tr>\n",
       "      <th>2</th>\n",
       "      <td>250002</td>\n",
       "      <td>False</td>\n",
       "      <td>1024</td>\n",
       "      <td>Seeking to track down some of the 40 to 60 tee...</td>\n",
       "    </tr>\n",
       "    <tr>\n",
       "      <th>3</th>\n",
       "      <td>250003</td>\n",
       "      <td>True</td>\n",
       "      <td>514</td>\n",
       "      <td>Syracuse, NY -- Two victims of a burglary that...</td>\n",
       "    </tr>\n",
       "    <tr>\n",
       "      <th>4</th>\n",
       "      <td>250004</td>\n",
       "      <td>True</td>\n",
       "      <td>236</td>\n",
       "      <td>The DNC issues a formal apology to Bernie Sand...</td>\n",
       "    </tr>\n",
       "    <tr>\n",
       "      <th>...</th>\n",
       "      <td>...</td>\n",
       "      <td>...</td>\n",
       "      <td>...</td>\n",
       "      <td>...</td>\n",
       "    </tr>\n",
       "    <tr>\n",
       "      <th>4995</th>\n",
       "      <td>254995</td>\n",
       "      <td>True</td>\n",
       "      <td>201</td>\n",
       "      <td>The man injured in a stabbing at a Northwest P...</td>\n",
       "    </tr>\n",
       "    <tr>\n",
       "      <th>4996</th>\n",
       "      <td>254996</td>\n",
       "      <td>True</td>\n",
       "      <td>974</td>\n",
       "      <td>Recent events, like the tragic explosion in La...</td>\n",
       "    </tr>\n",
       "    <tr>\n",
       "      <th>4997</th>\n",
       "      <td>254997</td>\n",
       "      <td>False</td>\n",
       "      <td>1024</td>\n",
       "      <td>Spanish has far fewer homophones — different w...</td>\n",
       "    </tr>\n",
       "    <tr>\n",
       "      <th>4998</th>\n",
       "      <td>254998</td>\n",
       "      <td>False</td>\n",
       "      <td>1024</td>\n",
       "      <td>We're in a Sundar Pichai moment.\\n\\nIt's the w...</td>\n",
       "    </tr>\n",
       "    <tr>\n",
       "      <th>4999</th>\n",
       "      <td>254999</td>\n",
       "      <td>False</td>\n",
       "      <td>1024</td>\n",
       "      <td>Our Sister Republics is a book about the histo...</td>\n",
       "    </tr>\n",
       "  </tbody>\n",
       "</table>\n",
       "<p>5000 rows × 4 columns</p>\n",
       "</div>"
      ],
      "text/plain": [
       "          id  ended  length                                               text\n",
       "0     250000   True      82  This author has not credited anyone else in th...\n",
       "1     250001   True     309  A medium-power earthquake with a magnitude of ...\n",
       "2     250002  False    1024  Seeking to track down some of the 40 to 60 tee...\n",
       "3     250003   True     514  Syracuse, NY -- Two victims of a burglary that...\n",
       "4     250004   True     236  The DNC issues a formal apology to Bernie Sand...\n",
       "...      ...    ...     ...                                                ...\n",
       "4995  254995   True     201  The man injured in a stabbing at a Northwest P...\n",
       "4996  254996   True     974  Recent events, like the tragic explosion in La...\n",
       "4997  254997  False    1024  Spanish has far fewer homophones — different w...\n",
       "4998  254998  False    1024  We're in a Sundar Pichai moment.\\n\\nIt's the w...\n",
       "4999  254999  False    1024  Our Sister Republics is a book about the histo...\n",
       "\n",
       "[5000 rows x 4 columns]"
      ]
     },
     "execution_count": 3,
     "metadata": {},
     "output_type": "execute_result"
    }
   ],
   "source": [
    "df_webtext_valid"
   ]
  },
  {
   "cell_type": "code",
   "execution_count": 5,
   "metadata": {},
   "outputs": [],
   "source": [
    "df_webtext_valid.to_csv(r'C:\\Users\\Sten\\Documents\\EUR BAM\\Thesis\\data\\human_text1.csv', index=False)"
   ]
  }
 ],
 "metadata": {
  "kernelspec": {
   "display_name": "Python 3",
   "language": "python",
   "name": "python3"
  },
  "language_info": {
   "codemirror_mode": {
    "name": "ipython",
    "version": 3
   },
   "file_extension": ".py",
   "mimetype": "text/x-python",
   "name": "python",
   "nbconvert_exporter": "python",
   "pygments_lexer": "ipython3",
   "version": "3.9.16"
  },
  "orig_nbformat": 4
 },
 "nbformat": 4,
 "nbformat_minor": 2
}
