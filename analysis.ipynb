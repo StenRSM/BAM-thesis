{
 "cells": [
  {
   "attachments": {},
   "cell_type": "markdown",
   "metadata": {},
   "source": [
    "# Analysis on predicted values"
   ]
  },
  {
   "cell_type": "code",
   "execution_count": 1,
   "metadata": {},
   "outputs": [],
   "source": [
    "import pandas as pd\n",
    "from scipy.stats import ttest_ind"
   ]
  },
  {
   "cell_type": "code",
   "execution_count": 3,
   "metadata": {},
   "outputs": [],
   "source": [
    "# pred_finance = pd.read_csv(r'C:\\Users\\Sten\\Documents\\EUR BAM\\Thesis\\data\\predictions\\finance_predicted_LR1.csv')\n",
    "# pred_sport = pd.read_csv(r'C:\\Users\\Sten\\Documents\\EUR BAM\\Thesis\\data\\predictions\\sport_predicted_LR1.csv')\n",
    "# pred_election = pd.read_csv(r'C:\\Users\\Sten\\Documents\\EUR BAM\\Thesis\\data\\predictions\\election_predicted_LR1.csv')\n",
    "# pred_general = pd.read_csv(r'C:\\Users\\Sten\\Documents\\EUR BAM\\Thesis\\data\\predictions\\general_predicted_LR1.csv')"
   ]
  },
  {
   "cell_type": "code",
   "execution_count": 3,
   "metadata": {},
   "outputs": [],
   "source": [
    "pred_finance = pd.read_csv(r'C:\\Users\\Sten\\Documents\\EUR BAM\\Thesis\\data\\predictions\\finance_predicted_LLM1.csv')\n",
    "pred_sport = pd.read_csv(r'C:\\Users\\Sten\\Documents\\EUR BAM\\Thesis\\data\\predictions\\sport_predicted_LLM1.csv')\n",
    "pred_election = pd.read_csv(r'C:\\Users\\Sten\\Documents\\EUR BAM\\Thesis\\data\\predictions\\election_predicted_LLM1.csv')\n",
    "pred_general = pd.read_csv(r'C:\\Users\\Sten\\Documents\\EUR BAM\\Thesis\\data\\predictions\\general_predicted_LLM1.csv')\n",
    "\n",
    "pred_finance['1'] = pred_finance['predictions']\n",
    "pred_sport['1'] = pred_sport['predictions']\n",
    "pred_election['1'] = pred_election['predictions']\n",
    "pred_general['1'] = pred_general['predictions']"
   ]
  },
  {
   "cell_type": "code",
   "execution_count": 8,
   "metadata": {},
   "outputs": [
    {
     "data": {
      "text/html": [
       "<div>\n",
       "<style scoped>\n",
       "    .dataframe tbody tr th:only-of-type {\n",
       "        vertical-align: middle;\n",
       "    }\n",
       "\n",
       "    .dataframe tbody tr th {\n",
       "        vertical-align: top;\n",
       "    }\n",
       "\n",
       "    .dataframe thead th {\n",
       "        text-align: right;\n",
       "    }\n",
       "</style>\n",
       "<table border=\"1\" class=\"dataframe\">\n",
       "  <thead>\n",
       "    <tr style=\"text-align: right;\">\n",
       "      <th></th>\n",
       "      <th>index</th>\n",
       "      <th>date</th>\n",
       "      <th>url</th>\n",
       "      <th>author</th>\n",
       "      <th>title</th>\n",
       "      <th>topic</th>\n",
       "      <th>summary</th>\n",
       "      <th>q</th>\n",
       "      <th>predictions</th>\n",
       "      <th>1</th>\n",
       "    </tr>\n",
       "  </thead>\n",
       "  <tbody>\n",
       "    <tr>\n",
       "      <th>0</th>\n",
       "      <td>4127</td>\n",
       "      <td>2023-06-01 19:30:00</td>\n",
       "      <td>msn.com</td>\n",
       "      <td>More Law&amp;Crime coverage</td>\n",
       "      <td>Woman arrested for allegedly sending her dog t...</td>\n",
       "      <td>news</td>\n",
       "      <td>Braquelle Lynn Rutherford appears in a mugshot...</td>\n",
       "      <td>\"the\"</td>\n",
       "      <td>0.004418</td>\n",
       "      <td>0.004418</td>\n",
       "    </tr>\n",
       "    <tr>\n",
       "      <th>1</th>\n",
       "      <td>7018</td>\n",
       "      <td>2023-05-31 11:14:47</td>\n",
       "      <td>indianexpress.com</td>\n",
       "      <td>Express Web Desk</td>\n",
       "      <td>Hindu worshippers' plea on right to pray in Gy...</td>\n",
       "      <td>news</td>\n",
       "      <td>Allowing the case to continue before a local V...</td>\n",
       "      <td>\"the\"</td>\n",
       "      <td>0.000118</td>\n",
       "      <td>0.000118</td>\n",
       "    </tr>\n",
       "    <tr>\n",
       "      <th>2</th>\n",
       "      <td>685</td>\n",
       "      <td>2023-06-04 16:15:57</td>\n",
       "      <td>yahoo.com</td>\n",
       "      <td>India McTaggart</td>\n",
       "      <td>King Charles hails ‘reassuring presence' of tr...</td>\n",
       "      <td>news</td>\n",
       "      <td>The King has hailed the 'enduring and reassuri...</td>\n",
       "      <td>\"the\"</td>\n",
       "      <td>0.834189</td>\n",
       "      <td>0.834189</td>\n",
       "    </tr>\n",
       "    <tr>\n",
       "      <th>3</th>\n",
       "      <td>2831</td>\n",
       "      <td>2023-06-02 19:30:00</td>\n",
       "      <td>msn.com</td>\n",
       "      <td>NaN</td>\n",
       "      <td>This is how Lady Louise earns her money</td>\n",
       "      <td>news</td>\n",
       "      <td>Lady Louise, the daughter of Britain's Prince ...</td>\n",
       "      <td>\"the\"</td>\n",
       "      <td>0.931374</td>\n",
       "      <td>0.931374</td>\n",
       "    </tr>\n",
       "    <tr>\n",
       "      <th>4</th>\n",
       "      <td>2003</td>\n",
       "      <td>2023-06-02 14:43:34</td>\n",
       "      <td>msn.com</td>\n",
       "      <td>Craig Minami</td>\n",
       "      <td>Diego Cartaya homers again Tulsa's comeback win</td>\n",
       "      <td>news</td>\n",
       "      <td>Oklahoma City and Tulsa were able overcome lea...</td>\n",
       "      <td>\"the\"</td>\n",
       "      <td>0.003672</td>\n",
       "      <td>0.003672</td>\n",
       "    </tr>\n",
       "    <tr>\n",
       "      <th>...</th>\n",
       "      <td>...</td>\n",
       "      <td>...</td>\n",
       "      <td>...</td>\n",
       "      <td>...</td>\n",
       "      <td>...</td>\n",
       "      <td>...</td>\n",
       "      <td>...</td>\n",
       "      <td>...</td>\n",
       "      <td>...</td>\n",
       "      <td>...</td>\n",
       "    </tr>\n",
       "    <tr>\n",
       "      <th>7340</th>\n",
       "      <td>693</td>\n",
       "      <td>2023-06-03 09:18:00</td>\n",
       "      <td>yahoo.com</td>\n",
       "      <td>Reuters</td>\n",
       "      <td>Transfer of holy icon shows Russian Orthodoxy'...</td>\n",
       "      <td>news</td>\n",
       "      <td>MOSCOW, June 3 (Reuters) - President Vladimir ...</td>\n",
       "      <td>\"the\"</td>\n",
       "      <td>0.000574</td>\n",
       "      <td>0.000574</td>\n",
       "    </tr>\n",
       "    <tr>\n",
       "      <th>7341</th>\n",
       "      <td>1808</td>\n",
       "      <td>2023-05-30 00:00:00</td>\n",
       "      <td>mdpi.com</td>\n",
       "      <td>Mei Yu</td>\n",
       "      <td>A Shallow Pooled Weighted Feature Enhancement ...</td>\n",
       "      <td>science</td>\n",
       "      <td>College of Computer and Technology, China Thre...</td>\n",
       "      <td>\"the\"</td>\n",
       "      <td>0.000224</td>\n",
       "      <td>0.000224</td>\n",
       "    </tr>\n",
       "    <tr>\n",
       "      <th>7342</th>\n",
       "      <td>1040</td>\n",
       "      <td>2023-06-04 17:03:08</td>\n",
       "      <td>nytimes.com</td>\n",
       "      <td>Isabel Kershner</td>\n",
       "      <td>In Israel, Tough Questions Follow Fatal Attack...</td>\n",
       "      <td>news</td>\n",
       "      <td>A breached emergency gate at Israel's southern...</td>\n",
       "      <td>\"the\"</td>\n",
       "      <td>0.001623</td>\n",
       "      <td>0.001623</td>\n",
       "    </tr>\n",
       "    <tr>\n",
       "      <th>7343</th>\n",
       "      <td>3234</td>\n",
       "      <td>2023-05-30 11:19:48</td>\n",
       "      <td>dailymail.co.uk</td>\n",
       "      <td>Allan Glen</td>\n",
       "      <td>Ex-ferryman's cottage measuring just 232sq ft ...</td>\n",
       "      <td>business</td>\n",
       "      <td>Published:    07:19 EDT, 30 May 2023     |    ...</td>\n",
       "      <td>\"the\"</td>\n",
       "      <td>0.008083</td>\n",
       "      <td>0.008083</td>\n",
       "    </tr>\n",
       "    <tr>\n",
       "      <th>7344</th>\n",
       "      <td>311</td>\n",
       "      <td>2023-05-30 21:52:04</td>\n",
       "      <td>yahoo.com</td>\n",
       "      <td>Logan Nye</td>\n",
       "      <td>The German convoy attack that helped lead to t...</td>\n",
       "      <td>news</td>\n",
       "      <td>How did the relationship with the other Allies...</td>\n",
       "      <td>\"the\"</td>\n",
       "      <td>0.898516</td>\n",
       "      <td>0.898516</td>\n",
       "    </tr>\n",
       "  </tbody>\n",
       "</table>\n",
       "<p>7345 rows × 10 columns</p>\n",
       "</div>"
      ],
      "text/plain": [
       "      index                 date                url                   author  \\\n",
       "0      4127  2023-06-01 19:30:00            msn.com  More Law&Crime coverage   \n",
       "1      7018  2023-05-31 11:14:47  indianexpress.com         Express Web Desk   \n",
       "2       685  2023-06-04 16:15:57          yahoo.com          India McTaggart   \n",
       "3      2831  2023-06-02 19:30:00            msn.com                      NaN   \n",
       "4      2003  2023-06-02 14:43:34            msn.com             Craig Minami   \n",
       "...     ...                  ...                ...                      ...   \n",
       "7340    693  2023-06-03 09:18:00          yahoo.com                  Reuters   \n",
       "7341   1808  2023-05-30 00:00:00           mdpi.com                   Mei Yu   \n",
       "7342   1040  2023-06-04 17:03:08        nytimes.com          Isabel Kershner   \n",
       "7343   3234  2023-05-30 11:19:48    dailymail.co.uk               Allan Glen   \n",
       "7344    311  2023-05-30 21:52:04          yahoo.com                Logan Nye   \n",
       "\n",
       "                                                  title     topic  \\\n",
       "0     Woman arrested for allegedly sending her dog t...      news   \n",
       "1     Hindu worshippers' plea on right to pray in Gy...      news   \n",
       "2     King Charles hails ‘reassuring presence' of tr...      news   \n",
       "3               This is how Lady Louise earns her money      news   \n",
       "4       Diego Cartaya homers again Tulsa's comeback win      news   \n",
       "...                                                 ...       ...   \n",
       "7340  Transfer of holy icon shows Russian Orthodoxy'...      news   \n",
       "7341  A Shallow Pooled Weighted Feature Enhancement ...   science   \n",
       "7342  In Israel, Tough Questions Follow Fatal Attack...      news   \n",
       "7343  Ex-ferryman's cottage measuring just 232sq ft ...  business   \n",
       "7344  The German convoy attack that helped lead to t...      news   \n",
       "\n",
       "                                                summary      q  predictions  \\\n",
       "0     Braquelle Lynn Rutherford appears in a mugshot...  \"the\"     0.004418   \n",
       "1     Allowing the case to continue before a local V...  \"the\"     0.000118   \n",
       "2     The King has hailed the 'enduring and reassuri...  \"the\"     0.834189   \n",
       "3     Lady Louise, the daughter of Britain's Prince ...  \"the\"     0.931374   \n",
       "4     Oklahoma City and Tulsa were able overcome lea...  \"the\"     0.003672   \n",
       "...                                                 ...    ...          ...   \n",
       "7340  MOSCOW, June 3 (Reuters) - President Vladimir ...  \"the\"     0.000574   \n",
       "7341  College of Computer and Technology, China Thre...  \"the\"     0.000224   \n",
       "7342  A breached emergency gate at Israel's southern...  \"the\"     0.001623   \n",
       "7343  Published:    07:19 EDT, 30 May 2023     |    ...  \"the\"     0.008083   \n",
       "7344  How did the relationship with the other Allies...  \"the\"     0.898516   \n",
       "\n",
       "             1  \n",
       "0     0.004418  \n",
       "1     0.000118  \n",
       "2     0.834189  \n",
       "3     0.931374  \n",
       "4     0.003672  \n",
       "...        ...  \n",
       "7340  0.000574  \n",
       "7341  0.000224  \n",
       "7342  0.001623  \n",
       "7343  0.008083  \n",
       "7344  0.898516  \n",
       "\n",
       "[7345 rows x 10 columns]"
      ]
     },
     "execution_count": 8,
     "metadata": {},
     "output_type": "execute_result"
    }
   ],
   "source": [
    "pred_general"
   ]
  },
  {
   "cell_type": "code",
   "execution_count": 4,
   "metadata": {},
   "outputs": [
    {
     "name": "stdout",
     "output_type": "stream",
     "text": [
      "Average likelikhood of general news:  0.1542\n",
      "Average likelikhood of financial news:  0.2159\n",
      "Average likelikhood of sports news:  0.186\n",
      "Average likelikhood of election news:  0.201\n"
     ]
    }
   ],
   "source": [
    "print('Average likelikhood of general news: ' , pred_general['1'].mean().round(4))\n",
    "print('Average likelikhood of financial news: ' , pred_finance['1'].mean().round(4))\n",
    "print('Average likelikhood of sports news: ' , pred_sport['1'].mean().round(4))\n",
    "print('Average likelikhood of election news: ' , pred_election['1'].mean().round(4))"
   ]
  },
  {
   "cell_type": "code",
   "execution_count": 5,
   "metadata": {},
   "outputs": [
    {
     "name": "stdout",
     "output_type": "stream",
     "text": [
      "8.281824813837419\n",
      "1.369143882490157e-16\n"
     ]
    }
   ],
   "source": [
    "t_statistic, p_value = ttest_ind(pred_finance['1'], pred_general['1'])\n",
    "print(t_statistic)\n",
    "print(p_value)"
   ]
  },
  {
   "cell_type": "code",
   "execution_count": 6,
   "metadata": {},
   "outputs": [
    {
     "name": "stdout",
     "output_type": "stream",
     "text": [
      "4.550603559929435\n",
      "5.410310432396939e-06\n"
     ]
    }
   ],
   "source": [
    "t_statistic, p_value = ttest_ind(pred_sport['1'], pred_general['1'])\n",
    "print(t_statistic)\n",
    "print(p_value)"
   ]
  },
  {
   "cell_type": "code",
   "execution_count": 7,
   "metadata": {},
   "outputs": [
    {
     "name": "stdout",
     "output_type": "stream",
     "text": [
      "6.673771968071049\n",
      "2.6201102461941682e-11\n"
     ]
    }
   ],
   "source": [
    "t_statistic, p_value = ttest_ind(pred_election['1'], pred_general['1'])\n",
    "print(t_statistic)\n",
    "print(p_value)"
   ]
  }
 ],
 "metadata": {
  "kernelspec": {
   "display_name": "Python 3",
   "language": "python",
   "name": "python3"
  },
  "language_info": {
   "codemirror_mode": {
    "name": "ipython",
    "version": 3
   },
   "file_extension": ".py",
   "mimetype": "text/x-python",
   "name": "python",
   "nbconvert_exporter": "python",
   "pygments_lexer": "ipython3",
   "version": "3.9.16"
  },
  "orig_nbformat": 4
 },
 "nbformat": 4,
 "nbformat_minor": 2
}
