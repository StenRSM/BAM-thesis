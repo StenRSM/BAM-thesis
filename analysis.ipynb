{
 "cells": [
  {
   "attachments": {},
   "cell_type": "markdown",
   "metadata": {},
   "source": [
    "# Analysis on predicted values"
   ]
  },
  {
   "cell_type": "code",
   "execution_count": 1,
   "metadata": {},
   "outputs": [],
   "source": [
    "import pandas as pd\n",
    "from scipy.stats import ttest_ind"
   ]
  },
  {
   "cell_type": "code",
   "execution_count": 3,
   "metadata": {},
   "outputs": [],
   "source": [
    "# pred_finance = pd.read_csv(r'C:\\Users\\Sten\\Documents\\EUR BAM\\Thesis\\data\\predictions\\finance_predicted_LR1.csv')\n",
    "# pred_sport = pd.read_csv(r'C:\\Users\\Sten\\Documents\\EUR BAM\\Thesis\\data\\predictions\\sport_predicted_LR1.csv')\n",
    "# pred_election = pd.read_csv(r'C:\\Users\\Sten\\Documents\\EUR BAM\\Thesis\\data\\predictions\\election_predicted_LR1.csv')\n",
    "# pred_general = pd.read_csv(r'C:\\Users\\Sten\\Documents\\EUR BAM\\Thesis\\data\\predictions\\general_predicted_LR1.csv')"
   ]
  },
  {
   "cell_type": "code",
   "execution_count": 3,
   "metadata": {},
   "outputs": [],
   "source": [
    "pred_finance = pd.read_csv(r'C:\\Users\\Sten\\Documents\\EUR BAM\\Thesis\\data\\predictions\\finance_predicted_LLM1.csv')\n",
    "pred_sport = pd.read_csv(r'C:\\Users\\Sten\\Documents\\EUR BAM\\Thesis\\data\\predictions\\sport_predicted_LLM1.csv')\n",
    "pred_election = pd.read_csv(r'C:\\Users\\Sten\\Documents\\EUR BAM\\Thesis\\data\\predictions\\election_predicted_LLM1.csv')\n",
    "pred_general = pd.read_csv(r'C:\\Users\\Sten\\Documents\\EUR BAM\\Thesis\\data\\predictions\\general_predicted_LLM1.csv')\n",
    "\n",
    "pred_finance['1'] = pred_finance['predictions']\n",
    "pred_sport['1'] = pred_sport['predictions']\n",
    "pred_election['1'] = pred_election['predictions']\n",
    "pred_general['1'] = pred_general['predictions']"
   ]
  },
  {
   "cell_type": "code",
   "execution_count": 4,
   "metadata": {},
   "outputs": [
    {
     "name": "stdout",
     "output_type": "stream",
     "text": [
      "Average likelikhood of general news:  0.1542\n",
      "Average likelikhood of financial news:  0.2159\n",
      "Average likelikhood of sports news:  0.186\n",
      "Average likelikhood of election news:  0.201\n"
     ]
    }
   ],
   "source": [
    "print('Average likelikhood of general news: ' , pred_general['1'].mean().round(4))\n",
    "print('Average likelikhood of financial news: ' , pred_finance['1'].mean().round(4))\n",
    "print('Average likelikhood of sports news: ' , pred_sport['1'].mean().round(4))\n",
    "print('Average likelikhood of election news: ' , pred_election['1'].mean().round(4))"
   ]
  },
  {
   "cell_type": "code",
   "execution_count": 5,
   "metadata": {},
   "outputs": [
    {
     "name": "stdout",
     "output_type": "stream",
     "text": [
      "8.281824813837419\n",
      "1.369143882490157e-16\n"
     ]
    }
   ],
   "source": [
    "t_statistic, p_value = ttest_ind(pred_finance['1'], pred_general['1'])\n",
    "print(t_statistic)\n",
    "print(p_value)"
   ]
  },
  {
   "cell_type": "code",
   "execution_count": 6,
   "metadata": {},
   "outputs": [
    {
     "name": "stdout",
     "output_type": "stream",
     "text": [
      "4.550603559929435\n",
      "5.410310432396939e-06\n"
     ]
    }
   ],
   "source": [
    "t_statistic, p_value = ttest_ind(pred_sport['1'], pred_general['1'])\n",
    "print(t_statistic)\n",
    "print(p_value)"
   ]
  },
  {
   "cell_type": "code",
   "execution_count": 7,
   "metadata": {},
   "outputs": [
    {
     "name": "stdout",
     "output_type": "stream",
     "text": [
      "6.673771968071049\n",
      "2.6201102461941682e-11\n"
     ]
    }
   ],
   "source": [
    "t_statistic, p_value = ttest_ind(pred_election['1'], pred_general['1'])\n",
    "print(t_statistic)\n",
    "print(p_value)"
   ]
  }
 ],
 "metadata": {
  "kernelspec": {
   "display_name": "Python 3",
   "language": "python",
   "name": "python3"
  },
  "language_info": {
   "codemirror_mode": {
    "name": "ipython",
    "version": 3
   },
   "file_extension": ".py",
   "mimetype": "text/x-python",
   "name": "python",
   "nbconvert_exporter": "python",
   "pygments_lexer": "ipython3",
   "version": "3.9.16"
  },
  "orig_nbformat": 4
 },
 "nbformat": 4,
 "nbformat_minor": 2
}
