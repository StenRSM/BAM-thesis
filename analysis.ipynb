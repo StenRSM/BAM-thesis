{
 "cells": [
  {
   "attachments": {},
   "cell_type": "markdown",
   "metadata": {},
   "source": [
    "# Analysis on predicted values"
   ]
  },
  {
   "cell_type": "code",
   "execution_count": 82,
   "metadata": {},
   "outputs": [],
   "source": [
    "import pandas as pd\n",
    "from scipy.stats import ttest_ind, shapiro, mannwhitneyu\n",
    "from sklearn.metrics import accuracy_score, precision_score, recall_score, f1_score\n",
    "from sklearn.feature_extraction.text import CountVectorizer, TfidfVectorizer\n",
    "import textstat\n",
    "import numpy as np"
   ]
  },
  {
   "cell_type": "code",
   "execution_count": 16,
   "metadata": {},
   "outputs": [],
   "source": [
    "def scores(y, y_pred):\n",
    "    accu = accuracy_score(y, y_pred)\n",
    "    prec = precision_score(y, y_pred)\n",
    "    rec = recall_score(y, y_pred)\n",
    "    f1 = f1_score(y, y_pred)\n",
    "\n",
    "    print('Accuracy: ', round(accu, 2))\n",
    "    print('Precision: ', round(prec, 2))\n",
    "    print('Recall: ', round(rec, 2))\n",
    "    print(\"F1 Score: \", round(f1, 2))"
   ]
  },
  {
   "cell_type": "code",
   "execution_count": 3,
   "metadata": {},
   "outputs": [],
   "source": [
    "# pred_finance = pd.read_csv(r'C:\\Users\\Sten\\Documents\\EUR BAM\\Thesis\\data\\predictions\\finance_predicted_LR1.csv')\n",
    "# pred_sport = pd.read_csv(r'C:\\Users\\Sten\\Documents\\EUR BAM\\Thesis\\data\\predictions\\sport_predicted_LR1.csv')\n",
    "# pred_election = pd.read_csv(r'C:\\Users\\Sten\\Documents\\EUR BAM\\Thesis\\data\\predictions\\election_predicted_LR1.csv')\n",
    "# pred_general = pd.read_csv(r'C:\\Users\\Sten\\Documents\\EUR BAM\\Thesis\\data\\predictions\\general_predicted_LR1.csv')"
   ]
  },
  {
   "cell_type": "code",
   "execution_count": 17,
   "metadata": {},
   "outputs": [],
   "source": [
    "pred_finance = pd.read_csv(r'C:\\Users\\Sten\\Documents\\EUR BAM\\Thesis\\data\\predictions\\finance_predicted_LLM1.csv')\n",
    "pred_sport = pd.read_csv(r'C:\\Users\\Sten\\Documents\\EUR BAM\\Thesis\\data\\predictions\\sport_predicted_LLM1.csv')\n",
    "pred_election = pd.read_csv(r'C:\\Users\\Sten\\Documents\\EUR BAM\\Thesis\\data\\predictions\\election_predicted_LLM1.csv')\n",
    "pred_general = pd.read_csv(r'C:\\Users\\Sten\\Documents\\EUR BAM\\Thesis\\data\\predictions\\general_predicted_LLM1.csv')\n",
    "\n",
    "pred_finance['1'] = pred_finance['predictions']\n",
    "pred_sport['1'] = pred_sport['predictions']\n",
    "pred_election['1'] = pred_election['predictions']\n",
    "pred_general['1'] = pred_general['predictions']"
   ]
  },
  {
   "cell_type": "code",
   "execution_count": 18,
   "metadata": {},
   "outputs": [
    {
     "data": {
      "text/html": [
       "<div>\n",
       "<style scoped>\n",
       "    .dataframe tbody tr th:only-of-type {\n",
       "        vertical-align: middle;\n",
       "    }\n",
       "\n",
       "    .dataframe tbody tr th {\n",
       "        vertical-align: top;\n",
       "    }\n",
       "\n",
       "    .dataframe thead th {\n",
       "        text-align: right;\n",
       "    }\n",
       "</style>\n",
       "<table border=\"1\" class=\"dataframe\">\n",
       "  <thead>\n",
       "    <tr style=\"text-align: right;\">\n",
       "      <th></th>\n",
       "      <th>index</th>\n",
       "      <th>date</th>\n",
       "      <th>url</th>\n",
       "      <th>author</th>\n",
       "      <th>title</th>\n",
       "      <th>topic</th>\n",
       "      <th>summary</th>\n",
       "      <th>q</th>\n",
       "      <th>predictions</th>\n",
       "      <th>1</th>\n",
       "    </tr>\n",
       "  </thead>\n",
       "  <tbody>\n",
       "    <tr>\n",
       "      <th>0</th>\n",
       "      <td>4127</td>\n",
       "      <td>2023-06-01 19:30:00</td>\n",
       "      <td>msn.com</td>\n",
       "      <td>More Law&amp;Crime coverage</td>\n",
       "      <td>Woman arrested for allegedly sending her dog t...</td>\n",
       "      <td>news</td>\n",
       "      <td>Braquelle Lynn Rutherford appears in a mugshot...</td>\n",
       "      <td>\"the\"</td>\n",
       "      <td>0.004418</td>\n",
       "      <td>0.004418</td>\n",
       "    </tr>\n",
       "    <tr>\n",
       "      <th>1</th>\n",
       "      <td>7018</td>\n",
       "      <td>2023-05-31 11:14:47</td>\n",
       "      <td>indianexpress.com</td>\n",
       "      <td>Express Web Desk</td>\n",
       "      <td>Hindu worshippers' plea on right to pray in Gy...</td>\n",
       "      <td>news</td>\n",
       "      <td>Allowing the case to continue before a local V...</td>\n",
       "      <td>\"the\"</td>\n",
       "      <td>0.000118</td>\n",
       "      <td>0.000118</td>\n",
       "    </tr>\n",
       "    <tr>\n",
       "      <th>2</th>\n",
       "      <td>685</td>\n",
       "      <td>2023-06-04 16:15:57</td>\n",
       "      <td>yahoo.com</td>\n",
       "      <td>India McTaggart</td>\n",
       "      <td>King Charles hails ‘reassuring presence' of tr...</td>\n",
       "      <td>news</td>\n",
       "      <td>The King has hailed the 'enduring and reassuri...</td>\n",
       "      <td>\"the\"</td>\n",
       "      <td>0.834189</td>\n",
       "      <td>0.834189</td>\n",
       "    </tr>\n",
       "    <tr>\n",
       "      <th>3</th>\n",
       "      <td>2831</td>\n",
       "      <td>2023-06-02 19:30:00</td>\n",
       "      <td>msn.com</td>\n",
       "      <td>NaN</td>\n",
       "      <td>This is how Lady Louise earns her money</td>\n",
       "      <td>news</td>\n",
       "      <td>Lady Louise, the daughter of Britain's Prince ...</td>\n",
       "      <td>\"the\"</td>\n",
       "      <td>0.931374</td>\n",
       "      <td>0.931374</td>\n",
       "    </tr>\n",
       "    <tr>\n",
       "      <th>4</th>\n",
       "      <td>2003</td>\n",
       "      <td>2023-06-02 14:43:34</td>\n",
       "      <td>msn.com</td>\n",
       "      <td>Craig Minami</td>\n",
       "      <td>Diego Cartaya homers again Tulsa's comeback win</td>\n",
       "      <td>news</td>\n",
       "      <td>Oklahoma City and Tulsa were able overcome lea...</td>\n",
       "      <td>\"the\"</td>\n",
       "      <td>0.003672</td>\n",
       "      <td>0.003672</td>\n",
       "    </tr>\n",
       "    <tr>\n",
       "      <th>...</th>\n",
       "      <td>...</td>\n",
       "      <td>...</td>\n",
       "      <td>...</td>\n",
       "      <td>...</td>\n",
       "      <td>...</td>\n",
       "      <td>...</td>\n",
       "      <td>...</td>\n",
       "      <td>...</td>\n",
       "      <td>...</td>\n",
       "      <td>...</td>\n",
       "    </tr>\n",
       "    <tr>\n",
       "      <th>7340</th>\n",
       "      <td>693</td>\n",
       "      <td>2023-06-03 09:18:00</td>\n",
       "      <td>yahoo.com</td>\n",
       "      <td>Reuters</td>\n",
       "      <td>Transfer of holy icon shows Russian Orthodoxy'...</td>\n",
       "      <td>news</td>\n",
       "      <td>MOSCOW, June 3 (Reuters) - President Vladimir ...</td>\n",
       "      <td>\"the\"</td>\n",
       "      <td>0.000574</td>\n",
       "      <td>0.000574</td>\n",
       "    </tr>\n",
       "    <tr>\n",
       "      <th>7341</th>\n",
       "      <td>1808</td>\n",
       "      <td>2023-05-30 00:00:00</td>\n",
       "      <td>mdpi.com</td>\n",
       "      <td>Mei Yu</td>\n",
       "      <td>A Shallow Pooled Weighted Feature Enhancement ...</td>\n",
       "      <td>science</td>\n",
       "      <td>College of Computer and Technology, China Thre...</td>\n",
       "      <td>\"the\"</td>\n",
       "      <td>0.000224</td>\n",
       "      <td>0.000224</td>\n",
       "    </tr>\n",
       "    <tr>\n",
       "      <th>7342</th>\n",
       "      <td>1040</td>\n",
       "      <td>2023-06-04 17:03:08</td>\n",
       "      <td>nytimes.com</td>\n",
       "      <td>Isabel Kershner</td>\n",
       "      <td>In Israel, Tough Questions Follow Fatal Attack...</td>\n",
       "      <td>news</td>\n",
       "      <td>A breached emergency gate at Israel's southern...</td>\n",
       "      <td>\"the\"</td>\n",
       "      <td>0.001623</td>\n",
       "      <td>0.001623</td>\n",
       "    </tr>\n",
       "    <tr>\n",
       "      <th>7343</th>\n",
       "      <td>3234</td>\n",
       "      <td>2023-05-30 11:19:48</td>\n",
       "      <td>dailymail.co.uk</td>\n",
       "      <td>Allan Glen</td>\n",
       "      <td>Ex-ferryman's cottage measuring just 232sq ft ...</td>\n",
       "      <td>business</td>\n",
       "      <td>Published:    07:19 EDT, 30 May 2023     |    ...</td>\n",
       "      <td>\"the\"</td>\n",
       "      <td>0.008083</td>\n",
       "      <td>0.008083</td>\n",
       "    </tr>\n",
       "    <tr>\n",
       "      <th>7344</th>\n",
       "      <td>311</td>\n",
       "      <td>2023-05-30 21:52:04</td>\n",
       "      <td>yahoo.com</td>\n",
       "      <td>Logan Nye</td>\n",
       "      <td>The German convoy attack that helped lead to t...</td>\n",
       "      <td>news</td>\n",
       "      <td>How did the relationship with the other Allies...</td>\n",
       "      <td>\"the\"</td>\n",
       "      <td>0.898516</td>\n",
       "      <td>0.898516</td>\n",
       "    </tr>\n",
       "  </tbody>\n",
       "</table>\n",
       "<p>7345 rows × 10 columns</p>\n",
       "</div>"
      ],
      "text/plain": [
       "      index                 date                url                   author  \\\n",
       "0      4127  2023-06-01 19:30:00            msn.com  More Law&Crime coverage   \n",
       "1      7018  2023-05-31 11:14:47  indianexpress.com         Express Web Desk   \n",
       "2       685  2023-06-04 16:15:57          yahoo.com          India McTaggart   \n",
       "3      2831  2023-06-02 19:30:00            msn.com                      NaN   \n",
       "4      2003  2023-06-02 14:43:34            msn.com             Craig Minami   \n",
       "...     ...                  ...                ...                      ...   \n",
       "7340    693  2023-06-03 09:18:00          yahoo.com                  Reuters   \n",
       "7341   1808  2023-05-30 00:00:00           mdpi.com                   Mei Yu   \n",
       "7342   1040  2023-06-04 17:03:08        nytimes.com          Isabel Kershner   \n",
       "7343   3234  2023-05-30 11:19:48    dailymail.co.uk               Allan Glen   \n",
       "7344    311  2023-05-30 21:52:04          yahoo.com                Logan Nye   \n",
       "\n",
       "                                                  title     topic  \\\n",
       "0     Woman arrested for allegedly sending her dog t...      news   \n",
       "1     Hindu worshippers' plea on right to pray in Gy...      news   \n",
       "2     King Charles hails ‘reassuring presence' of tr...      news   \n",
       "3               This is how Lady Louise earns her money      news   \n",
       "4       Diego Cartaya homers again Tulsa's comeback win      news   \n",
       "...                                                 ...       ...   \n",
       "7340  Transfer of holy icon shows Russian Orthodoxy'...      news   \n",
       "7341  A Shallow Pooled Weighted Feature Enhancement ...   science   \n",
       "7342  In Israel, Tough Questions Follow Fatal Attack...      news   \n",
       "7343  Ex-ferryman's cottage measuring just 232sq ft ...  business   \n",
       "7344  The German convoy attack that helped lead to t...      news   \n",
       "\n",
       "                                                summary      q  predictions  \\\n",
       "0     Braquelle Lynn Rutherford appears in a mugshot...  \"the\"     0.004418   \n",
       "1     Allowing the case to continue before a local V...  \"the\"     0.000118   \n",
       "2     The King has hailed the 'enduring and reassuri...  \"the\"     0.834189   \n",
       "3     Lady Louise, the daughter of Britain's Prince ...  \"the\"     0.931374   \n",
       "4     Oklahoma City and Tulsa were able overcome lea...  \"the\"     0.003672   \n",
       "...                                                 ...    ...          ...   \n",
       "7340  MOSCOW, June 3 (Reuters) - President Vladimir ...  \"the\"     0.000574   \n",
       "7341  College of Computer and Technology, China Thre...  \"the\"     0.000224   \n",
       "7342  A breached emergency gate at Israel's southern...  \"the\"     0.001623   \n",
       "7343  Published:    07:19 EDT, 30 May 2023     |    ...  \"the\"     0.008083   \n",
       "7344  How did the relationship with the other Allies...  \"the\"     0.898516   \n",
       "\n",
       "             1  \n",
       "0     0.004418  \n",
       "1     0.000118  \n",
       "2     0.834189  \n",
       "3     0.931374  \n",
       "4     0.003672  \n",
       "...        ...  \n",
       "7340  0.000574  \n",
       "7341  0.000224  \n",
       "7342  0.001623  \n",
       "7343  0.008083  \n",
       "7344  0.898516  \n",
       "\n",
       "[7345 rows x 10 columns]"
      ]
     },
     "execution_count": 18,
     "metadata": {},
     "output_type": "execute_result"
    }
   ],
   "source": [
    "pred_general"
   ]
  },
  {
   "cell_type": "code",
   "execution_count": 4,
   "metadata": {},
   "outputs": [
    {
     "name": "stdout",
     "output_type": "stream",
     "text": [
      "Average likelikhood of general news:  0.1542\n",
      "Average likelikhood of financial news:  0.2159\n",
      "Average likelikhood of sports news:  0.186\n",
      "Average likelikhood of election news:  0.201\n"
     ]
    }
   ],
   "source": [
    "print('Average likelikhood of general news: ' , pred_general['1'].mean().round(4))\n",
    "print('Average likelikhood of financial news: ' , pred_finance['1'].mean().round(4))\n",
    "print('Average likelikhood of sports news: ' , pred_sport['1'].mean().round(4))\n",
    "print('Average likelikhood of election news: ' , pred_election['1'].mean().round(4))"
   ]
  },
  {
   "cell_type": "code",
   "execution_count": 5,
   "metadata": {},
   "outputs": [
    {
     "name": "stdout",
     "output_type": "stream",
     "text": [
      "8.281824813837419\n",
      "1.369143882490157e-16\n"
     ]
    }
   ],
   "source": [
    "t_statistic, p_value = ttest_ind(pred_finance['1'], pred_general['1'])\n",
    "print(t_statistic)\n",
    "print(p_value)"
   ]
  },
  {
   "cell_type": "code",
   "execution_count": 6,
   "metadata": {},
   "outputs": [
    {
     "name": "stdout",
     "output_type": "stream",
     "text": [
      "4.550603559929435\n",
      "5.410310432396939e-06\n"
     ]
    }
   ],
   "source": [
    "t_statistic, p_value = ttest_ind(pred_sport['1'], pred_general['1'])\n",
    "print(t_statistic)\n",
    "print(p_value)"
   ]
  },
  {
   "cell_type": "code",
   "execution_count": 7,
   "metadata": {},
   "outputs": [
    {
     "name": "stdout",
     "output_type": "stream",
     "text": [
      "6.673771968071049\n",
      "2.6201102461941682e-11\n"
     ]
    }
   ],
   "source": [
    "t_statistic, p_value = ttest_ind(pred_election['1'], pred_general['1'])\n",
    "print(t_statistic)\n",
    "print(p_value)"
   ]
  },
  {
   "cell_type": "code",
   "execution_count": 19,
   "metadata": {},
   "outputs": [],
   "source": [
    "pred_election['pred_label'] = pred_election['predictions'].apply(lambda x: 1 if x>=0.5 else 0)\n",
    "pred_sport['pred_label'] = pred_sport['predictions'].apply(lambda x: 1 if x>=0.5 else 0)\n",
    "pred_finance['pred_label'] = pred_finance['predictions'].apply(lambda x: 1 if x>=0.5 else 0)\n",
    "pred_general['pred_label'] = pred_general['predictions'].apply(lambda x: 1 if x>=0.5 else 0)"
   ]
  },
  {
   "cell_type": "code",
   "execution_count": 31,
   "metadata": {},
   "outputs": [
    {
     "name": "stdout",
     "output_type": "stream",
     "text": [
      "percentage of election articles flagged:  0.1913\n",
      "percentage of sport articles flagged:  0.1744\n",
      "percentage of finance articles flagged:  0.2102\n",
      "percentage of general articles flagged:  0.1457\n"
     ]
    }
   ],
   "source": [
    "print('percentage of election articles flagged: ' ,round(pred_election.loc[pred_election['pred_label']==1, 'pred_label'].count()/pred_election['pred_label'].count(), 4))\n",
    "print('percentage of sport articles flagged: ' ,round(pred_sport.loc[pred_sport['pred_label']==1, 'pred_label'].count()/pred_sport['pred_label'].count(), 4))\n",
    "print('percentage of finance articles flagged: ' ,round(pred_finance.loc[pred_finance['pred_label']==1, 'pred_label'].count()/pred_finance['pred_label'].count(), 4))\n",
    "print('percentage of general articles flagged: ' ,round(pred_general.loc[pred_general['pred_label']==1, 'pred_label'].count()/pred_general['pred_label'].count(), 4))"
   ]
  },
  {
   "cell_type": "markdown",
   "metadata": {},
   "source": [
    "## hypothesis testing"
   ]
  },
  {
   "cell_type": "code",
   "execution_count": 51,
   "metadata": {},
   "outputs": [
    {
     "name": "stdout",
     "output_type": "stream",
     "text": [
      "election: p= 0.0 W= 0.6\n",
      "sport: p= 0.0 W= 0.59\n",
      "finance: p= 0.0 W= 0.63\n",
      "general: p= 0.0 W= 0.53\n"
     ]
    },
    {
     "name": "stderr",
     "output_type": "stream",
     "text": [
      "c:\\Users\\Sten\\AppData\\Local\\R-MINI~1\\envs\\python39\\lib\\site-packages\\scipy\\stats\\_morestats.py:1816: UserWarning: p-value may not be accurate for N > 5000.\n",
      "  warnings.warn(\"p-value may not be accurate for N > 5000.\")\n"
     ]
    }
   ],
   "source": [
    "stat, p = shapiro(pred_election['predictions'])\n",
    "print('election: p=', p, 'W=', round(stat,2))\n",
    "stat, p = shapiro(pred_sport['predictions'])\n",
    "print('sport: p=', p, 'W=', round(stat,2))\n",
    "stat, p = shapiro(pred_finance['predictions'])\n",
    "print('finance: p=', p, 'W=', round(stat,2))\n",
    "stat, p = shapiro(pred_general['predictions'])\n",
    "print('general: p=', p, 'W=', round(stat,2))"
   ]
  },
  {
   "cell_type": "code",
   "execution_count": 52,
   "metadata": {},
   "outputs": [
    {
     "name": "stdout",
     "output_type": "stream",
     "text": [
      "finance: p= 2.1018581793459123e-40 stat= 11244693.5\n",
      "election: p= 2.2854173770013735e-29 stat= 12772017.5\n",
      "sport: p= 5.172408028441515e-22 stat= 12261856.5\n"
     ]
    }
   ],
   "source": [
    "stat, p = mannwhitneyu(pred_finance['predictions'], pred_general['predictions'], alternative='greater')\n",
    "print('finance: p=', p, 'stat=', round(stat,2))\n",
    "stat, p = mannwhitneyu(pred_election['predictions'], pred_general['predictions'], alternative='greater')\n",
    "print('election: p=', p, 'stat=', round(stat,2))\n",
    "stat, p = mannwhitneyu(pred_sport['predictions'], pred_general['predictions'], alternative='greater')\n",
    "print('sport: p=', p, 'stat=', round(stat,2))"
   ]
  },
  {
   "cell_type": "code",
   "execution_count": 54,
   "metadata": {},
   "outputs": [
    {
     "name": "stdout",
     "output_type": "stream",
     "text": [
      "general: p= 2.7419546059580106e-14 stat= 417422542.0\n"
     ]
    }
   ],
   "source": [
    "stat, p = mannwhitneyu(pred_general['predictions'], pred_old['predictions'])\n",
    "print('general: p=', p, 'stat=', round(stat,2))"
   ]
  },
  {
   "cell_type": "code",
   "execution_count": 55,
   "metadata": {},
   "outputs": [
    {
     "name": "stdout",
     "output_type": "stream",
     "text": [
      "general: p= 0.00018285632490277213 stat= -3.74\n"
     ]
    }
   ],
   "source": [
    "stat, p = ttest_ind(pred_general['predictions'], pred_old['predictions'])\n",
    "print('general: p=', p, 'stat=', round(stat,2))"
   ]
  },
  {
   "cell_type": "code",
   "execution_count": 93,
   "metadata": {},
   "outputs": [
    {
     "name": "stdout",
     "output_type": "stream",
     "text": [
      "finance: p= 8.324127695345964e-25 stat= 174684887.0\n",
      "election: p= 1.2101375090476384e-15 stat= 198524799.0\n",
      "sport: p= 4.195698222821588e-09 stat= 189887886.5\n"
     ]
    }
   ],
   "source": [
    "stat, p = mannwhitneyu(pred_finance['predictions'], pred_old['predictions'], alternative='greater')\n",
    "print('finance: p=', p, 'stat=', round(stat,2))\n",
    "stat, p = mannwhitneyu(pred_election['predictions'], pred_old['predictions'], alternative='greater')\n",
    "print('election: p=', p, 'stat=', round(stat,2))\n",
    "stat, p = mannwhitneyu(pred_sport['predictions'], pred_old['predictions'], alternative='greater')\n",
    "print('sport: p=', p, 'stat=', round(stat,2))"
   ]
  },
  {
   "cell_type": "code",
   "execution_count": 94,
   "metadata": {},
   "outputs": [
    {
     "name": "stdout",
     "output_type": "stream",
     "text": [
      "finance: p= 0.9999999999999863 stat= 417422542.0\n"
     ]
    }
   ],
   "source": [
    "stat, p = mannwhitneyu(pred_general['predictions'], pred_old['predictions'], alternative='greater')\n",
    "print('finance: p=', p, 'stat=', round(stat,2))"
   ]
  },
  {
   "cell_type": "markdown",
   "metadata": {},
   "source": [
    "## Analysis on older news articles"
   ]
  },
  {
   "cell_type": "code",
   "execution_count": 53,
   "metadata": {},
   "outputs": [],
   "source": [
    "pred_old = pd.read_csv(r'C:\\Users\\Sten\\Documents\\EUR BAM\\Thesis\\data\\predictions\\old_news_predicted_LLM1.csv')"
   ]
  },
  {
   "cell_type": "code",
   "execution_count": 100,
   "metadata": {},
   "outputs": [
    {
     "data": {
      "text/html": [
       "<div>\n",
       "<style scoped>\n",
       "    .dataframe tbody tr th:only-of-type {\n",
       "        vertical-align: middle;\n",
       "    }\n",
       "\n",
       "    .dataframe tbody tr th {\n",
       "        vertical-align: top;\n",
       "    }\n",
       "\n",
       "    .dataframe thead th {\n",
       "        text-align: right;\n",
       "    }\n",
       "</style>\n",
       "<table border=\"1\" class=\"dataframe\">\n",
       "  <thead>\n",
       "    <tr style=\"text-align: right;\">\n",
       "      <th></th>\n",
       "      <th>Unnamed: 0</th>\n",
       "      <th>class</th>\n",
       "      <th>title</th>\n",
       "      <th>text</th>\n",
       "      <th>predictions</th>\n",
       "      <th>pred_label</th>\n",
       "      <th>readability</th>\n",
       "      <th>sentence_length</th>\n",
       "    </tr>\n",
       "  </thead>\n",
       "  <tbody>\n",
       "    <tr>\n",
       "      <th>0</th>\n",
       "      <td>14601</td>\n",
       "      <td>1</td>\n",
       "      <td>French Officials to Visit Baghdad To Seek Rele...</td>\n",
       "      <td>French Foreign Minister Michel Barnier says go...</td>\n",
       "      <td>0.034568</td>\n",
       "      <td>0</td>\n",
       "      <td>45.09</td>\n",
       "      <td>26</td>\n",
       "    </tr>\n",
       "    <tr>\n",
       "      <th>1</th>\n",
       "      <td>67655</td>\n",
       "      <td>4</td>\n",
       "      <td>US argues for federal VoIP rules</td>\n",
       "      <td>quot;We cannot avoid this question any longer...</td>\n",
       "      <td>0.001884</td>\n",
       "      <td>0</td>\n",
       "      <td>74.69</td>\n",
       "      <td>27</td>\n",
       "    </tr>\n",
       "    <tr>\n",
       "      <th>2</th>\n",
       "      <td>7826</td>\n",
       "      <td>4</td>\n",
       "      <td>Reciprocal Link Scams</td>\n",
       "      <td>Reciprocal Link Scams\\ \\Reciprocal link scams ...</td>\n",
       "      <td>0.000172</td>\n",
       "      <td>0</td>\n",
       "      <td>71.44</td>\n",
       "      <td>51</td>\n",
       "    </tr>\n",
       "    <tr>\n",
       "      <th>3</th>\n",
       "      <td>18894</td>\n",
       "      <td>1</td>\n",
       "      <td>S.Korea's Roh Sees Slow Progress in 6-Party Ta...</td>\n",
       "      <td>Reuters - South Korean President Roh Moo-hyun ...</td>\n",
       "      <td>0.000180</td>\n",
       "      <td>0</td>\n",
       "      <td>27.15</td>\n",
       "      <td>28</td>\n",
       "    </tr>\n",
       "    <tr>\n",
       "      <th>4</th>\n",
       "      <td>71083</td>\n",
       "      <td>3</td>\n",
       "      <td>US Analyst unimpressed, Swanepoel unfazed</td>\n",
       "      <td>JOHANNESBURG (Mineweb.com) -- Harmony represen...</td>\n",
       "      <td>0.037594</td>\n",
       "      <td>0</td>\n",
       "      <td>30.20</td>\n",
       "      <td>25</td>\n",
       "    </tr>\n",
       "    <tr>\n",
       "      <th>...</th>\n",
       "      <td>...</td>\n",
       "      <td>...</td>\n",
       "      <td>...</td>\n",
       "      <td>...</td>\n",
       "      <td>...</td>\n",
       "      <td>...</td>\n",
       "      <td>...</td>\n",
       "      <td>...</td>\n",
       "    </tr>\n",
       "    <tr>\n",
       "      <th>119994</th>\n",
       "      <td>66167</td>\n",
       "      <td>3</td>\n",
       "      <td>Grinstein: News Gives Blues As Delta Posts \\$6...</td>\n",
       "      <td>Blame it on Charlie. And Frances, Ivan and Jea...</td>\n",
       "      <td>0.000103</td>\n",
       "      <td>0</td>\n",
       "      <td>78.25</td>\n",
       "      <td>33</td>\n",
       "    </tr>\n",
       "    <tr>\n",
       "      <th>119995</th>\n",
       "      <td>83541</td>\n",
       "      <td>2</td>\n",
       "      <td>Nowitzki, Mavs Surge Past Memphis 112-88 (AP)</td>\n",
       "      <td>AP - Dirk Nowitzki hit a nifty basket that tur...</td>\n",
       "      <td>0.001876</td>\n",
       "      <td>0</td>\n",
       "      <td>37.98</td>\n",
       "      <td>34</td>\n",
       "    </tr>\n",
       "    <tr>\n",
       "      <th>119996</th>\n",
       "      <td>9141</td>\n",
       "      <td>2</td>\n",
       "      <td>U.S. Takes the Bronze in Women's Beach Volleyball</td>\n",
       "      <td>ATHENS (Reuters) - Americans Holly McPeak and...</td>\n",
       "      <td>0.018713</td>\n",
       "      <td>0</td>\n",
       "      <td>47.46</td>\n",
       "      <td>33</td>\n",
       "    </tr>\n",
       "    <tr>\n",
       "      <th>119997</th>\n",
       "      <td>68419</td>\n",
       "      <td>2</td>\n",
       "      <td>Hamm keeps gold</td>\n",
       "      <td>More than two months after he won it in Athens...</td>\n",
       "      <td>0.000112</td>\n",
       "      <td>0</td>\n",
       "      <td>82.14</td>\n",
       "      <td>29</td>\n",
       "    </tr>\n",
       "    <tr>\n",
       "      <th>119998</th>\n",
       "      <td>49443</td>\n",
       "      <td>2</td>\n",
       "      <td>Packers deal disgruntled CB McKenzie to Saints</td>\n",
       "      <td>The Packers said they had acquired quarterback...</td>\n",
       "      <td>0.014438</td>\n",
       "      <td>0</td>\n",
       "      <td>46.44</td>\n",
       "      <td>33</td>\n",
       "    </tr>\n",
       "  </tbody>\n",
       "</table>\n",
       "<p>119999 rows × 8 columns</p>\n",
       "</div>"
      ],
      "text/plain": [
       "        Unnamed: 0  class                                              title  \\\n",
       "0            14601      1  French Officials to Visit Baghdad To Seek Rele...   \n",
       "1            67655      4                   US argues for federal VoIP rules   \n",
       "2             7826      4                              Reciprocal Link Scams   \n",
       "3            18894      1  S.Korea's Roh Sees Slow Progress in 6-Party Ta...   \n",
       "4            71083      3          US Analyst unimpressed, Swanepoel unfazed   \n",
       "...            ...    ...                                                ...   \n",
       "119994       66167      3  Grinstein: News Gives Blues As Delta Posts \\$6...   \n",
       "119995       83541      2      Nowitzki, Mavs Surge Past Memphis 112-88 (AP)   \n",
       "119996        9141      2  U.S. Takes the Bronze in Women's Beach Volleyball   \n",
       "119997       68419      2                                    Hamm keeps gold   \n",
       "119998       49443      2     Packers deal disgruntled CB McKenzie to Saints   \n",
       "\n",
       "                                                     text  predictions  \\\n",
       "0       French Foreign Minister Michel Barnier says go...     0.034568   \n",
       "1        quot;We cannot avoid this question any longer...     0.001884   \n",
       "2       Reciprocal Link Scams\\ \\Reciprocal link scams ...     0.000172   \n",
       "3       Reuters - South Korean President Roh Moo-hyun ...     0.000180   \n",
       "4       JOHANNESBURG (Mineweb.com) -- Harmony represen...     0.037594   \n",
       "...                                                   ...          ...   \n",
       "119994  Blame it on Charlie. And Frances, Ivan and Jea...     0.000103   \n",
       "119995  AP - Dirk Nowitzki hit a nifty basket that tur...     0.001876   \n",
       "119996   ATHENS (Reuters) - Americans Holly McPeak and...     0.018713   \n",
       "119997  More than two months after he won it in Athens...     0.000112   \n",
       "119998  The Packers said they had acquired quarterback...     0.014438   \n",
       "\n",
       "        pred_label  readability  sentence_length  \n",
       "0                0        45.09               26  \n",
       "1                0        74.69               27  \n",
       "2                0        71.44               51  \n",
       "3                0        27.15               28  \n",
       "4                0        30.20               25  \n",
       "...            ...          ...              ...  \n",
       "119994           0        78.25               33  \n",
       "119995           0        37.98               34  \n",
       "119996           0        47.46               33  \n",
       "119997           0        82.14               29  \n",
       "119998           0        46.44               33  \n",
       "\n",
       "[119999 rows x 8 columns]"
      ]
     },
     "execution_count": 100,
     "metadata": {},
     "output_type": "execute_result"
    }
   ],
   "source": [
    "pred_old"
   ]
  },
  {
   "cell_type": "code",
   "execution_count": 96,
   "metadata": {},
   "outputs": [
    {
     "name": "stdout",
     "output_type": "stream",
     "text": [
      "Average likelikhood of old news:  0.1686\n"
     ]
    }
   ],
   "source": [
    "print('Average likelikhood of old news: ' , pred_old['predictions'].mean().round(4))"
   ]
  },
  {
   "cell_type": "code",
   "execution_count": 97,
   "metadata": {},
   "outputs": [],
   "source": [
    "pred_old['pred_label'] = pred_old['predictions'].apply(lambda x: 1 if x>=0.5 else 0)"
   ]
  },
  {
   "cell_type": "code",
   "execution_count": 99,
   "metadata": {},
   "outputs": [],
   "source": [
    "pred_old['readability'] = pred_old['text'].apply(textstat.flesch_reading_ease)\n",
    "pred_old['sentence_length'] = pred_old['text'].str.split().apply(len)"
   ]
  },
  {
   "cell_type": "code",
   "execution_count": 101,
   "metadata": {},
   "outputs": [
    {
     "name": "stdout",
     "output_type": "stream",
     "text": [
      "31.13\n",
      "30.7\n",
      "3.12561861050279e-08\n"
     ]
    }
   ],
   "source": [
    "print(pred_old.loc[pred_old['pred_label']==0, 'sentence_length'].mean().round(2))\n",
    "print(pred_old.loc[pred_old['pred_label']==1, 'sentence_length'].mean().round(2))\n",
    "stat, p = ttest_ind(pred_old.loc[pred_old['pred_label']==0, 'sentence_length'], pred_old.loc[pred_old['pred_label']==1, 'sentence_length'])\n",
    "print(p)"
   ]
  },
  {
   "cell_type": "code",
   "execution_count": 102,
   "metadata": {},
   "outputs": [
    {
     "name": "stdout",
     "output_type": "stream",
     "text": [
      "51.76\n",
      "52.2\n",
      "3.12561861050279e-08\n"
     ]
    }
   ],
   "source": [
    "print(pred_old.loc[pred_old['pred_label']==0, 'readability'].mean().round(2))\n",
    "print(pred_old.loc[pred_old['pred_label']==1, 'readability'].mean().round(2))\n",
    "stat, p = ttest_ind(pred_old.loc[pred_old['pred_label']==0, 'sentence_length'], pred_old.loc[pred_old['pred_label']==1, 'sentence_length'])\n",
    "print(p)"
   ]
  },
  {
   "cell_type": "markdown",
   "metadata": {},
   "source": [
    "## Check generalizability on newer GPT models"
   ]
  },
  {
   "cell_type": "markdown",
   "metadata": {},
   "source": [
    "### GPT-3.5"
   ]
  },
  {
   "cell_type": "code",
   "execution_count": 4,
   "metadata": {},
   "outputs": [],
   "source": [
    "pred_GPT3_LR = pd.read_csv(r'C:\\Users\\Sten\\Documents\\EUR BAM\\Thesis\\data\\predictions\\gpt_3_predicted_LR1.csv')\n",
    "pred_GPT4_LR = pd.read_csv(r'C:\\Users\\Sten\\Documents\\EUR BAM\\Thesis\\data\\predictions\\gpt_4_predicted_LR1.csv')\n",
    "pred_GPT3_LLM = pd.read_csv(r'C:\\Users\\Sten\\Documents\\EUR BAM\\Thesis\\data\\predictions\\gpt_3_predicted_LLM1.csv')\n",
    "pred_GPT4_LLM = pd.read_csv(r'C:\\Users\\Sten\\Documents\\EUR BAM\\Thesis\\data\\predictions\\gpt_4_predicted_LLM1.csv')"
   ]
  },
  {
   "cell_type": "code",
   "execution_count": 5,
   "metadata": {},
   "outputs": [],
   "source": [
    "pred_GPT3_LR['pred_label'] = pred_GPT3_LR['predictions'].apply(lambda x: 1 if x>=0.5 else 0)\n",
    "pred_GPT4_LR['pred_label'] = pred_GPT4_LR['predictions'].apply(lambda x: 1 if x>=0.5 else 0)\n",
    "pred_GPT3_LLM['pred_label'] = pred_GPT3_LLM['predictions'].apply(lambda x: 1 if x>=0.5 else 0)\n",
    "pred_GPT4_LLM['pred_label'] = pred_GPT4_LLM['predictions'].apply(lambda x: 1 if x>=0.5 else 0)"
   ]
  },
  {
   "cell_type": "code",
   "execution_count": 11,
   "metadata": {},
   "outputs": [
    {
     "name": "stdout",
     "output_type": "stream",
     "text": [
      "Accuracy:  0.47\n",
      "Precision:  0.3\n",
      "Recall:  0.05\n",
      "F1 Score:  0.08\n"
     ]
    }
   ],
   "source": [
    "scores(pred_GPT3_LR['label'], pred_GPT3_LR['pred_label'])"
   ]
  },
  {
   "cell_type": "code",
   "execution_count": 12,
   "metadata": {},
   "outputs": [
    {
     "name": "stdout",
     "output_type": "stream",
     "text": [
      "Accuracy:  0.6\n",
      "Precision:  0.75\n",
      "Recall:  0.31\n",
      "F1 Score:  0.44\n"
     ]
    }
   ],
   "source": [
    "scores(pred_GPT3_LLM['label'], pred_GPT3_LLM['pred_label'])"
   ]
  },
  {
   "cell_type": "code",
   "execution_count": 13,
   "metadata": {},
   "outputs": [
    {
     "name": "stdout",
     "output_type": "stream",
     "text": [
      "Accuracy:  0.61\n",
      "Precision:  0.74\n",
      "Recall:  0.32\n",
      "F1 Score:  0.45\n"
     ]
    }
   ],
   "source": [
    "scores(pred_GPT4_LR['label'], pred_GPT4_LR['pred_label'])"
   ]
  },
  {
   "cell_type": "code",
   "execution_count": 14,
   "metadata": {},
   "outputs": [
    {
     "name": "stdout",
     "output_type": "stream",
     "text": [
      "Accuracy:  0.73\n",
      "Precision:  0.85\n",
      "Recall:  0.57\n",
      "F1 Score:  0.68\n"
     ]
    }
   ],
   "source": [
    "scores(pred_GPT4_LLM['label'], pred_GPT4_LLM['pred_label'])"
   ]
  },
  {
   "cell_type": "markdown",
   "metadata": {},
   "source": [
    "## Feature importance on distilBERT model"
   ]
  },
  {
   "cell_type": "code",
   "execution_count": 56,
   "metadata": {},
   "outputs": [],
   "source": [
    "pred_test = pd.read_csv(r'C:\\Users\\Sten\\Documents\\EUR BAM\\Thesis\\data\\predictions\\test_predicted_LLM1.csv')"
   ]
  },
  {
   "cell_type": "code",
   "execution_count": 57,
   "metadata": {},
   "outputs": [
    {
     "data": {
      "text/html": [
       "<div>\n",
       "<style scoped>\n",
       "    .dataframe tbody tr th:only-of-type {\n",
       "        vertical-align: middle;\n",
       "    }\n",
       "\n",
       "    .dataframe tbody tr th {\n",
       "        vertical-align: top;\n",
       "    }\n",
       "\n",
       "    .dataframe thead th {\n",
       "        text-align: right;\n",
       "    }\n",
       "</style>\n",
       "<table border=\"1\" class=\"dataframe\">\n",
       "  <thead>\n",
       "    <tr style=\"text-align: right;\">\n",
       "      <th></th>\n",
       "      <th>text</th>\n",
       "      <th>label</th>\n",
       "      <th>predictions</th>\n",
       "      <th>pred_label</th>\n",
       "    </tr>\n",
       "  </thead>\n",
       "  <tbody>\n",
       "    <tr>\n",
       "      <th>0</th>\n",
       "      <td>The University of Illinois Police Department (...</td>\n",
       "      <td>1</td>\n",
       "      <td>0.996156</td>\n",
       "      <td>1</td>\n",
       "    </tr>\n",
       "    <tr>\n",
       "      <th>1</th>\n",
       "      <td>PURPOSE:\\n\\nThis study evaluated the effect of...</td>\n",
       "      <td>1</td>\n",
       "      <td>0.991755</td>\n",
       "      <td>1</td>\n",
       "    </tr>\n",
       "    <tr>\n",
       "      <th>2</th>\n",
       "      <td>BELLEVILLE – A young man from Belville has bee...</td>\n",
       "      <td>1</td>\n",
       "      <td>0.997448</td>\n",
       "      <td>1</td>\n",
       "    </tr>\n",
       "    <tr>\n",
       "      <th>3</th>\n",
       "      <td>Synopsis\\n\\nA library for running tasks(jobs) ...</td>\n",
       "      <td>0</td>\n",
       "      <td>0.000713</td>\n",
       "      <td>0</td>\n",
       "    </tr>\n",
       "    <tr>\n",
       "      <th>4</th>\n",
       "      <td>The geolocation of the depot can be found here...</td>\n",
       "      <td>0</td>\n",
       "      <td>0.000125</td>\n",
       "      <td>0</td>\n",
       "    </tr>\n",
       "    <tr>\n",
       "      <th>...</th>\n",
       "      <td>...</td>\n",
       "      <td>...</td>\n",
       "      <td>...</td>\n",
       "      <td>...</td>\n",
       "    </tr>\n",
       "    <tr>\n",
       "      <th>9995</th>\n",
       "      <td>Originally published June 10, 2014 at 6:43 PM ...</td>\n",
       "      <td>0</td>\n",
       "      <td>0.000198</td>\n",
       "      <td>0</td>\n",
       "    </tr>\n",
       "    <tr>\n",
       "      <th>9996</th>\n",
       "      <td>\"You guys have this thing for them,\" Mr. Trump...</td>\n",
       "      <td>1</td>\n",
       "      <td>0.998290</td>\n",
       "      <td>1</td>\n",
       "    </tr>\n",
       "    <tr>\n",
       "      <th>9997</th>\n",
       "      <td>By Dan Merica, CNN\\n\\nWashington (CNN) – The l...</td>\n",
       "      <td>1</td>\n",
       "      <td>0.999627</td>\n",
       "      <td>1</td>\n",
       "    </tr>\n",
       "    <tr>\n",
       "      <th>9998</th>\n",
       "      <td>My ex-husband had treatment resistant depressi...</td>\n",
       "      <td>0</td>\n",
       "      <td>0.429786</td>\n",
       "      <td>0</td>\n",
       "    </tr>\n",
       "    <tr>\n",
       "      <th>9999</th>\n",
       "      <td>About Locale Emulator and the concept of local...</td>\n",
       "      <td>0</td>\n",
       "      <td>0.000106</td>\n",
       "      <td>0</td>\n",
       "    </tr>\n",
       "  </tbody>\n",
       "</table>\n",
       "<p>10000 rows × 4 columns</p>\n",
       "</div>"
      ],
      "text/plain": [
       "                                                   text  label  predictions  \\\n",
       "0     The University of Illinois Police Department (...      1     0.996156   \n",
       "1     PURPOSE:\\n\\nThis study evaluated the effect of...      1     0.991755   \n",
       "2     BELLEVILLE – A young man from Belville has bee...      1     0.997448   \n",
       "3     Synopsis\\n\\nA library for running tasks(jobs) ...      0     0.000713   \n",
       "4     The geolocation of the depot can be found here...      0     0.000125   \n",
       "...                                                 ...    ...          ...   \n",
       "9995  Originally published June 10, 2014 at 6:43 PM ...      0     0.000198   \n",
       "9996  \"You guys have this thing for them,\" Mr. Trump...      1     0.998290   \n",
       "9997  By Dan Merica, CNN\\n\\nWashington (CNN) – The l...      1     0.999627   \n",
       "9998  My ex-husband had treatment resistant depressi...      0     0.429786   \n",
       "9999  About Locale Emulator and the concept of local...      0     0.000106   \n",
       "\n",
       "      pred_label  \n",
       "0              1  \n",
       "1              1  \n",
       "2              1  \n",
       "3              0  \n",
       "4              0  \n",
       "...          ...  \n",
       "9995           0  \n",
       "9996           1  \n",
       "9997           1  \n",
       "9998           0  \n",
       "9999           0  \n",
       "\n",
       "[10000 rows x 4 columns]"
      ]
     },
     "execution_count": 57,
     "metadata": {},
     "output_type": "execute_result"
    }
   ],
   "source": [
    "pred_test['pred_label'] = pred_test['predictions'].apply(lambda x: 1 if x>=0.5 else 0)\n",
    "pred_test"
   ]
  },
  {
   "cell_type": "code",
   "execution_count": 60,
   "metadata": {},
   "outputs": [
    {
     "data": {
      "text/html": [
       "<div>\n",
       "<style scoped>\n",
       "    .dataframe tbody tr th:only-of-type {\n",
       "        vertical-align: middle;\n",
       "    }\n",
       "\n",
       "    .dataframe tbody tr th {\n",
       "        vertical-align: top;\n",
       "    }\n",
       "\n",
       "    .dataframe thead th {\n",
       "        text-align: right;\n",
       "    }\n",
       "</style>\n",
       "<table border=\"1\" class=\"dataframe\">\n",
       "  <thead>\n",
       "    <tr style=\"text-align: right;\">\n",
       "      <th></th>\n",
       "      <th>text</th>\n",
       "      <th>label</th>\n",
       "      <th>predictions</th>\n",
       "      <th>pred_label</th>\n",
       "      <th>readability</th>\n",
       "    </tr>\n",
       "  </thead>\n",
       "  <tbody>\n",
       "    <tr>\n",
       "      <th>0</th>\n",
       "      <td>The University of Illinois Police Department (...</td>\n",
       "      <td>1</td>\n",
       "      <td>0.996156</td>\n",
       "      <td>1</td>\n",
       "      <td>34.36</td>\n",
       "    </tr>\n",
       "    <tr>\n",
       "      <th>1</th>\n",
       "      <td>PURPOSE:\\n\\nThis study evaluated the effect of...</td>\n",
       "      <td>1</td>\n",
       "      <td>0.991755</td>\n",
       "      <td>1</td>\n",
       "      <td>23.87</td>\n",
       "    </tr>\n",
       "    <tr>\n",
       "      <th>2</th>\n",
       "      <td>BELLEVILLE – A young man from Belville has bee...</td>\n",
       "      <td>1</td>\n",
       "      <td>0.997448</td>\n",
       "      <td>1</td>\n",
       "      <td>56.15</td>\n",
       "    </tr>\n",
       "    <tr>\n",
       "      <th>3</th>\n",
       "      <td>Synopsis\\n\\nA library for running tasks(jobs) ...</td>\n",
       "      <td>0</td>\n",
       "      <td>0.000713</td>\n",
       "      <td>0</td>\n",
       "      <td>51.65</td>\n",
       "    </tr>\n",
       "    <tr>\n",
       "      <th>4</th>\n",
       "      <td>The geolocation of the depot can be found here...</td>\n",
       "      <td>0</td>\n",
       "      <td>0.000125</td>\n",
       "      <td>0</td>\n",
       "      <td>73.58</td>\n",
       "    </tr>\n",
       "    <tr>\n",
       "      <th>...</th>\n",
       "      <td>...</td>\n",
       "      <td>...</td>\n",
       "      <td>...</td>\n",
       "      <td>...</td>\n",
       "      <td>...</td>\n",
       "    </tr>\n",
       "    <tr>\n",
       "      <th>9995</th>\n",
       "      <td>Originally published June 10, 2014 at 6:43 PM ...</td>\n",
       "      <td>0</td>\n",
       "      <td>0.000198</td>\n",
       "      <td>0</td>\n",
       "      <td>70.02</td>\n",
       "    </tr>\n",
       "    <tr>\n",
       "      <th>9996</th>\n",
       "      <td>\"You guys have this thing for them,\" Mr. Trump...</td>\n",
       "      <td>1</td>\n",
       "      <td>0.998290</td>\n",
       "      <td>1</td>\n",
       "      <td>60.65</td>\n",
       "    </tr>\n",
       "    <tr>\n",
       "      <th>9997</th>\n",
       "      <td>By Dan Merica, CNN\\n\\nWashington (CNN) – The l...</td>\n",
       "      <td>1</td>\n",
       "      <td>0.999627</td>\n",
       "      <td>1</td>\n",
       "      <td>55.58</td>\n",
       "    </tr>\n",
       "    <tr>\n",
       "      <th>9998</th>\n",
       "      <td>My ex-husband had treatment resistant depressi...</td>\n",
       "      <td>0</td>\n",
       "      <td>0.429786</td>\n",
       "      <td>0</td>\n",
       "      <td>77.27</td>\n",
       "    </tr>\n",
       "    <tr>\n",
       "      <th>9999</th>\n",
       "      <td>About Locale Emulator and the concept of local...</td>\n",
       "      <td>0</td>\n",
       "      <td>0.000106</td>\n",
       "      <td>0</td>\n",
       "      <td>68.81</td>\n",
       "    </tr>\n",
       "  </tbody>\n",
       "</table>\n",
       "<p>10000 rows × 5 columns</p>\n",
       "</div>"
      ],
      "text/plain": [
       "                                                   text  label  predictions  \\\n",
       "0     The University of Illinois Police Department (...      1     0.996156   \n",
       "1     PURPOSE:\\n\\nThis study evaluated the effect of...      1     0.991755   \n",
       "2     BELLEVILLE – A young man from Belville has bee...      1     0.997448   \n",
       "3     Synopsis\\n\\nA library for running tasks(jobs) ...      0     0.000713   \n",
       "4     The geolocation of the depot can be found here...      0     0.000125   \n",
       "...                                                 ...    ...          ...   \n",
       "9995  Originally published June 10, 2014 at 6:43 PM ...      0     0.000198   \n",
       "9996  \"You guys have this thing for them,\" Mr. Trump...      1     0.998290   \n",
       "9997  By Dan Merica, CNN\\n\\nWashington (CNN) – The l...      1     0.999627   \n",
       "9998  My ex-husband had treatment resistant depressi...      0     0.429786   \n",
       "9999  About Locale Emulator and the concept of local...      0     0.000106   \n",
       "\n",
       "      pred_label  readability  \n",
       "0              1        34.36  \n",
       "1              1        23.87  \n",
       "2              1        56.15  \n",
       "3              0        51.65  \n",
       "4              0        73.58  \n",
       "...          ...          ...  \n",
       "9995           0        70.02  \n",
       "9996           1        60.65  \n",
       "9997           1        55.58  \n",
       "9998           0        77.27  \n",
       "9999           0        68.81  \n",
       "\n",
       "[10000 rows x 5 columns]"
      ]
     },
     "execution_count": 60,
     "metadata": {},
     "output_type": "execute_result"
    }
   ],
   "source": [
    "#df_finance['flesch_kincaid'] = df_finance['summary'].apply(textstat.flesch_reading_ease)\n",
    "pred_test['readability'] = pred_test['text'].apply(textstat.flesch_reading_ease)\n",
    "pred_test"
   ]
  },
  {
   "cell_type": "code",
   "execution_count": 76,
   "metadata": {},
   "outputs": [
    {
     "name": "stdout",
     "output_type": "stream",
     "text": [
      "58.92\n",
      "63.6\n",
      "3.1432111894513054e-18\n"
     ]
    }
   ],
   "source": [
    "print(pred_test.loc[pred_test['pred_label']==0, 'readability'].mean().round(2))\n",
    "print(pred_test.loc[pred_test['pred_label']==1, 'readability'].mean().round(2))\n",
    "stat, p = ttest_ind(pred_test.loc[pred_test['pred_label']==0, 'readability'], pred_test.loc[pred_test['pred_label']==1, 'readability'])\n",
    "print(p)"
   ]
  },
  {
   "cell_type": "code",
   "execution_count": 68,
   "metadata": {},
   "outputs": [],
   "source": [
    "pred_test['sentence_length'] = pred_test['text'].str.split().apply(len)"
   ]
  },
  {
   "cell_type": "code",
   "execution_count": 75,
   "metadata": {},
   "outputs": [
    {
     "name": "stdout",
     "output_type": "stream",
     "text": [
      "433.38\n",
      "485.91\n",
      "6.736953874211485e-22\n"
     ]
    }
   ],
   "source": [
    "print(pred_test.loc[pred_test['pred_label']==0, 'sentence_length'].mean().round(2))\n",
    "print(pred_test.loc[pred_test['pred_label']==1, 'sentence_length'].mean().round(2))\n",
    "stat, p = ttest_ind(pred_test.loc[pred_test['pred_label']==0, 'sentence_length'], pred_test.loc[pred_test['pred_label']==1, 'sentence_length'])\n",
    "print(p)"
   ]
  },
  {
   "cell_type": "code",
   "execution_count": 78,
   "metadata": {},
   "outputs": [],
   "source": [
    "vectorizer = TfidfVectorizer()\n",
    "X = vectorizer.fit_transform(pred_test['text'])"
   ]
  },
  {
   "cell_type": "code",
   "execution_count": 85,
   "metadata": {},
   "outputs": [],
   "source": [
    "freq_table = pd.DataFrame.sparse.from_spmatrix(X, columns=vectorizer.get_feature_names_out())\n",
    "freq_table['label'] = pred_test['label']"
   ]
  },
  {
   "cell_type": "code",
   "execution_count": 89,
   "metadata": {},
   "outputs": [
    {
     "data": {
      "text/html": [
       "<div>\n",
       "<style scoped>\n",
       "    .dataframe tbody tr th:only-of-type {\n",
       "        vertical-align: middle;\n",
       "    }\n",
       "\n",
       "    .dataframe tbody tr th {\n",
       "        vertical-align: top;\n",
       "    }\n",
       "\n",
       "    .dataframe thead th {\n",
       "        text-align: right;\n",
       "    }\n",
       "</style>\n",
       "<table border=\"1\" class=\"dataframe\">\n",
       "  <thead>\n",
       "    <tr style=\"text-align: right;\">\n",
       "      <th></th>\n",
       "      <th>00</th>\n",
       "      <th>000</th>\n",
       "      <th>0000</th>\n",
       "      <th>00000</th>\n",
       "      <th>000000</th>\n",
       "      <th>0000000000000000000000101111000111111001011111010001000100100011</th>\n",
       "      <th>00000270</th>\n",
       "      <th>00000278</th>\n",
       "      <th>00000280</th>\n",
       "      <th>00000288</th>\n",
       "      <th>...</th>\n",
       "      <th>키울게요</th>\n",
       "      <th>태어날</th>\n",
       "      <th>테라폼</th>\n",
       "      <th>포켓몬카</th>\n",
       "      <th>하루종일</th>\n",
       "      <th>할수없는</th>\n",
       "      <th>합니다</th>\n",
       "      <th>행복을</th>\n",
       "      <th>행복하자</th>\n",
       "      <th>형님된거</th>\n",
       "    </tr>\n",
       "  </thead>\n",
       "  <tbody>\n",
       "    <tr>\n",
       "      <th>0</th>\n",
       "      <td>0.0</td>\n",
       "      <td>0.000000</td>\n",
       "      <td>0.0</td>\n",
       "      <td>0.0</td>\n",
       "      <td>0.0</td>\n",
       "      <td>0.0</td>\n",
       "      <td>0.0</td>\n",
       "      <td>0.0</td>\n",
       "      <td>0.0</td>\n",
       "      <td>0.0</td>\n",
       "      <td>...</td>\n",
       "      <td>0.0</td>\n",
       "      <td>0.0</td>\n",
       "      <td>0.0</td>\n",
       "      <td>0.0</td>\n",
       "      <td>0.0</td>\n",
       "      <td>0.0</td>\n",
       "      <td>0.0</td>\n",
       "      <td>0.0</td>\n",
       "      <td>0.0</td>\n",
       "      <td>0.0</td>\n",
       "    </tr>\n",
       "    <tr>\n",
       "      <th>1</th>\n",
       "      <td>0.0</td>\n",
       "      <td>0.000000</td>\n",
       "      <td>0.0</td>\n",
       "      <td>0.0</td>\n",
       "      <td>0.0</td>\n",
       "      <td>0.0</td>\n",
       "      <td>0.0</td>\n",
       "      <td>0.0</td>\n",
       "      <td>0.0</td>\n",
       "      <td>0.0</td>\n",
       "      <td>...</td>\n",
       "      <td>0.0</td>\n",
       "      <td>0.0</td>\n",
       "      <td>0.0</td>\n",
       "      <td>0.0</td>\n",
       "      <td>0.0</td>\n",
       "      <td>0.0</td>\n",
       "      <td>0.0</td>\n",
       "      <td>0.0</td>\n",
       "      <td>0.0</td>\n",
       "      <td>0.0</td>\n",
       "    </tr>\n",
       "    <tr>\n",
       "      <th>2</th>\n",
       "      <td>0.0</td>\n",
       "      <td>0.000000</td>\n",
       "      <td>0.0</td>\n",
       "      <td>0.0</td>\n",
       "      <td>0.0</td>\n",
       "      <td>0.0</td>\n",
       "      <td>0.0</td>\n",
       "      <td>0.0</td>\n",
       "      <td>0.0</td>\n",
       "      <td>0.0</td>\n",
       "      <td>...</td>\n",
       "      <td>0.0</td>\n",
       "      <td>0.0</td>\n",
       "      <td>0.0</td>\n",
       "      <td>0.0</td>\n",
       "      <td>0.0</td>\n",
       "      <td>0.0</td>\n",
       "      <td>0.0</td>\n",
       "      <td>0.0</td>\n",
       "      <td>0.0</td>\n",
       "      <td>0.0</td>\n",
       "    </tr>\n",
       "    <tr>\n",
       "      <th>3</th>\n",
       "      <td>0.0</td>\n",
       "      <td>0.000000</td>\n",
       "      <td>0.0</td>\n",
       "      <td>0.0</td>\n",
       "      <td>0.0</td>\n",
       "      <td>0.0</td>\n",
       "      <td>0.0</td>\n",
       "      <td>0.0</td>\n",
       "      <td>0.0</td>\n",
       "      <td>0.0</td>\n",
       "      <td>...</td>\n",
       "      <td>0.0</td>\n",
       "      <td>0.0</td>\n",
       "      <td>0.0</td>\n",
       "      <td>0.0</td>\n",
       "      <td>0.0</td>\n",
       "      <td>0.0</td>\n",
       "      <td>0.0</td>\n",
       "      <td>0.0</td>\n",
       "      <td>0.0</td>\n",
       "      <td>0.0</td>\n",
       "    </tr>\n",
       "    <tr>\n",
       "      <th>4</th>\n",
       "      <td>0.0</td>\n",
       "      <td>0.000000</td>\n",
       "      <td>0.0</td>\n",
       "      <td>0.0</td>\n",
       "      <td>0.0</td>\n",
       "      <td>0.0</td>\n",
       "      <td>0.0</td>\n",
       "      <td>0.0</td>\n",
       "      <td>0.0</td>\n",
       "      <td>0.0</td>\n",
       "      <td>...</td>\n",
       "      <td>0.0</td>\n",
       "      <td>0.0</td>\n",
       "      <td>0.0</td>\n",
       "      <td>0.0</td>\n",
       "      <td>0.0</td>\n",
       "      <td>0.0</td>\n",
       "      <td>0.0</td>\n",
       "      <td>0.0</td>\n",
       "      <td>0.0</td>\n",
       "      <td>0.0</td>\n",
       "    </tr>\n",
       "    <tr>\n",
       "      <th>...</th>\n",
       "      <td>...</td>\n",
       "      <td>...</td>\n",
       "      <td>...</td>\n",
       "      <td>...</td>\n",
       "      <td>...</td>\n",
       "      <td>...</td>\n",
       "      <td>...</td>\n",
       "      <td>...</td>\n",
       "      <td>...</td>\n",
       "      <td>...</td>\n",
       "      <td>...</td>\n",
       "      <td>...</td>\n",
       "      <td>...</td>\n",
       "      <td>...</td>\n",
       "      <td>...</td>\n",
       "      <td>...</td>\n",
       "      <td>...</td>\n",
       "      <td>...</td>\n",
       "      <td>...</td>\n",
       "      <td>...</td>\n",
       "      <td>...</td>\n",
       "    </tr>\n",
       "    <tr>\n",
       "      <th>9995</th>\n",
       "      <td>0.0</td>\n",
       "      <td>0.000000</td>\n",
       "      <td>0.0</td>\n",
       "      <td>0.0</td>\n",
       "      <td>0.0</td>\n",
       "      <td>0.0</td>\n",
       "      <td>0.0</td>\n",
       "      <td>0.0</td>\n",
       "      <td>0.0</td>\n",
       "      <td>0.0</td>\n",
       "      <td>...</td>\n",
       "      <td>0.0</td>\n",
       "      <td>0.0</td>\n",
       "      <td>0.0</td>\n",
       "      <td>0.0</td>\n",
       "      <td>0.0</td>\n",
       "      <td>0.0</td>\n",
       "      <td>0.0</td>\n",
       "      <td>0.0</td>\n",
       "      <td>0.0</td>\n",
       "      <td>0.0</td>\n",
       "    </tr>\n",
       "    <tr>\n",
       "      <th>9996</th>\n",
       "      <td>0.0</td>\n",
       "      <td>0.032044</td>\n",
       "      <td>0.0</td>\n",
       "      <td>0.0</td>\n",
       "      <td>0.0</td>\n",
       "      <td>0.0</td>\n",
       "      <td>0.0</td>\n",
       "      <td>0.0</td>\n",
       "      <td>0.0</td>\n",
       "      <td>0.0</td>\n",
       "      <td>...</td>\n",
       "      <td>0.0</td>\n",
       "      <td>0.0</td>\n",
       "      <td>0.0</td>\n",
       "      <td>0.0</td>\n",
       "      <td>0.0</td>\n",
       "      <td>0.0</td>\n",
       "      <td>0.0</td>\n",
       "      <td>0.0</td>\n",
       "      <td>0.0</td>\n",
       "      <td>0.0</td>\n",
       "    </tr>\n",
       "    <tr>\n",
       "      <th>9997</th>\n",
       "      <td>0.0</td>\n",
       "      <td>0.000000</td>\n",
       "      <td>0.0</td>\n",
       "      <td>0.0</td>\n",
       "      <td>0.0</td>\n",
       "      <td>0.0</td>\n",
       "      <td>0.0</td>\n",
       "      <td>0.0</td>\n",
       "      <td>0.0</td>\n",
       "      <td>0.0</td>\n",
       "      <td>...</td>\n",
       "      <td>0.0</td>\n",
       "      <td>0.0</td>\n",
       "      <td>0.0</td>\n",
       "      <td>0.0</td>\n",
       "      <td>0.0</td>\n",
       "      <td>0.0</td>\n",
       "      <td>0.0</td>\n",
       "      <td>0.0</td>\n",
       "      <td>0.0</td>\n",
       "      <td>0.0</td>\n",
       "    </tr>\n",
       "    <tr>\n",
       "      <th>9998</th>\n",
       "      <td>0.0</td>\n",
       "      <td>0.000000</td>\n",
       "      <td>0.0</td>\n",
       "      <td>0.0</td>\n",
       "      <td>0.0</td>\n",
       "      <td>0.0</td>\n",
       "      <td>0.0</td>\n",
       "      <td>0.0</td>\n",
       "      <td>0.0</td>\n",
       "      <td>0.0</td>\n",
       "      <td>...</td>\n",
       "      <td>0.0</td>\n",
       "      <td>0.0</td>\n",
       "      <td>0.0</td>\n",
       "      <td>0.0</td>\n",
       "      <td>0.0</td>\n",
       "      <td>0.0</td>\n",
       "      <td>0.0</td>\n",
       "      <td>0.0</td>\n",
       "      <td>0.0</td>\n",
       "      <td>0.0</td>\n",
       "    </tr>\n",
       "    <tr>\n",
       "      <th>9999</th>\n",
       "      <td>0.0</td>\n",
       "      <td>0.000000</td>\n",
       "      <td>0.0</td>\n",
       "      <td>0.0</td>\n",
       "      <td>0.0</td>\n",
       "      <td>0.0</td>\n",
       "      <td>0.0</td>\n",
       "      <td>0.0</td>\n",
       "      <td>0.0</td>\n",
       "      <td>0.0</td>\n",
       "      <td>...</td>\n",
       "      <td>0.0</td>\n",
       "      <td>0.0</td>\n",
       "      <td>0.0</td>\n",
       "      <td>0.0</td>\n",
       "      <td>0.0</td>\n",
       "      <td>0.0</td>\n",
       "      <td>0.0</td>\n",
       "      <td>0.0</td>\n",
       "      <td>0.0</td>\n",
       "      <td>0.0</td>\n",
       "    </tr>\n",
       "  </tbody>\n",
       "</table>\n",
       "<p>10000 rows × 87466 columns</p>\n",
       "</div>"
      ],
      "text/plain": [
       "       00       000  0000  00000  000000  \\\n",
       "0     0.0  0.000000   0.0    0.0     0.0   \n",
       "1     0.0  0.000000   0.0    0.0     0.0   \n",
       "2     0.0  0.000000   0.0    0.0     0.0   \n",
       "3     0.0  0.000000   0.0    0.0     0.0   \n",
       "4     0.0  0.000000   0.0    0.0     0.0   \n",
       "...   ...       ...   ...    ...     ...   \n",
       "9995  0.0  0.000000   0.0    0.0     0.0   \n",
       "9996  0.0  0.032044   0.0    0.0     0.0   \n",
       "9997  0.0  0.000000   0.0    0.0     0.0   \n",
       "9998  0.0  0.000000   0.0    0.0     0.0   \n",
       "9999  0.0  0.000000   0.0    0.0     0.0   \n",
       "\n",
       "      0000000000000000000000101111000111111001011111010001000100100011  \\\n",
       "0                                                   0.0                  \n",
       "1                                                   0.0                  \n",
       "2                                                   0.0                  \n",
       "3                                                   0.0                  \n",
       "4                                                   0.0                  \n",
       "...                                                 ...                  \n",
       "9995                                                0.0                  \n",
       "9996                                                0.0                  \n",
       "9997                                                0.0                  \n",
       "9998                                                0.0                  \n",
       "9999                                                0.0                  \n",
       "\n",
       "      00000270  00000278  00000280  00000288  ...  키울게요  태어날  테라폼  포켓몬카  하루종일  \\\n",
       "0          0.0       0.0       0.0       0.0  ...   0.0  0.0  0.0   0.0   0.0   \n",
       "1          0.0       0.0       0.0       0.0  ...   0.0  0.0  0.0   0.0   0.0   \n",
       "2          0.0       0.0       0.0       0.0  ...   0.0  0.0  0.0   0.0   0.0   \n",
       "3          0.0       0.0       0.0       0.0  ...   0.0  0.0  0.0   0.0   0.0   \n",
       "4          0.0       0.0       0.0       0.0  ...   0.0  0.0  0.0   0.0   0.0   \n",
       "...        ...       ...       ...       ...  ...   ...  ...  ...   ...   ...   \n",
       "9995       0.0       0.0       0.0       0.0  ...   0.0  0.0  0.0   0.0   0.0   \n",
       "9996       0.0       0.0       0.0       0.0  ...   0.0  0.0  0.0   0.0   0.0   \n",
       "9997       0.0       0.0       0.0       0.0  ...   0.0  0.0  0.0   0.0   0.0   \n",
       "9998       0.0       0.0       0.0       0.0  ...   0.0  0.0  0.0   0.0   0.0   \n",
       "9999       0.0       0.0       0.0       0.0  ...   0.0  0.0  0.0   0.0   0.0   \n",
       "\n",
       "      할수없는  합니다  행복을  행복하자  형님된거  \n",
       "0      0.0  0.0  0.0   0.0   0.0  \n",
       "1      0.0  0.0  0.0   0.0   0.0  \n",
       "2      0.0  0.0  0.0   0.0   0.0  \n",
       "3      0.0  0.0  0.0   0.0   0.0  \n",
       "4      0.0  0.0  0.0   0.0   0.0  \n",
       "...    ...  ...  ...   ...   ...  \n",
       "9995   0.0  0.0  0.0   0.0   0.0  \n",
       "9996   0.0  0.0  0.0   0.0   0.0  \n",
       "9997   0.0  0.0  0.0   0.0   0.0  \n",
       "9998   0.0  0.0  0.0   0.0   0.0  \n",
       "9999   0.0  0.0  0.0   0.0   0.0  \n",
       "\n",
       "[10000 rows x 87466 columns]"
      ]
     },
     "execution_count": 89,
     "metadata": {},
     "output_type": "execute_result"
    }
   ],
   "source": [
    "freq_table"
   ]
  },
  {
   "cell_type": "code",
   "execution_count": 86,
   "metadata": {},
   "outputs": [],
   "source": [
    "freq_0 = freq_table[freq_table['label'] == 0].sum().nlargest(1000)\n",
    "freq_1 = freq_table[freq_table['label'] == 1].sum().nlargest(1000)"
   ]
  },
  {
   "cell_type": "code",
   "execution_count": 87,
   "metadata": {},
   "outputs": [
    {
     "data": {
      "text/plain": [
       "the        803.223874\n",
       "to         405.716489\n",
       "and        364.063401\n",
       "of         363.782112\n",
       "in         279.032995\n",
       "              ...    \n",
       "capital      7.443476\n",
       "normal       7.435478\n",
       "worked       7.428515\n",
       "claims       7.420607\n",
       "sold         7.419083\n",
       "Length: 1000, dtype: float64"
      ]
     },
     "execution_count": 87,
     "metadata": {},
     "output_type": "execute_result"
    }
   ],
   "source": [
    "freq_0"
   ]
  },
  {
   "cell_type": "code",
   "execution_count": 88,
   "metadata": {},
   "outputs": [
    {
     "data": {
      "text/plain": [
       "label          5000.000000\n",
       "the            1047.827333\n",
       "to              524.192941\n",
       "of              430.808823\n",
       "and             389.669377\n",
       "                  ...     \n",
       "individuals       8.389328\n",
       "association       8.370701\n",
       "wall              8.354256\n",
       "couldn            8.338752\n",
       "message           8.333328\n",
       "Length: 1000, dtype: float64"
      ]
     },
     "execution_count": 88,
     "metadata": {},
     "output_type": "execute_result"
    }
   ],
   "source": [
    "freq_1"
   ]
  },
  {
   "cell_type": "code",
   "execution_count": 31,
   "metadata": {},
   "outputs": [
    {
     "data": {
      "text/plain": [
       "label\n",
       "0    432.1934\n",
       "1    491.5080\n",
       "Name: sentence_length, dtype: float64"
      ]
     },
     "execution_count": 31,
     "metadata": {},
     "output_type": "execute_result"
    }
   ],
   "source": [
    "pred_test['sentence_length'] = pred_test['text'].apply(lambda x: len(x.split()))\n",
    "average_length_per_label = pred_test.groupby('label')['sentence_length'].mean()\n",
    "average_length_per_label\n",
    "#do statistical test"
   ]
  },
  {
   "cell_type": "markdown",
   "metadata": {},
   "source": [
    "## plots of likelihoods"
   ]
  },
  {
   "cell_type": "code",
   "execution_count": 16,
   "metadata": {},
   "outputs": [],
   "source": [
    "import statsmodels"
   ]
  }
 ],
 "metadata": {
  "kernelspec": {
   "display_name": "Python 3",
   "language": "python",
   "name": "python3"
  },
  "language_info": {
   "codemirror_mode": {
    "name": "ipython",
    "version": 3
   },
   "file_extension": ".py",
   "mimetype": "text/x-python",
   "name": "python",
   "nbconvert_exporter": "python",
   "pygments_lexer": "ipython3",
   "version": "3.9.16"
  },
  "orig_nbformat": 4
 },
 "nbformat": 4,
 "nbformat_minor": 2
}
