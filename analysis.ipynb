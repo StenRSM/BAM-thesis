{
 "cells": [
  {
   "attachments": {},
   "cell_type": "markdown",
   "metadata": {},
   "source": [
    "# Analysis on predicted values"
   ]
  },
  {
   "cell_type": "code",
   "execution_count": 1,
   "metadata": {},
   "outputs": [],
   "source": [
    "import pandas as pd\n",
    "from scipy.stats import ttest_ind\n",
    "from sklearn.metrics import accuracy_score, precision_score, recall_score, f1_score\n",
    "from sklearn.feature_extraction.text import CountVectorizer"
   ]
  },
  {
   "cell_type": "code",
   "execution_count": 2,
   "metadata": {},
   "outputs": [],
   "source": [
    "def scores(y, y_pred):\n",
    "    accu = accuracy_score(y, y_pred)\n",
    "    prec = precision_score(y, y_pred)\n",
    "    rec = recall_score(y, y_pred)\n",
    "    f1 = f1_score(y, y_pred)\n",
    "\n",
    "    print('Accuracy: ', round(accu, 2))\n",
    "    print('Precision: ', round(prec, 2))\n",
    "    print('Recall: ', round(rec, 2))\n",
    "    print(\"F1 Score: \", round(f1, 2))"
   ]
  },
  {
   "cell_type": "code",
   "execution_count": 3,
   "metadata": {},
   "outputs": [],
   "source": [
    "# pred_finance = pd.read_csv(r'C:\\Users\\Sten\\Documents\\EUR BAM\\Thesis\\data\\predictions\\finance_predicted_LR1.csv')\n",
    "# pred_sport = pd.read_csv(r'C:\\Users\\Sten\\Documents\\EUR BAM\\Thesis\\data\\predictions\\sport_predicted_LR1.csv')\n",
    "# pred_election = pd.read_csv(r'C:\\Users\\Sten\\Documents\\EUR BAM\\Thesis\\data\\predictions\\election_predicted_LR1.csv')\n",
    "# pred_general = pd.read_csv(r'C:\\Users\\Sten\\Documents\\EUR BAM\\Thesis\\data\\predictions\\general_predicted_LR1.csv')"
   ]
  },
  {
   "cell_type": "code",
   "execution_count": 3,
   "metadata": {},
   "outputs": [],
   "source": [
    "pred_finance = pd.read_csv(r'C:\\Users\\Sten\\Documents\\EUR BAM\\Thesis\\data\\predictions\\finance_predicted_LLM1.csv')\n",
    "pred_sport = pd.read_csv(r'C:\\Users\\Sten\\Documents\\EUR BAM\\Thesis\\data\\predictions\\sport_predicted_LLM1.csv')\n",
    "pred_election = pd.read_csv(r'C:\\Users\\Sten\\Documents\\EUR BAM\\Thesis\\data\\predictions\\election_predicted_LLM1.csv')\n",
    "pred_general = pd.read_csv(r'C:\\Users\\Sten\\Documents\\EUR BAM\\Thesis\\data\\predictions\\general_predicted_LLM1.csv')\n",
    "\n",
    "pred_finance['1'] = pred_finance['predictions']\n",
    "pred_sport['1'] = pred_sport['predictions']\n",
    "pred_election['1'] = pred_election['predictions']\n",
    "pred_general['1'] = pred_general['predictions']"
   ]
  },
  {
   "cell_type": "code",
   "execution_count": 8,
   "metadata": {},
   "outputs": [
    {
     "data": {
      "text/html": [
       "<div>\n",
       "<style scoped>\n",
       "    .dataframe tbody tr th:only-of-type {\n",
       "        vertical-align: middle;\n",
       "    }\n",
       "\n",
       "    .dataframe tbody tr th {\n",
       "        vertical-align: top;\n",
       "    }\n",
       "\n",
       "    .dataframe thead th {\n",
       "        text-align: right;\n",
       "    }\n",
       "</style>\n",
       "<table border=\"1\" class=\"dataframe\">\n",
       "  <thead>\n",
       "    <tr style=\"text-align: right;\">\n",
       "      <th></th>\n",
       "      <th>index</th>\n",
       "      <th>date</th>\n",
       "      <th>url</th>\n",
       "      <th>author</th>\n",
       "      <th>title</th>\n",
       "      <th>topic</th>\n",
       "      <th>summary</th>\n",
       "      <th>q</th>\n",
       "      <th>predictions</th>\n",
       "      <th>1</th>\n",
       "    </tr>\n",
       "  </thead>\n",
       "  <tbody>\n",
       "    <tr>\n",
       "      <th>0</th>\n",
       "      <td>4127</td>\n",
       "      <td>2023-06-01 19:30:00</td>\n",
       "      <td>msn.com</td>\n",
       "      <td>More Law&amp;Crime coverage</td>\n",
       "      <td>Woman arrested for allegedly sending her dog t...</td>\n",
       "      <td>news</td>\n",
       "      <td>Braquelle Lynn Rutherford appears in a mugshot...</td>\n",
       "      <td>\"the\"</td>\n",
       "      <td>0.004418</td>\n",
       "      <td>0.004418</td>\n",
       "    </tr>\n",
       "    <tr>\n",
       "      <th>1</th>\n",
       "      <td>7018</td>\n",
       "      <td>2023-05-31 11:14:47</td>\n",
       "      <td>indianexpress.com</td>\n",
       "      <td>Express Web Desk</td>\n",
       "      <td>Hindu worshippers' plea on right to pray in Gy...</td>\n",
       "      <td>news</td>\n",
       "      <td>Allowing the case to continue before a local V...</td>\n",
       "      <td>\"the\"</td>\n",
       "      <td>0.000118</td>\n",
       "      <td>0.000118</td>\n",
       "    </tr>\n",
       "    <tr>\n",
       "      <th>2</th>\n",
       "      <td>685</td>\n",
       "      <td>2023-06-04 16:15:57</td>\n",
       "      <td>yahoo.com</td>\n",
       "      <td>India McTaggart</td>\n",
       "      <td>King Charles hails ‘reassuring presence' of tr...</td>\n",
       "      <td>news</td>\n",
       "      <td>The King has hailed the 'enduring and reassuri...</td>\n",
       "      <td>\"the\"</td>\n",
       "      <td>0.834189</td>\n",
       "      <td>0.834189</td>\n",
       "    </tr>\n",
       "    <tr>\n",
       "      <th>3</th>\n",
       "      <td>2831</td>\n",
       "      <td>2023-06-02 19:30:00</td>\n",
       "      <td>msn.com</td>\n",
       "      <td>NaN</td>\n",
       "      <td>This is how Lady Louise earns her money</td>\n",
       "      <td>news</td>\n",
       "      <td>Lady Louise, the daughter of Britain's Prince ...</td>\n",
       "      <td>\"the\"</td>\n",
       "      <td>0.931374</td>\n",
       "      <td>0.931374</td>\n",
       "    </tr>\n",
       "    <tr>\n",
       "      <th>4</th>\n",
       "      <td>2003</td>\n",
       "      <td>2023-06-02 14:43:34</td>\n",
       "      <td>msn.com</td>\n",
       "      <td>Craig Minami</td>\n",
       "      <td>Diego Cartaya homers again Tulsa's comeback win</td>\n",
       "      <td>news</td>\n",
       "      <td>Oklahoma City and Tulsa were able overcome lea...</td>\n",
       "      <td>\"the\"</td>\n",
       "      <td>0.003672</td>\n",
       "      <td>0.003672</td>\n",
       "    </tr>\n",
       "    <tr>\n",
       "      <th>...</th>\n",
       "      <td>...</td>\n",
       "      <td>...</td>\n",
       "      <td>...</td>\n",
       "      <td>...</td>\n",
       "      <td>...</td>\n",
       "      <td>...</td>\n",
       "      <td>...</td>\n",
       "      <td>...</td>\n",
       "      <td>...</td>\n",
       "      <td>...</td>\n",
       "    </tr>\n",
       "    <tr>\n",
       "      <th>7340</th>\n",
       "      <td>693</td>\n",
       "      <td>2023-06-03 09:18:00</td>\n",
       "      <td>yahoo.com</td>\n",
       "      <td>Reuters</td>\n",
       "      <td>Transfer of holy icon shows Russian Orthodoxy'...</td>\n",
       "      <td>news</td>\n",
       "      <td>MOSCOW, June 3 (Reuters) - President Vladimir ...</td>\n",
       "      <td>\"the\"</td>\n",
       "      <td>0.000574</td>\n",
       "      <td>0.000574</td>\n",
       "    </tr>\n",
       "    <tr>\n",
       "      <th>7341</th>\n",
       "      <td>1808</td>\n",
       "      <td>2023-05-30 00:00:00</td>\n",
       "      <td>mdpi.com</td>\n",
       "      <td>Mei Yu</td>\n",
       "      <td>A Shallow Pooled Weighted Feature Enhancement ...</td>\n",
       "      <td>science</td>\n",
       "      <td>College of Computer and Technology, China Thre...</td>\n",
       "      <td>\"the\"</td>\n",
       "      <td>0.000224</td>\n",
       "      <td>0.000224</td>\n",
       "    </tr>\n",
       "    <tr>\n",
       "      <th>7342</th>\n",
       "      <td>1040</td>\n",
       "      <td>2023-06-04 17:03:08</td>\n",
       "      <td>nytimes.com</td>\n",
       "      <td>Isabel Kershner</td>\n",
       "      <td>In Israel, Tough Questions Follow Fatal Attack...</td>\n",
       "      <td>news</td>\n",
       "      <td>A breached emergency gate at Israel's southern...</td>\n",
       "      <td>\"the\"</td>\n",
       "      <td>0.001623</td>\n",
       "      <td>0.001623</td>\n",
       "    </tr>\n",
       "    <tr>\n",
       "      <th>7343</th>\n",
       "      <td>3234</td>\n",
       "      <td>2023-05-30 11:19:48</td>\n",
       "      <td>dailymail.co.uk</td>\n",
       "      <td>Allan Glen</td>\n",
       "      <td>Ex-ferryman's cottage measuring just 232sq ft ...</td>\n",
       "      <td>business</td>\n",
       "      <td>Published:    07:19 EDT, 30 May 2023     |    ...</td>\n",
       "      <td>\"the\"</td>\n",
       "      <td>0.008083</td>\n",
       "      <td>0.008083</td>\n",
       "    </tr>\n",
       "    <tr>\n",
       "      <th>7344</th>\n",
       "      <td>311</td>\n",
       "      <td>2023-05-30 21:52:04</td>\n",
       "      <td>yahoo.com</td>\n",
       "      <td>Logan Nye</td>\n",
       "      <td>The German convoy attack that helped lead to t...</td>\n",
       "      <td>news</td>\n",
       "      <td>How did the relationship with the other Allies...</td>\n",
       "      <td>\"the\"</td>\n",
       "      <td>0.898516</td>\n",
       "      <td>0.898516</td>\n",
       "    </tr>\n",
       "  </tbody>\n",
       "</table>\n",
       "<p>7345 rows × 10 columns</p>\n",
       "</div>"
      ],
      "text/plain": [
       "      index                 date                url                   author  \\\n",
       "0      4127  2023-06-01 19:30:00            msn.com  More Law&Crime coverage   \n",
       "1      7018  2023-05-31 11:14:47  indianexpress.com         Express Web Desk   \n",
       "2       685  2023-06-04 16:15:57          yahoo.com          India McTaggart   \n",
       "3      2831  2023-06-02 19:30:00            msn.com                      NaN   \n",
       "4      2003  2023-06-02 14:43:34            msn.com             Craig Minami   \n",
       "...     ...                  ...                ...                      ...   \n",
       "7340    693  2023-06-03 09:18:00          yahoo.com                  Reuters   \n",
       "7341   1808  2023-05-30 00:00:00           mdpi.com                   Mei Yu   \n",
       "7342   1040  2023-06-04 17:03:08        nytimes.com          Isabel Kershner   \n",
       "7343   3234  2023-05-30 11:19:48    dailymail.co.uk               Allan Glen   \n",
       "7344    311  2023-05-30 21:52:04          yahoo.com                Logan Nye   \n",
       "\n",
       "                                                  title     topic  \\\n",
       "0     Woman arrested for allegedly sending her dog t...      news   \n",
       "1     Hindu worshippers' plea on right to pray in Gy...      news   \n",
       "2     King Charles hails ‘reassuring presence' of tr...      news   \n",
       "3               This is how Lady Louise earns her money      news   \n",
       "4       Diego Cartaya homers again Tulsa's comeback win      news   \n",
       "...                                                 ...       ...   \n",
       "7340  Transfer of holy icon shows Russian Orthodoxy'...      news   \n",
       "7341  A Shallow Pooled Weighted Feature Enhancement ...   science   \n",
       "7342  In Israel, Tough Questions Follow Fatal Attack...      news   \n",
       "7343  Ex-ferryman's cottage measuring just 232sq ft ...  business   \n",
       "7344  The German convoy attack that helped lead to t...      news   \n",
       "\n",
       "                                                summary      q  predictions  \\\n",
       "0     Braquelle Lynn Rutherford appears in a mugshot...  \"the\"     0.004418   \n",
       "1     Allowing the case to continue before a local V...  \"the\"     0.000118   \n",
       "2     The King has hailed the 'enduring and reassuri...  \"the\"     0.834189   \n",
       "3     Lady Louise, the daughter of Britain's Prince ...  \"the\"     0.931374   \n",
       "4     Oklahoma City and Tulsa were able overcome lea...  \"the\"     0.003672   \n",
       "...                                                 ...    ...          ...   \n",
       "7340  MOSCOW, June 3 (Reuters) - President Vladimir ...  \"the\"     0.000574   \n",
       "7341  College of Computer and Technology, China Thre...  \"the\"     0.000224   \n",
       "7342  A breached emergency gate at Israel's southern...  \"the\"     0.001623   \n",
       "7343  Published:    07:19 EDT, 30 May 2023     |    ...  \"the\"     0.008083   \n",
       "7344  How did the relationship with the other Allies...  \"the\"     0.898516   \n",
       "\n",
       "             1  \n",
       "0     0.004418  \n",
       "1     0.000118  \n",
       "2     0.834189  \n",
       "3     0.931374  \n",
       "4     0.003672  \n",
       "...        ...  \n",
       "7340  0.000574  \n",
       "7341  0.000224  \n",
       "7342  0.001623  \n",
       "7343  0.008083  \n",
       "7344  0.898516  \n",
       "\n",
       "[7345 rows x 10 columns]"
      ]
     },
     "execution_count": 8,
     "metadata": {},
     "output_type": "execute_result"
    }
   ],
   "source": [
    "pred_general"
   ]
  },
  {
   "cell_type": "code",
   "execution_count": 4,
   "metadata": {},
   "outputs": [
    {
     "name": "stdout",
     "output_type": "stream",
     "text": [
      "Average likelikhood of general news:  0.1542\n",
      "Average likelikhood of financial news:  0.2159\n",
      "Average likelikhood of sports news:  0.186\n",
      "Average likelikhood of election news:  0.201\n"
     ]
    }
   ],
   "source": [
    "print('Average likelikhood of general news: ' , pred_general['1'].mean().round(4))\n",
    "print('Average likelikhood of financial news: ' , pred_finance['1'].mean().round(4))\n",
    "print('Average likelikhood of sports news: ' , pred_sport['1'].mean().round(4))\n",
    "print('Average likelikhood of election news: ' , pred_election['1'].mean().round(4))"
   ]
  },
  {
   "cell_type": "code",
   "execution_count": 5,
   "metadata": {},
   "outputs": [
    {
     "name": "stdout",
     "output_type": "stream",
     "text": [
      "8.281824813837419\n",
      "1.369143882490157e-16\n"
     ]
    }
   ],
   "source": [
    "t_statistic, p_value = ttest_ind(pred_finance['1'], pred_general['1'])\n",
    "print(t_statistic)\n",
    "print(p_value)"
   ]
  },
  {
   "cell_type": "code",
   "execution_count": 6,
   "metadata": {},
   "outputs": [
    {
     "name": "stdout",
     "output_type": "stream",
     "text": [
      "4.550603559929435\n",
      "5.410310432396939e-06\n"
     ]
    }
   ],
   "source": [
    "t_statistic, p_value = ttest_ind(pred_sport['1'], pred_general['1'])\n",
    "print(t_statistic)\n",
    "print(p_value)"
   ]
  },
  {
   "cell_type": "code",
   "execution_count": 7,
   "metadata": {},
   "outputs": [
    {
     "name": "stdout",
     "output_type": "stream",
     "text": [
      "6.673771968071049\n",
      "2.6201102461941682e-11\n"
     ]
    }
   ],
   "source": [
    "t_statistic, p_value = ttest_ind(pred_election['1'], pred_general['1'])\n",
    "print(t_statistic)\n",
    "print(p_value)"
   ]
  },
  {
   "cell_type": "markdown",
   "metadata": {},
   "source": [
    "## Analysis on older news articles"
   ]
  },
  {
   "cell_type": "code",
   "execution_count": 3,
   "metadata": {},
   "outputs": [],
   "source": [
    "pred_old = pd.read_csv(r'C:\\Users\\Sten\\Documents\\EUR BAM\\Thesis\\data\\predictions\\old_news_predicted_LLM1.csv')"
   ]
  },
  {
   "cell_type": "code",
   "execution_count": 4,
   "metadata": {},
   "outputs": [
    {
     "data": {
      "text/html": [
       "<div>\n",
       "<style scoped>\n",
       "    .dataframe tbody tr th:only-of-type {\n",
       "        vertical-align: middle;\n",
       "    }\n",
       "\n",
       "    .dataframe tbody tr th {\n",
       "        vertical-align: top;\n",
       "    }\n",
       "\n",
       "    .dataframe thead th {\n",
       "        text-align: right;\n",
       "    }\n",
       "</style>\n",
       "<table border=\"1\" class=\"dataframe\">\n",
       "  <thead>\n",
       "    <tr style=\"text-align: right;\">\n",
       "      <th></th>\n",
       "      <th>Unnamed: 0</th>\n",
       "      <th>class</th>\n",
       "      <th>title</th>\n",
       "      <th>text</th>\n",
       "      <th>predictions</th>\n",
       "    </tr>\n",
       "  </thead>\n",
       "  <tbody>\n",
       "    <tr>\n",
       "      <th>0</th>\n",
       "      <td>14601</td>\n",
       "      <td>1</td>\n",
       "      <td>French Officials to Visit Baghdad To Seek Rele...</td>\n",
       "      <td>French Foreign Minister Michel Barnier says go...</td>\n",
       "      <td>0.034568</td>\n",
       "    </tr>\n",
       "    <tr>\n",
       "      <th>1</th>\n",
       "      <td>67655</td>\n",
       "      <td>4</td>\n",
       "      <td>US argues for federal VoIP rules</td>\n",
       "      <td>quot;We cannot avoid this question any longer...</td>\n",
       "      <td>0.001884</td>\n",
       "    </tr>\n",
       "    <tr>\n",
       "      <th>2</th>\n",
       "      <td>7826</td>\n",
       "      <td>4</td>\n",
       "      <td>Reciprocal Link Scams</td>\n",
       "      <td>Reciprocal Link Scams\\ \\Reciprocal link scams ...</td>\n",
       "      <td>0.000172</td>\n",
       "    </tr>\n",
       "    <tr>\n",
       "      <th>3</th>\n",
       "      <td>18894</td>\n",
       "      <td>1</td>\n",
       "      <td>S.Korea's Roh Sees Slow Progress in 6-Party Ta...</td>\n",
       "      <td>Reuters - South Korean President Roh Moo-hyun ...</td>\n",
       "      <td>0.000180</td>\n",
       "    </tr>\n",
       "    <tr>\n",
       "      <th>4</th>\n",
       "      <td>71083</td>\n",
       "      <td>3</td>\n",
       "      <td>US Analyst unimpressed, Swanepoel unfazed</td>\n",
       "      <td>JOHANNESBURG (Mineweb.com) -- Harmony represen...</td>\n",
       "      <td>0.037594</td>\n",
       "    </tr>\n",
       "    <tr>\n",
       "      <th>...</th>\n",
       "      <td>...</td>\n",
       "      <td>...</td>\n",
       "      <td>...</td>\n",
       "      <td>...</td>\n",
       "      <td>...</td>\n",
       "    </tr>\n",
       "    <tr>\n",
       "      <th>119994</th>\n",
       "      <td>66167</td>\n",
       "      <td>3</td>\n",
       "      <td>Grinstein: News Gives Blues As Delta Posts \\$6...</td>\n",
       "      <td>Blame it on Charlie. And Frances, Ivan and Jea...</td>\n",
       "      <td>0.000103</td>\n",
       "    </tr>\n",
       "    <tr>\n",
       "      <th>119995</th>\n",
       "      <td>83541</td>\n",
       "      <td>2</td>\n",
       "      <td>Nowitzki, Mavs Surge Past Memphis 112-88 (AP)</td>\n",
       "      <td>AP - Dirk Nowitzki hit a nifty basket that tur...</td>\n",
       "      <td>0.001876</td>\n",
       "    </tr>\n",
       "    <tr>\n",
       "      <th>119996</th>\n",
       "      <td>9141</td>\n",
       "      <td>2</td>\n",
       "      <td>U.S. Takes the Bronze in Women's Beach Volleyball</td>\n",
       "      <td>ATHENS (Reuters) - Americans Holly McPeak and...</td>\n",
       "      <td>0.018713</td>\n",
       "    </tr>\n",
       "    <tr>\n",
       "      <th>119997</th>\n",
       "      <td>68419</td>\n",
       "      <td>2</td>\n",
       "      <td>Hamm keeps gold</td>\n",
       "      <td>More than two months after he won it in Athens...</td>\n",
       "      <td>0.000112</td>\n",
       "    </tr>\n",
       "    <tr>\n",
       "      <th>119998</th>\n",
       "      <td>49443</td>\n",
       "      <td>2</td>\n",
       "      <td>Packers deal disgruntled CB McKenzie to Saints</td>\n",
       "      <td>The Packers said they had acquired quarterback...</td>\n",
       "      <td>0.014438</td>\n",
       "    </tr>\n",
       "  </tbody>\n",
       "</table>\n",
       "<p>119999 rows × 5 columns</p>\n",
       "</div>"
      ],
      "text/plain": [
       "        Unnamed: 0  class                                              title  \\\n",
       "0            14601      1  French Officials to Visit Baghdad To Seek Rele...   \n",
       "1            67655      4                   US argues for federal VoIP rules   \n",
       "2             7826      4                              Reciprocal Link Scams   \n",
       "3            18894      1  S.Korea's Roh Sees Slow Progress in 6-Party Ta...   \n",
       "4            71083      3          US Analyst unimpressed, Swanepoel unfazed   \n",
       "...            ...    ...                                                ...   \n",
       "119994       66167      3  Grinstein: News Gives Blues As Delta Posts \\$6...   \n",
       "119995       83541      2      Nowitzki, Mavs Surge Past Memphis 112-88 (AP)   \n",
       "119996        9141      2  U.S. Takes the Bronze in Women's Beach Volleyball   \n",
       "119997       68419      2                                    Hamm keeps gold   \n",
       "119998       49443      2     Packers deal disgruntled CB McKenzie to Saints   \n",
       "\n",
       "                                                     text  predictions  \n",
       "0       French Foreign Minister Michel Barnier says go...     0.034568  \n",
       "1        quot;We cannot avoid this question any longer...     0.001884  \n",
       "2       Reciprocal Link Scams\\ \\Reciprocal link scams ...     0.000172  \n",
       "3       Reuters - South Korean President Roh Moo-hyun ...     0.000180  \n",
       "4       JOHANNESBURG (Mineweb.com) -- Harmony represen...     0.037594  \n",
       "...                                                   ...          ...  \n",
       "119994  Blame it on Charlie. And Frances, Ivan and Jea...     0.000103  \n",
       "119995  AP - Dirk Nowitzki hit a nifty basket that tur...     0.001876  \n",
       "119996   ATHENS (Reuters) - Americans Holly McPeak and...     0.018713  \n",
       "119997  More than two months after he won it in Athens...     0.000112  \n",
       "119998  The Packers said they had acquired quarterback...     0.014438  \n",
       "\n",
       "[119999 rows x 5 columns]"
      ]
     },
     "execution_count": 4,
     "metadata": {},
     "output_type": "execute_result"
    }
   ],
   "source": [
    "pred_old"
   ]
  },
  {
   "cell_type": "code",
   "execution_count": 5,
   "metadata": {},
   "outputs": [
    {
     "name": "stdout",
     "output_type": "stream",
     "text": [
      "Average likelikhood of old news:  0.1686\n"
     ]
    }
   ],
   "source": [
    "print('Average likelikhood of old news: ' , pred_old['predictions'].mean().round(4))"
   ]
  },
  {
   "cell_type": "markdown",
   "metadata": {},
   "source": [
    "## Check generalizability on newer GPT models"
   ]
  },
  {
   "cell_type": "markdown",
   "metadata": {},
   "source": [
    "### GPT-3.5"
   ]
  },
  {
   "cell_type": "code",
   "execution_count": 15,
   "metadata": {},
   "outputs": [],
   "source": [
    "pred_GPT3 = pd.read_csv(r'C:\\Users\\Sten\\Documents\\EUR BAM\\Thesis\\data\\predictions\\gpt_3_predicted_LLM1.csv')\n",
    "pred_GPT4 = pd.read_csv(r'C:\\Users\\Sten\\Documents\\EUR BAM\\Thesis\\data\\predictions\\gpt_4_predicted_LLM1.csv')"
   ]
  },
  {
   "cell_type": "code",
   "execution_count": 16,
   "metadata": {},
   "outputs": [
    {
     "data": {
      "text/html": [
       "<div>\n",
       "<style scoped>\n",
       "    .dataframe tbody tr th:only-of-type {\n",
       "        vertical-align: middle;\n",
       "    }\n",
       "\n",
       "    .dataframe tbody tr th {\n",
       "        vertical-align: top;\n",
       "    }\n",
       "\n",
       "    .dataframe thead th {\n",
       "        text-align: right;\n",
       "    }\n",
       "</style>\n",
       "<table border=\"1\" class=\"dataframe\">\n",
       "  <thead>\n",
       "    <tr style=\"text-align: right;\">\n",
       "      <th></th>\n",
       "      <th>index</th>\n",
       "      <th>text</th>\n",
       "      <th>label</th>\n",
       "      <th>predictions</th>\n",
       "      <th>pred_label</th>\n",
       "    </tr>\n",
       "  </thead>\n",
       "  <tbody>\n",
       "    <tr>\n",
       "      <th>0</th>\n",
       "      <td>766</td>\n",
       "      <td>After banning firecrackers on Diwali, Supreme ...</td>\n",
       "      <td>0</td>\n",
       "      <td>0.000841</td>\n",
       "      <td>0</td>\n",
       "    </tr>\n",
       "    <tr>\n",
       "      <th>1</th>\n",
       "      <td>1014</td>\n",
       "      <td>Please enable Javascript to watch this video\\n...</td>\n",
       "      <td>0</td>\n",
       "      <td>0.000187</td>\n",
       "      <td>0</td>\n",
       "    </tr>\n",
       "    <tr>\n",
       "      <th>2</th>\n",
       "      <td>264</td>\n",
       "      <td>Researchers have developed an AI model that ca...</td>\n",
       "      <td>1</td>\n",
       "      <td>0.944019</td>\n",
       "      <td>1</td>\n",
       "    </tr>\n",
       "    <tr>\n",
       "      <th>3</th>\n",
       "      <td>781</td>\n",
       "      <td>From /tg/station 13 wiki\\n\\nSpace Station 13 i...</td>\n",
       "      <td>0</td>\n",
       "      <td>0.605472</td>\n",
       "      <td>1</td>\n",
       "    </tr>\n",
       "    <tr>\n",
       "      <th>4</th>\n",
       "      <td>478</td>\n",
       "      <td>Researchers have used AI to decode the 'langua...</td>\n",
       "      <td>1</td>\n",
       "      <td>0.274631</td>\n",
       "      <td>0</td>\n",
       "    </tr>\n",
       "    <tr>\n",
       "      <th>...</th>\n",
       "      <td>...</td>\n",
       "      <td>...</td>\n",
       "      <td>...</td>\n",
       "      <td>...</td>\n",
       "      <td>...</td>\n",
       "    </tr>\n",
       "    <tr>\n",
       "      <th>1147</th>\n",
       "      <td>722</td>\n",
       "      <td>From Minecraft Wiki\\n\\nLoot tables are technic...</td>\n",
       "      <td>0</td>\n",
       "      <td>0.017534</td>\n",
       "      <td>0</td>\n",
       "    </tr>\n",
       "    <tr>\n",
       "      <th>1148</th>\n",
       "      <td>55</td>\n",
       "      <td>Google has announced a significant update to i...</td>\n",
       "      <td>1</td>\n",
       "      <td>0.046588</td>\n",
       "      <td>0</td>\n",
       "    </tr>\n",
       "    <tr>\n",
       "      <th>1149</th>\n",
       "      <td>373</td>\n",
       "      <td>Netflix has announced a new feature that lets ...</td>\n",
       "      <td>1</td>\n",
       "      <td>0.996706</td>\n",
       "      <td>1</td>\n",
       "    </tr>\n",
       "    <tr>\n",
       "      <th>1150</th>\n",
       "      <td>259</td>\n",
       "      <td>Google has unveiled a new AI tool that can det...</td>\n",
       "      <td>1</td>\n",
       "      <td>0.363688</td>\n",
       "      <td>0</td>\n",
       "    </tr>\n",
       "    <tr>\n",
       "      <th>1151</th>\n",
       "      <td>892</td>\n",
       "      <td>\"White rockstars (and pop stars) have been sni...</td>\n",
       "      <td>0</td>\n",
       "      <td>0.000123</td>\n",
       "      <td>0</td>\n",
       "    </tr>\n",
       "  </tbody>\n",
       "</table>\n",
       "<p>1152 rows × 5 columns</p>\n",
       "</div>"
      ],
      "text/plain": [
       "      index                                               text  label  \\\n",
       "0       766  After banning firecrackers on Diwali, Supreme ...      0   \n",
       "1      1014  Please enable Javascript to watch this video\\n...      0   \n",
       "2       264  Researchers have developed an AI model that ca...      1   \n",
       "3       781  From /tg/station 13 wiki\\n\\nSpace Station 13 i...      0   \n",
       "4       478  Researchers have used AI to decode the 'langua...      1   \n",
       "...     ...                                                ...    ...   \n",
       "1147    722  From Minecraft Wiki\\n\\nLoot tables are technic...      0   \n",
       "1148     55  Google has announced a significant update to i...      1   \n",
       "1149    373  Netflix has announced a new feature that lets ...      1   \n",
       "1150    259  Google has unveiled a new AI tool that can det...      1   \n",
       "1151    892  \"White rockstars (and pop stars) have been sni...      0   \n",
       "\n",
       "      predictions  pred_label  \n",
       "0        0.000841           0  \n",
       "1        0.000187           0  \n",
       "2        0.944019           1  \n",
       "3        0.605472           1  \n",
       "4        0.274631           0  \n",
       "...           ...         ...  \n",
       "1147     0.017534           0  \n",
       "1148     0.046588           0  \n",
       "1149     0.996706           1  \n",
       "1150     0.363688           0  \n",
       "1151     0.000123           0  \n",
       "\n",
       "[1152 rows x 5 columns]"
      ]
     },
     "execution_count": 16,
     "metadata": {},
     "output_type": "execute_result"
    }
   ],
   "source": [
    "pred_GPT3['pred_label'] = pred_GPT3['predictions'].apply(lambda x: 1 if x>=0.5 else 0)\n",
    "pred_GPT4['pred_label'] = pred_GPT4['predictions'].apply(lambda x: 1 if x>=0.5 else 0)\n",
    "pred_GPT4"
   ]
  },
  {
   "cell_type": "code",
   "execution_count": 14,
   "metadata": {},
   "outputs": [
    {
     "name": "stdout",
     "output_type": "stream",
     "text": [
      "Accuracy:  0.6\n",
      "Precision:  0.75\n",
      "Recall:  0.31\n",
      "F1 Score:  0.44\n"
     ]
    }
   ],
   "source": [
    "scores(pred_GPT3['label'], pred_GPT3['pred_label'])"
   ]
  },
  {
   "cell_type": "code",
   "execution_count": 17,
   "metadata": {},
   "outputs": [
    {
     "name": "stdout",
     "output_type": "stream",
     "text": [
      "Accuracy:  0.73\n",
      "Precision:  0.85\n",
      "Recall:  0.57\n",
      "F1 Score:  0.68\n"
     ]
    }
   ],
   "source": [
    "scores(pred_GPT4['label'], pred_GPT4['pred_label'])"
   ]
  },
  {
   "cell_type": "markdown",
   "metadata": {},
   "source": [
    "## Feature importance on distilBERT model"
   ]
  },
  {
   "cell_type": "code",
   "execution_count": 3,
   "metadata": {},
   "outputs": [],
   "source": [
    "pred_test = pd.read_csv(r'C:\\Users\\Sten\\Documents\\EUR BAM\\Thesis\\data\\predictions\\test_predicted_LLM1.csv')"
   ]
  },
  {
   "cell_type": "code",
   "execution_count": 4,
   "metadata": {},
   "outputs": [
    {
     "data": {
      "text/html": [
       "<div>\n",
       "<style scoped>\n",
       "    .dataframe tbody tr th:only-of-type {\n",
       "        vertical-align: middle;\n",
       "    }\n",
       "\n",
       "    .dataframe tbody tr th {\n",
       "        vertical-align: top;\n",
       "    }\n",
       "\n",
       "    .dataframe thead th {\n",
       "        text-align: right;\n",
       "    }\n",
       "</style>\n",
       "<table border=\"1\" class=\"dataframe\">\n",
       "  <thead>\n",
       "    <tr style=\"text-align: right;\">\n",
       "      <th></th>\n",
       "      <th>text</th>\n",
       "      <th>label</th>\n",
       "      <th>predictions</th>\n",
       "      <th>pred_label</th>\n",
       "    </tr>\n",
       "  </thead>\n",
       "  <tbody>\n",
       "    <tr>\n",
       "      <th>0</th>\n",
       "      <td>The University of Illinois Police Department (...</td>\n",
       "      <td>1</td>\n",
       "      <td>0.996156</td>\n",
       "      <td>1</td>\n",
       "    </tr>\n",
       "    <tr>\n",
       "      <th>1</th>\n",
       "      <td>PURPOSE:\\n\\nThis study evaluated the effect of...</td>\n",
       "      <td>1</td>\n",
       "      <td>0.991755</td>\n",
       "      <td>1</td>\n",
       "    </tr>\n",
       "    <tr>\n",
       "      <th>2</th>\n",
       "      <td>BELLEVILLE – A young man from Belville has bee...</td>\n",
       "      <td>1</td>\n",
       "      <td>0.997448</td>\n",
       "      <td>1</td>\n",
       "    </tr>\n",
       "    <tr>\n",
       "      <th>3</th>\n",
       "      <td>Synopsis\\n\\nA library for running tasks(jobs) ...</td>\n",
       "      <td>0</td>\n",
       "      <td>0.000713</td>\n",
       "      <td>0</td>\n",
       "    </tr>\n",
       "    <tr>\n",
       "      <th>4</th>\n",
       "      <td>The geolocation of the depot can be found here...</td>\n",
       "      <td>0</td>\n",
       "      <td>0.000125</td>\n",
       "      <td>0</td>\n",
       "    </tr>\n",
       "    <tr>\n",
       "      <th>...</th>\n",
       "      <td>...</td>\n",
       "      <td>...</td>\n",
       "      <td>...</td>\n",
       "      <td>...</td>\n",
       "    </tr>\n",
       "    <tr>\n",
       "      <th>9995</th>\n",
       "      <td>Originally published June 10, 2014 at 6:43 PM ...</td>\n",
       "      <td>0</td>\n",
       "      <td>0.000198</td>\n",
       "      <td>0</td>\n",
       "    </tr>\n",
       "    <tr>\n",
       "      <th>9996</th>\n",
       "      <td>\"You guys have this thing for them,\" Mr. Trump...</td>\n",
       "      <td>1</td>\n",
       "      <td>0.998290</td>\n",
       "      <td>1</td>\n",
       "    </tr>\n",
       "    <tr>\n",
       "      <th>9997</th>\n",
       "      <td>By Dan Merica, CNN\\n\\nWashington (CNN) – The l...</td>\n",
       "      <td>1</td>\n",
       "      <td>0.999627</td>\n",
       "      <td>1</td>\n",
       "    </tr>\n",
       "    <tr>\n",
       "      <th>9998</th>\n",
       "      <td>My ex-husband had treatment resistant depressi...</td>\n",
       "      <td>0</td>\n",
       "      <td>0.429786</td>\n",
       "      <td>0</td>\n",
       "    </tr>\n",
       "    <tr>\n",
       "      <th>9999</th>\n",
       "      <td>About Locale Emulator and the concept of local...</td>\n",
       "      <td>0</td>\n",
       "      <td>0.000106</td>\n",
       "      <td>0</td>\n",
       "    </tr>\n",
       "  </tbody>\n",
       "</table>\n",
       "<p>10000 rows × 4 columns</p>\n",
       "</div>"
      ],
      "text/plain": [
       "                                                   text  label  predictions  \\\n",
       "0     The University of Illinois Police Department (...      1     0.996156   \n",
       "1     PURPOSE:\\n\\nThis study evaluated the effect of...      1     0.991755   \n",
       "2     BELLEVILLE – A young man from Belville has bee...      1     0.997448   \n",
       "3     Synopsis\\n\\nA library for running tasks(jobs) ...      0     0.000713   \n",
       "4     The geolocation of the depot can be found here...      0     0.000125   \n",
       "...                                                 ...    ...          ...   \n",
       "9995  Originally published June 10, 2014 at 6:43 PM ...      0     0.000198   \n",
       "9996  \"You guys have this thing for them,\" Mr. Trump...      1     0.998290   \n",
       "9997  By Dan Merica, CNN\\n\\nWashington (CNN) – The l...      1     0.999627   \n",
       "9998  My ex-husband had treatment resistant depressi...      0     0.429786   \n",
       "9999  About Locale Emulator and the concept of local...      0     0.000106   \n",
       "\n",
       "      pred_label  \n",
       "0              1  \n",
       "1              1  \n",
       "2              1  \n",
       "3              0  \n",
       "4              0  \n",
       "...          ...  \n",
       "9995           0  \n",
       "9996           1  \n",
       "9997           1  \n",
       "9998           0  \n",
       "9999           0  \n",
       "\n",
       "[10000 rows x 4 columns]"
      ]
     },
     "execution_count": 4,
     "metadata": {},
     "output_type": "execute_result"
    }
   ],
   "source": [
    "pred_test['pred_label'] = pred_test['predictions'].apply(lambda x: 1 if x>=0.5 else 0)\n",
    "pred_test"
   ]
  },
  {
   "cell_type": "code",
   "execution_count": 5,
   "metadata": {},
   "outputs": [],
   "source": [
    "count_vectorizer = CountVectorizer(stop_words='english')\n",
    "X = count_vectorizer.fit_transform(pred_test['text'])"
   ]
  },
  {
   "cell_type": "code",
   "execution_count": 6,
   "metadata": {},
   "outputs": [],
   "source": [
    "freq_table = pd.DataFrame(X.toarray(), columns= count_vectorizer.get_feature_names_out())\n",
    "freq_table['label'] = pred_test['label']"
   ]
  },
  {
   "cell_type": "code",
   "execution_count": 7,
   "metadata": {},
   "outputs": [],
   "source": [
    "freq_0 = freq_table[freq_table['label'] == 0].sum().nlargest(1000)\n",
    "freq_1 = freq_table[freq_table['label'] == 1].sum().nlargest(1000)"
   ]
  },
  {
   "cell_type": "code",
   "execution_count": 8,
   "metadata": {},
   "outputs": [
    {
     "data": {
      "text/plain": [
       "said      6548\n",
       "new       4206\n",
       "like      3710\n",
       "time      3653\n",
       "people    3564\n",
       "          ... \n",
       "35         218\n",
       "apple      218\n",
       "james      218\n",
       "32         217\n",
       "avoid      217\n",
       "Length: 1000, dtype: int64"
      ]
     },
     "execution_count": 8,
     "metadata": {},
     "output_type": "execute_result"
    }
   ],
   "source": [
    "freq_0"
   ]
  },
  {
   "cell_type": "code",
   "execution_count": 9,
   "metadata": {},
   "outputs": [
    {
     "data": {
      "text/plain": [
       "said      9315\n",
       "new       7314\n",
       "people    6435\n",
       "label     5000\n",
       "just      4681\n",
       "          ... \n",
       "rise       245\n",
       "track      245\n",
       "2008       244\n",
       "ahead      244\n",
       "boy        244\n",
       "Length: 1000, dtype: int64"
      ]
     },
     "execution_count": 9,
     "metadata": {},
     "output_type": "execute_result"
    }
   ],
   "source": [
    "freq_1"
   ]
  },
  {
   "cell_type": "code",
   "execution_count": 31,
   "metadata": {},
   "outputs": [
    {
     "data": {
      "text/plain": [
       "label\n",
       "0    432.1934\n",
       "1    491.5080\n",
       "Name: sentence_length, dtype: float64"
      ]
     },
     "execution_count": 31,
     "metadata": {},
     "output_type": "execute_result"
    }
   ],
   "source": [
    "pred_test['sentence_length'] = pred_test['text'].apply(lambda x: len(x.split()))\n",
    "average_length_per_label = pred_test.groupby('label')['sentence_length'].mean()\n",
    "average_length_per_label\n",
    "#do statistical test"
   ]
  },
  {
   "cell_type": "markdown",
   "metadata": {},
   "source": [
    "## plots of likelihoods"
   ]
  },
  {
   "cell_type": "code",
   "execution_count": 16,
   "metadata": {},
   "outputs": [],
   "source": [
    "import statsmodels"
   ]
  }
 ],
 "metadata": {
  "kernelspec": {
   "display_name": "Python 3",
   "language": "python",
   "name": "python3"
  },
  "language_info": {
   "codemirror_mode": {
    "name": "ipython",
    "version": 3
   },
   "file_extension": ".py",
   "mimetype": "text/x-python",
   "name": "python",
   "nbconvert_exporter": "python",
   "pygments_lexer": "ipython3",
   "version": "3.9.16"
  },
  "orig_nbformat": 4
 },
 "nbformat": 4,
 "nbformat_minor": 2
}
