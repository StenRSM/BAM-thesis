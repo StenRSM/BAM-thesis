{
 "cells": [
  {
   "attachments": {},
   "cell_type": "markdown",
   "metadata": {},
   "source": [
    "# Logistic regression"
   ]
  },
  {
   "cell_type": "code",
   "execution_count": 1,
   "metadata": {},
   "outputs": [],
   "source": [
    "import pandas as pd\n",
    "import numpy as np\n",
    "from sklearn.feature_extraction.text import TfidfVectorizer\n",
    "from sklearn.linear_model import LogisticRegression\n",
    "from sklearn.svm import LinearSVC, SVC\n",
    "from sklearn.ensemble import RandomForestClassifier\n",
    "from sklearn.metrics import accuracy_score, precision_score, recall_score, f1_score"
   ]
  },
  {
   "cell_type": "code",
   "execution_count": 2,
   "metadata": {},
   "outputs": [
    {
     "data": {
      "text/html": [
       "<div>\n",
       "<style scoped>\n",
       "    .dataframe tbody tr th:only-of-type {\n",
       "        vertical-align: middle;\n",
       "    }\n",
       "\n",
       "    .dataframe tbody tr th {\n",
       "        vertical-align: top;\n",
       "    }\n",
       "\n",
       "    .dataframe thead th {\n",
       "        text-align: right;\n",
       "    }\n",
       "</style>\n",
       "<table border=\"1\" class=\"dataframe\">\n",
       "  <thead>\n",
       "    <tr style=\"text-align: right;\">\n",
       "      <th></th>\n",
       "      <th>index</th>\n",
       "      <th>text</th>\n",
       "      <th>label</th>\n",
       "    </tr>\n",
       "  </thead>\n",
       "  <tbody>\n",
       "    <tr>\n",
       "      <th>0</th>\n",
       "      <td>0</td>\n",
       "      <td>These girlfriends deserves a special mention f...</td>\n",
       "      <td>0</td>\n",
       "    </tr>\n",
       "    <tr>\n",
       "      <th>1</th>\n",
       "      <td>1</td>\n",
       "      <td>LeSean McCoy going through warmups with first ...</td>\n",
       "      <td>0</td>\n",
       "    </tr>\n",
       "    <tr>\n",
       "      <th>2</th>\n",
       "      <td>2</td>\n",
       "      <td>Tom Curran has been called up to England's Ash...</td>\n",
       "      <td>0</td>\n",
       "    </tr>\n",
       "    <tr>\n",
       "      <th>3</th>\n",
       "      <td>3</td>\n",
       "      <td>We'll have turkey on the table Thursday but, a...</td>\n",
       "      <td>0</td>\n",
       "    </tr>\n",
       "    <tr>\n",
       "      <th>4</th>\n",
       "      <td>4</td>\n",
       "      <td>The 1945 Sinkings of the Cap Arcona and the Th...</td>\n",
       "      <td>0</td>\n",
       "    </tr>\n",
       "    <tr>\n",
       "      <th>...</th>\n",
       "      <td>...</td>\n",
       "      <td>...</td>\n",
       "      <td>...</td>\n",
       "    </tr>\n",
       "    <tr>\n",
       "      <th>499932</th>\n",
       "      <td>499995</td>\n",
       "      <td>There are a lot of things that I don't like ab...</td>\n",
       "      <td>1</td>\n",
       "    </tr>\n",
       "    <tr>\n",
       "      <th>499933</th>\n",
       "      <td>499996</td>\n",
       "      <td>A year after an unprecedented public outcry ag...</td>\n",
       "      <td>1</td>\n",
       "    </tr>\n",
       "    <tr>\n",
       "      <th>499934</th>\n",
       "      <td>499997</td>\n",
       "      <td>Battles Between the English and the Scots\\n\\nT...</td>\n",
       "      <td>1</td>\n",
       "    </tr>\n",
       "    <tr>\n",
       "      <th>499935</th>\n",
       "      <td>499998</td>\n",
       "      <td>Kurt Rambis is the new head coach of the Knick...</td>\n",
       "      <td>1</td>\n",
       "    </tr>\n",
       "    <tr>\n",
       "      <th>499936</th>\n",
       "      <td>499999</td>\n",
       "      <td>\"To be a leader... you need to do this or that...</td>\n",
       "      <td>1</td>\n",
       "    </tr>\n",
       "  </tbody>\n",
       "</table>\n",
       "<p>499937 rows × 3 columns</p>\n",
       "</div>"
      ],
      "text/plain": [
       "         index                                               text  label\n",
       "0            0  These girlfriends deserves a special mention f...      0\n",
       "1            1  LeSean McCoy going through warmups with first ...      0\n",
       "2            2  Tom Curran has been called up to England's Ash...      0\n",
       "3            3  We'll have turkey on the table Thursday but, a...      0\n",
       "4            4  The 1945 Sinkings of the Cap Arcona and the Th...      0\n",
       "...        ...                                                ...    ...\n",
       "499932  499995  There are a lot of things that I don't like ab...      1\n",
       "499933  499996  A year after an unprecedented public outcry ag...      1\n",
       "499934  499997  Battles Between the English and the Scots\\n\\nT...      1\n",
       "499935  499998  Kurt Rambis is the new head coach of the Knick...      1\n",
       "499936  499999  \"To be a leader... you need to do this or that...      1\n",
       "\n",
       "[499937 rows x 3 columns]"
      ]
     },
     "execution_count": 2,
     "metadata": {},
     "output_type": "execute_result"
    }
   ],
   "source": [
    "df = pd.read_csv(r'C:\\Users\\Sten\\Documents\\EUR BAM\\Thesis\\data\\data_cleaned_v1.csv')\n",
    "df"
   ]
  },
  {
   "cell_type": "code",
   "execution_count": 3,
   "metadata": {},
   "outputs": [
    {
     "data": {
      "text/html": [
       "<div>\n",
       "<style scoped>\n",
       "    .dataframe tbody tr th:only-of-type {\n",
       "        vertical-align: middle;\n",
       "    }\n",
       "\n",
       "    .dataframe tbody tr th {\n",
       "        vertical-align: top;\n",
       "    }\n",
       "\n",
       "    .dataframe thead th {\n",
       "        text-align: right;\n",
       "    }\n",
       "</style>\n",
       "<table border=\"1\" class=\"dataframe\">\n",
       "  <thead>\n",
       "    <tr style=\"text-align: right;\">\n",
       "      <th></th>\n",
       "      <th>index</th>\n",
       "      <th>text</th>\n",
       "      <th>label</th>\n",
       "    </tr>\n",
       "  </thead>\n",
       "  <tbody>\n",
       "    <tr>\n",
       "      <th>0</th>\n",
       "      <td>46087</td>\n",
       "      <td>University atheist society president forced to...</td>\n",
       "      <td>0</td>\n",
       "    </tr>\n",
       "    <tr>\n",
       "      <th>1</th>\n",
       "      <td>477736</td>\n",
       "      <td>What is Ductwork in a Tub and Ductwork in a Sh...</td>\n",
       "      <td>1</td>\n",
       "    </tr>\n",
       "    <tr>\n",
       "      <th>2</th>\n",
       "      <td>493454</td>\n",
       "      <td>The last of the summer transfer windows is ove...</td>\n",
       "      <td>1</td>\n",
       "    </tr>\n",
       "    <tr>\n",
       "      <th>3</th>\n",
       "      <td>22361</td>\n",
       "      <td>Eliot Engel, the ranking Democrat on the House...</td>\n",
       "      <td>0</td>\n",
       "    </tr>\n",
       "    <tr>\n",
       "      <th>4</th>\n",
       "      <td>436712</td>\n",
       "      <td>The former CIA spy, who was the author of the ...</td>\n",
       "      <td>1</td>\n",
       "    </tr>\n",
       "    <tr>\n",
       "      <th>...</th>\n",
       "      <td>...</td>\n",
       "      <td>...</td>\n",
       "      <td>...</td>\n",
       "    </tr>\n",
       "    <tr>\n",
       "      <th>499932</th>\n",
       "      <td>459436</td>\n",
       "      <td>[There was a video here]\\n\\nThis week we have ...</td>\n",
       "      <td>1</td>\n",
       "    </tr>\n",
       "    <tr>\n",
       "      <th>499933</th>\n",
       "      <td>83541</td>\n",
       "      <td>As the war of words between the two managers s...</td>\n",
       "      <td>0</td>\n",
       "    </tr>\n",
       "    <tr>\n",
       "      <th>499934</th>\n",
       "      <td>140214</td>\n",
       "      <td>It is a given fact that cats, being obligate c...</td>\n",
       "      <td>0</td>\n",
       "    </tr>\n",
       "    <tr>\n",
       "      <th>499935</th>\n",
       "      <td>330590</td>\n",
       "      <td>In a recent article by Chris Darden of the St....</td>\n",
       "      <td>1</td>\n",
       "    </tr>\n",
       "    <tr>\n",
       "      <th>499936</th>\n",
       "      <td>180518</td>\n",
       "      <td>Lenovo isn't the first name you think of when ...</td>\n",
       "      <td>0</td>\n",
       "    </tr>\n",
       "  </tbody>\n",
       "</table>\n",
       "<p>499937 rows × 3 columns</p>\n",
       "</div>"
      ],
      "text/plain": [
       "         index                                               text  label\n",
       "0        46087  University atheist society president forced to...      0\n",
       "1       477736  What is Ductwork in a Tub and Ductwork in a Sh...      1\n",
       "2       493454  The last of the summer transfer windows is ove...      1\n",
       "3        22361  Eliot Engel, the ranking Democrat on the House...      0\n",
       "4       436712  The former CIA spy, who was the author of the ...      1\n",
       "...        ...                                                ...    ...\n",
       "499932  459436  [There was a video here]\\n\\nThis week we have ...      1\n",
       "499933   83541  As the war of words between the two managers s...      0\n",
       "499934  140214  It is a given fact that cats, being obligate c...      0\n",
       "499935  330590  In a recent article by Chris Darden of the St....      1\n",
       "499936  180518  Lenovo isn't the first name you think of when ...      0\n",
       "\n",
       "[499937 rows x 3 columns]"
      ]
     },
     "execution_count": 3,
     "metadata": {},
     "output_type": "execute_result"
    }
   ],
   "source": [
    "df = df.sample(frac=1, random_state=78735).reset_index(drop=True)\n",
    "df"
   ]
  },
  {
   "cell_type": "code",
   "execution_count": 4,
   "metadata": {},
   "outputs": [],
   "source": [
    "vectorizer = TfidfVectorizer()\n",
    "Tfidf = vectorizer.fit_transform(df['text'])"
   ]
  },
  {
   "cell_type": "code",
   "execution_count": 5,
   "metadata": {},
   "outputs": [
    {
     "data": {
      "text/plain": [
       "<499937x875483 sparse matrix of type '<class 'numpy.float64'>'\n",
       "\twith 106916197 stored elements in Compressed Sparse Row format>"
      ]
     },
     "execution_count": 5,
     "metadata": {},
     "output_type": "execute_result"
    }
   ],
   "source": [
    "Tfidf"
   ]
  },
  {
   "attachments": {},
   "cell_type": "markdown",
   "metadata": {},
   "source": [
    "## Define models"
   ]
  },
  {
   "cell_type": "code",
   "execution_count": 5,
   "metadata": {},
   "outputs": [
    {
     "data": {
      "text/html": [
       "<style>#sk-container-id-1 {color: black;background-color: white;}#sk-container-id-1 pre{padding: 0;}#sk-container-id-1 div.sk-toggleable {background-color: white;}#sk-container-id-1 label.sk-toggleable__label {cursor: pointer;display: block;width: 100%;margin-bottom: 0;padding: 0.3em;box-sizing: border-box;text-align: center;}#sk-container-id-1 label.sk-toggleable__label-arrow:before {content: \"▸\";float: left;margin-right: 0.25em;color: #696969;}#sk-container-id-1 label.sk-toggleable__label-arrow:hover:before {color: black;}#sk-container-id-1 div.sk-estimator:hover label.sk-toggleable__label-arrow:before {color: black;}#sk-container-id-1 div.sk-toggleable__content {max-height: 0;max-width: 0;overflow: hidden;text-align: left;background-color: #f0f8ff;}#sk-container-id-1 div.sk-toggleable__content pre {margin: 0.2em;color: black;border-radius: 0.25em;background-color: #f0f8ff;}#sk-container-id-1 input.sk-toggleable__control:checked~div.sk-toggleable__content {max-height: 200px;max-width: 100%;overflow: auto;}#sk-container-id-1 input.sk-toggleable__control:checked~label.sk-toggleable__label-arrow:before {content: \"▾\";}#sk-container-id-1 div.sk-estimator input.sk-toggleable__control:checked~label.sk-toggleable__label {background-color: #d4ebff;}#sk-container-id-1 div.sk-label input.sk-toggleable__control:checked~label.sk-toggleable__label {background-color: #d4ebff;}#sk-container-id-1 input.sk-hidden--visually {border: 0;clip: rect(1px 1px 1px 1px);clip: rect(1px, 1px, 1px, 1px);height: 1px;margin: -1px;overflow: hidden;padding: 0;position: absolute;width: 1px;}#sk-container-id-1 div.sk-estimator {font-family: monospace;background-color: #f0f8ff;border: 1px dotted black;border-radius: 0.25em;box-sizing: border-box;margin-bottom: 0.5em;}#sk-container-id-1 div.sk-estimator:hover {background-color: #d4ebff;}#sk-container-id-1 div.sk-parallel-item::after {content: \"\";width: 100%;border-bottom: 1px solid gray;flex-grow: 1;}#sk-container-id-1 div.sk-label:hover label.sk-toggleable__label {background-color: #d4ebff;}#sk-container-id-1 div.sk-serial::before {content: \"\";position: absolute;border-left: 1px solid gray;box-sizing: border-box;top: 0;bottom: 0;left: 50%;z-index: 0;}#sk-container-id-1 div.sk-serial {display: flex;flex-direction: column;align-items: center;background-color: white;padding-right: 0.2em;padding-left: 0.2em;position: relative;}#sk-container-id-1 div.sk-item {position: relative;z-index: 1;}#sk-container-id-1 div.sk-parallel {display: flex;align-items: stretch;justify-content: center;background-color: white;position: relative;}#sk-container-id-1 div.sk-item::before, #sk-container-id-1 div.sk-parallel-item::before {content: \"\";position: absolute;border-left: 1px solid gray;box-sizing: border-box;top: 0;bottom: 0;left: 50%;z-index: -1;}#sk-container-id-1 div.sk-parallel-item {display: flex;flex-direction: column;z-index: 1;position: relative;background-color: white;}#sk-container-id-1 div.sk-parallel-item:first-child::after {align-self: flex-end;width: 50%;}#sk-container-id-1 div.sk-parallel-item:last-child::after {align-self: flex-start;width: 50%;}#sk-container-id-1 div.sk-parallel-item:only-child::after {width: 0;}#sk-container-id-1 div.sk-dashed-wrapped {border: 1px dashed gray;margin: 0 0.4em 0.5em 0.4em;box-sizing: border-box;padding-bottom: 0.4em;background-color: white;}#sk-container-id-1 div.sk-label label {font-family: monospace;font-weight: bold;display: inline-block;line-height: 1.2em;}#sk-container-id-1 div.sk-label-container {text-align: center;}#sk-container-id-1 div.sk-container {/* jupyter's `normalize.less` sets `[hidden] { display: none; }` but bootstrap.min.css set `[hidden] { display: none !important; }` so we also need the `!important` here to be able to override the default hidden behavior on the sphinx rendered scikit-learn.org. See: https://github.com/scikit-learn/scikit-learn/issues/21755 */display: inline-block !important;position: relative;}#sk-container-id-1 div.sk-text-repr-fallback {display: none;}</style><div id=\"sk-container-id-1\" class=\"sk-top-container\"><div class=\"sk-text-repr-fallback\"><pre>LogisticRegression(solver=&#x27;liblinear&#x27;)</pre><b>In a Jupyter environment, please rerun this cell to show the HTML representation or trust the notebook. <br />On GitHub, the HTML representation is unable to render, please try loading this page with nbviewer.org.</b></div><div class=\"sk-container\" hidden><div class=\"sk-item\"><div class=\"sk-estimator sk-toggleable\"><input class=\"sk-toggleable__control sk-hidden--visually\" id=\"sk-estimator-id-1\" type=\"checkbox\" checked><label for=\"sk-estimator-id-1\" class=\"sk-toggleable__label sk-toggleable__label-arrow\">LogisticRegression</label><div class=\"sk-toggleable__content\"><pre>LogisticRegression(solver=&#x27;liblinear&#x27;)</pre></div></div></div></div></div>"
      ],
      "text/plain": [
       "LogisticRegression(solver='liblinear')"
      ]
     },
     "execution_count": 5,
     "metadata": {},
     "output_type": "execute_result"
    }
   ],
   "source": [
    "model_LR = LogisticRegression(solver='liblinear')\n",
    "model_LR.fit(Tfidf, df['label'])"
   ]
  },
  {
   "cell_type": "code",
   "execution_count": 7,
   "metadata": {},
   "outputs": [
    {
     "data": {
      "text/html": [
       "<style>#sk-container-id-2 {color: black;background-color: white;}#sk-container-id-2 pre{padding: 0;}#sk-container-id-2 div.sk-toggleable {background-color: white;}#sk-container-id-2 label.sk-toggleable__label {cursor: pointer;display: block;width: 100%;margin-bottom: 0;padding: 0.3em;box-sizing: border-box;text-align: center;}#sk-container-id-2 label.sk-toggleable__label-arrow:before {content: \"▸\";float: left;margin-right: 0.25em;color: #696969;}#sk-container-id-2 label.sk-toggleable__label-arrow:hover:before {color: black;}#sk-container-id-2 div.sk-estimator:hover label.sk-toggleable__label-arrow:before {color: black;}#sk-container-id-2 div.sk-toggleable__content {max-height: 0;max-width: 0;overflow: hidden;text-align: left;background-color: #f0f8ff;}#sk-container-id-2 div.sk-toggleable__content pre {margin: 0.2em;color: black;border-radius: 0.25em;background-color: #f0f8ff;}#sk-container-id-2 input.sk-toggleable__control:checked~div.sk-toggleable__content {max-height: 200px;max-width: 100%;overflow: auto;}#sk-container-id-2 input.sk-toggleable__control:checked~label.sk-toggleable__label-arrow:before {content: \"▾\";}#sk-container-id-2 div.sk-estimator input.sk-toggleable__control:checked~label.sk-toggleable__label {background-color: #d4ebff;}#sk-container-id-2 div.sk-label input.sk-toggleable__control:checked~label.sk-toggleable__label {background-color: #d4ebff;}#sk-container-id-2 input.sk-hidden--visually {border: 0;clip: rect(1px 1px 1px 1px);clip: rect(1px, 1px, 1px, 1px);height: 1px;margin: -1px;overflow: hidden;padding: 0;position: absolute;width: 1px;}#sk-container-id-2 div.sk-estimator {font-family: monospace;background-color: #f0f8ff;border: 1px dotted black;border-radius: 0.25em;box-sizing: border-box;margin-bottom: 0.5em;}#sk-container-id-2 div.sk-estimator:hover {background-color: #d4ebff;}#sk-container-id-2 div.sk-parallel-item::after {content: \"\";width: 100%;border-bottom: 1px solid gray;flex-grow: 1;}#sk-container-id-2 div.sk-label:hover label.sk-toggleable__label {background-color: #d4ebff;}#sk-container-id-2 div.sk-serial::before {content: \"\";position: absolute;border-left: 1px solid gray;box-sizing: border-box;top: 0;bottom: 0;left: 50%;z-index: 0;}#sk-container-id-2 div.sk-serial {display: flex;flex-direction: column;align-items: center;background-color: white;padding-right: 0.2em;padding-left: 0.2em;position: relative;}#sk-container-id-2 div.sk-item {position: relative;z-index: 1;}#sk-container-id-2 div.sk-parallel {display: flex;align-items: stretch;justify-content: center;background-color: white;position: relative;}#sk-container-id-2 div.sk-item::before, #sk-container-id-2 div.sk-parallel-item::before {content: \"\";position: absolute;border-left: 1px solid gray;box-sizing: border-box;top: 0;bottom: 0;left: 50%;z-index: -1;}#sk-container-id-2 div.sk-parallel-item {display: flex;flex-direction: column;z-index: 1;position: relative;background-color: white;}#sk-container-id-2 div.sk-parallel-item:first-child::after {align-self: flex-end;width: 50%;}#sk-container-id-2 div.sk-parallel-item:last-child::after {align-self: flex-start;width: 50%;}#sk-container-id-2 div.sk-parallel-item:only-child::after {width: 0;}#sk-container-id-2 div.sk-dashed-wrapped {border: 1px dashed gray;margin: 0 0.4em 0.5em 0.4em;box-sizing: border-box;padding-bottom: 0.4em;background-color: white;}#sk-container-id-2 div.sk-label label {font-family: monospace;font-weight: bold;display: inline-block;line-height: 1.2em;}#sk-container-id-2 div.sk-label-container {text-align: center;}#sk-container-id-2 div.sk-container {/* jupyter's `normalize.less` sets `[hidden] { display: none; }` but bootstrap.min.css set `[hidden] { display: none !important; }` so we also need the `!important` here to be able to override the default hidden behavior on the sphinx rendered scikit-learn.org. See: https://github.com/scikit-learn/scikit-learn/issues/21755 */display: inline-block !important;position: relative;}#sk-container-id-2 div.sk-text-repr-fallback {display: none;}</style><div id=\"sk-container-id-2\" class=\"sk-top-container\"><div class=\"sk-text-repr-fallback\"><pre>LinearSVC()</pre><b>In a Jupyter environment, please rerun this cell to show the HTML representation or trust the notebook. <br />On GitHub, the HTML representation is unable to render, please try loading this page with nbviewer.org.</b></div><div class=\"sk-container\" hidden><div class=\"sk-item\"><div class=\"sk-estimator sk-toggleable\"><input class=\"sk-toggleable__control sk-hidden--visually\" id=\"sk-estimator-id-2\" type=\"checkbox\" checked><label for=\"sk-estimator-id-2\" class=\"sk-toggleable__label sk-toggleable__label-arrow\">LinearSVC</label><div class=\"sk-toggleable__content\"><pre>LinearSVC()</pre></div></div></div></div></div>"
      ],
      "text/plain": [
       "LinearSVC()"
      ]
     },
     "execution_count": 7,
     "metadata": {},
     "output_type": "execute_result"
    }
   ],
   "source": [
    "model_SVM = LinearSVC()\n",
    "model_SVM.fit(Tfidf, df['label'])"
   ]
  },
  {
   "cell_type": "code",
   "execution_count": 44,
   "metadata": {},
   "outputs": [],
   "source": [
    "model_SVM2 = SVC(kernel='linear', probability=True)\n",
    "model_SVM2.fit(Tfidf, df['label'])"
   ]
  },
  {
   "cell_type": "code",
   "execution_count": null,
   "metadata": {},
   "outputs": [],
   "source": [
    "model_RF = RandomForestClassifier()\n",
    "model_RF.fit(Tfidf, df['label'])"
   ]
  },
  {
   "attachments": {},
   "cell_type": "markdown",
   "metadata": {},
   "source": [
    "## Testing the model"
   ]
  },
  {
   "cell_type": "code",
   "execution_count": 7,
   "metadata": {},
   "outputs": [],
   "source": [
    "df_test = pd.read_csv(r'C:\\Users\\Sten\\Documents\\EUR BAM\\Thesis\\data\\data_test_v1.csv')"
   ]
  },
  {
   "cell_type": "code",
   "execution_count": 8,
   "metadata": {},
   "outputs": [],
   "source": [
    "df_test = df_test.sample(frac=1, random_state=96202).reset_index(drop=True)"
   ]
  },
  {
   "cell_type": "code",
   "execution_count": 9,
   "metadata": {},
   "outputs": [
    {
     "data": {
      "text/html": [
       "<div>\n",
       "<style scoped>\n",
       "    .dataframe tbody tr th:only-of-type {\n",
       "        vertical-align: middle;\n",
       "    }\n",
       "\n",
       "    .dataframe tbody tr th {\n",
       "        vertical-align: top;\n",
       "    }\n",
       "\n",
       "    .dataframe thead th {\n",
       "        text-align: right;\n",
       "    }\n",
       "</style>\n",
       "<table border=\"1\" class=\"dataframe\">\n",
       "  <thead>\n",
       "    <tr style=\"text-align: right;\">\n",
       "      <th></th>\n",
       "      <th>text</th>\n",
       "      <th>label</th>\n",
       "    </tr>\n",
       "  </thead>\n",
       "  <tbody>\n",
       "    <tr>\n",
       "      <th>0</th>\n",
       "      <td>A spoof of typical 1980's teen movies. The ide...</td>\n",
       "      <td>0</td>\n",
       "    </tr>\n",
       "    <tr>\n",
       "      <th>1</th>\n",
       "      <td>I was a victim of a false rape report by a fel...</td>\n",
       "      <td>1</td>\n",
       "    </tr>\n",
       "    <tr>\n",
       "      <th>2</th>\n",
       "      <td>An artist's impression of the planet Kepler 46...</td>\n",
       "      <td>1</td>\n",
       "    </tr>\n",
       "    <tr>\n",
       "      <th>3</th>\n",
       "      <td>During a live stream interview conducted by Dr...</td>\n",
       "      <td>0</td>\n",
       "    </tr>\n",
       "    <tr>\n",
       "      <th>4</th>\n",
       "      <td>\"You guys have this thing for them,\" Mr. Trump...</td>\n",
       "      <td>1</td>\n",
       "    </tr>\n",
       "    <tr>\n",
       "      <th>...</th>\n",
       "      <td>...</td>\n",
       "      <td>...</td>\n",
       "    </tr>\n",
       "    <tr>\n",
       "      <th>9995</th>\n",
       "      <td>RICHMOND, Va. – Police responding to a report ...</td>\n",
       "      <td>1</td>\n",
       "    </tr>\n",
       "    <tr>\n",
       "      <th>9996</th>\n",
       "      <td>New Delhi : A day after the Narendra Modi gove...</td>\n",
       "      <td>1</td>\n",
       "    </tr>\n",
       "    <tr>\n",
       "      <th>9997</th>\n",
       "      <td>\"'Babysitting' scores points for sustaining a ...</td>\n",
       "      <td>0</td>\n",
       "    </tr>\n",
       "    <tr>\n",
       "      <th>9998</th>\n",
       "      <td>After five years of being unemployed, a 27-yea...</td>\n",
       "      <td>1</td>\n",
       "    </tr>\n",
       "    <tr>\n",
       "      <th>9999</th>\n",
       "      <td>The Senate last week failed to pass a measure ...</td>\n",
       "      <td>0</td>\n",
       "    </tr>\n",
       "  </tbody>\n",
       "</table>\n",
       "<p>10000 rows × 2 columns</p>\n",
       "</div>"
      ],
      "text/plain": [
       "                                                   text  label\n",
       "0     A spoof of typical 1980's teen movies. The ide...      0\n",
       "1     I was a victim of a false rape report by a fel...      1\n",
       "2     An artist's impression of the planet Kepler 46...      1\n",
       "3     During a live stream interview conducted by Dr...      0\n",
       "4     \"You guys have this thing for them,\" Mr. Trump...      1\n",
       "...                                                 ...    ...\n",
       "9995  RICHMOND, Va. – Police responding to a report ...      1\n",
       "9996  New Delhi : A day after the Narendra Modi gove...      1\n",
       "9997  \"'Babysitting' scores points for sustaining a ...      0\n",
       "9998  After five years of being unemployed, a 27-yea...      1\n",
       "9999  The Senate last week failed to pass a measure ...      0\n",
       "\n",
       "[10000 rows x 2 columns]"
      ]
     },
     "execution_count": 9,
     "metadata": {},
     "output_type": "execute_result"
    }
   ],
   "source": [
    "df_test"
   ]
  },
  {
   "cell_type": "code",
   "execution_count": 10,
   "metadata": {},
   "outputs": [],
   "source": [
    "Tfidf_test = vectorizer.transform(df_test['text'])"
   ]
  },
  {
   "cell_type": "code",
   "execution_count": 11,
   "metadata": {},
   "outputs": [],
   "source": [
    "def scores(y, y_pred):\n",
    "    accu = accuracy_score(y, y_pred)\n",
    "    prec = precision_score(y, y_pred)\n",
    "    rec = recall_score(y, y_pred)\n",
    "    f1 = f1_score(y, y_pred)\n",
    "\n",
    "    print('Accuracy: ', round(accu, 2))\n",
    "    print('Precision: ', round(prec, 2))\n",
    "    print('Recall: ', round(rec, 2))\n",
    "    print(\"F1 Score: \", round(f1, 2))"
   ]
  },
  {
   "cell_type": "code",
   "execution_count": 12,
   "metadata": {},
   "outputs": [
    {
     "name": "stdout",
     "output_type": "stream",
     "text": [
      "Accuracy:  0.88\n",
      "Precision:  0.89\n",
      "Recall:  0.87\n",
      "F1 Score:  0.88\n"
     ]
    }
   ],
   "source": [
    "predict_LR = model_LR.predict(Tfidf_test)\n",
    "scores(df_test['label'], predict_LR)"
   ]
  },
  {
   "cell_type": "code",
   "execution_count": 14,
   "metadata": {},
   "outputs": [
    {
     "name": "stdout",
     "output_type": "stream",
     "text": [
      "Accuracy:  0.9\n",
      "Precision:  0.9\n",
      "Recall:  0.9\n",
      "F1 Score:  0.9\n"
     ]
    }
   ],
   "source": [
    "predict_SVM = model_SVM.predict(Tfidf_test)\n",
    "scores(df_test['label'], predict_SVM)"
   ]
  },
  {
   "cell_type": "code",
   "execution_count": 35,
   "metadata": {},
   "outputs": [
    {
     "data": {
      "text/plain": [
       "array([0, 1, 1, ..., 0, 1, 0], dtype=int64)"
      ]
     },
     "execution_count": 35,
     "metadata": {},
     "output_type": "execute_result"
    }
   ],
   "source": [
    "predict_SVM"
   ]
  },
  {
   "cell_type": "code",
   "execution_count": 15,
   "metadata": {},
   "outputs": [
    {
     "data": {
      "text/plain": [
       "0.8992"
      ]
     },
     "execution_count": 15,
     "metadata": {},
     "output_type": "execute_result"
    }
   ],
   "source": [
    "model_SVM.score(Tfidf_test, df_test['label'])"
   ]
  },
  {
   "attachments": {},
   "cell_type": "markdown",
   "metadata": {},
   "source": [
    "## Use model on news data"
   ]
  },
  {
   "attachments": {},
   "cell_type": "markdown",
   "metadata": {},
   "source": [
    "## Financial news"
   ]
  },
  {
   "cell_type": "code",
   "execution_count": 13,
   "metadata": {},
   "outputs": [],
   "source": [
    "df_finance_news = pd.read_csv(r'C:\\Users\\Sten\\Documents\\EUR BAM\\Thesis\\data\\news\\finance_processed.csv')"
   ]
  },
  {
   "cell_type": "code",
   "execution_count": 14,
   "metadata": {},
   "outputs": [
    {
     "data": {
      "text/plain": [
       "<2607x875483 sparse matrix of type '<class 'numpy.float64'>'\n",
       "\twith 161804 stored elements in Compressed Sparse Row format>"
      ]
     },
     "execution_count": 14,
     "metadata": {},
     "output_type": "execute_result"
    }
   ],
   "source": [
    "Tfidf_finance = vectorizer.transform(df_finance_news['summary'])\n",
    "Tfidf_finance"
   ]
  },
  {
   "cell_type": "code",
   "execution_count": 15,
   "metadata": {},
   "outputs": [],
   "source": [
    "pred_finance = model_LR.predict_proba(Tfidf_finance)"
   ]
  },
  {
   "cell_type": "code",
   "execution_count": 16,
   "metadata": {},
   "outputs": [],
   "source": [
    "pred_finance = pd.DataFrame(pred_finance)"
   ]
  },
  {
   "cell_type": "code",
   "execution_count": 17,
   "metadata": {},
   "outputs": [
    {
     "data": {
      "text/plain": [
       "0.2338"
      ]
     },
     "execution_count": 17,
     "metadata": {},
     "output_type": "execute_result"
    }
   ],
   "source": [
    "pred_finance[1].mean().round(4)"
   ]
  },
  {
   "cell_type": "code",
   "execution_count": 18,
   "metadata": {},
   "outputs": [
    {
     "data": {
      "text/html": [
       "<div>\n",
       "<style scoped>\n",
       "    .dataframe tbody tr th:only-of-type {\n",
       "        vertical-align: middle;\n",
       "    }\n",
       "\n",
       "    .dataframe tbody tr th {\n",
       "        vertical-align: top;\n",
       "    }\n",
       "\n",
       "    .dataframe thead th {\n",
       "        text-align: right;\n",
       "    }\n",
       "</style>\n",
       "<table border=\"1\" class=\"dataframe\">\n",
       "  <thead>\n",
       "    <tr style=\"text-align: right;\">\n",
       "      <th></th>\n",
       "      <th>0</th>\n",
       "      <th>1</th>\n",
       "    </tr>\n",
       "  </thead>\n",
       "  <tbody>\n",
       "    <tr>\n",
       "      <th>count</th>\n",
       "      <td>2607.000000</td>\n",
       "      <td>2607.000000</td>\n",
       "    </tr>\n",
       "    <tr>\n",
       "      <th>mean</th>\n",
       "      <td>0.766218</td>\n",
       "      <td>0.233782</td>\n",
       "    </tr>\n",
       "    <tr>\n",
       "      <th>std</th>\n",
       "      <td>0.202502</td>\n",
       "      <td>0.202502</td>\n",
       "    </tr>\n",
       "    <tr>\n",
       "      <th>min</th>\n",
       "      <td>0.015535</td>\n",
       "      <td>0.001608</td>\n",
       "    </tr>\n",
       "    <tr>\n",
       "      <th>25%</th>\n",
       "      <td>0.666001</td>\n",
       "      <td>0.080888</td>\n",
       "    </tr>\n",
       "    <tr>\n",
       "      <th>50%</th>\n",
       "      <td>0.832699</td>\n",
       "      <td>0.167301</td>\n",
       "    </tr>\n",
       "    <tr>\n",
       "      <th>75%</th>\n",
       "      <td>0.919112</td>\n",
       "      <td>0.333999</td>\n",
       "    </tr>\n",
       "    <tr>\n",
       "      <th>max</th>\n",
       "      <td>0.998392</td>\n",
       "      <td>0.984465</td>\n",
       "    </tr>\n",
       "  </tbody>\n",
       "</table>\n",
       "</div>"
      ],
      "text/plain": [
       "                 0            1\n",
       "count  2607.000000  2607.000000\n",
       "mean      0.766218     0.233782\n",
       "std       0.202502     0.202502\n",
       "min       0.015535     0.001608\n",
       "25%       0.666001     0.080888\n",
       "50%       0.832699     0.167301\n",
       "75%       0.919112     0.333999\n",
       "max       0.998392     0.984465"
      ]
     },
     "execution_count": 18,
     "metadata": {},
     "output_type": "execute_result"
    }
   ],
   "source": [
    "pred_finance.describe()"
   ]
  },
  {
   "cell_type": "code",
   "execution_count": 23,
   "metadata": {},
   "outputs": [],
   "source": [
    "pred_finance.to_csv(r'C:\\Users\\Sten\\Documents\\EUR BAM\\Thesis\\data\\predictions\\finance_predicted_LR1.csv', index=False)"
   ]
  },
  {
   "attachments": {},
   "cell_type": "markdown",
   "metadata": {},
   "source": [
    "## sports news"
   ]
  },
  {
   "cell_type": "code",
   "execution_count": 24,
   "metadata": {},
   "outputs": [],
   "source": [
    "df_sport_news = pd.read_csv(r'C:\\Users\\Sten\\Documents\\EUR BAM\\Thesis\\data\\news\\sport_processed.csv')"
   ]
  },
  {
   "cell_type": "code",
   "execution_count": 25,
   "metadata": {},
   "outputs": [
    {
     "data": {
      "text/plain": [
       "<2981x875483 sparse matrix of type '<class 'numpy.float64'>'\n",
       "\twith 189785 stored elements in Compressed Sparse Row format>"
      ]
     },
     "execution_count": 25,
     "metadata": {},
     "output_type": "execute_result"
    }
   ],
   "source": [
    "Tfidf_sport = vectorizer.transform(df_sport_news['summary'])\n",
    "Tfidf_sport"
   ]
  },
  {
   "cell_type": "code",
   "execution_count": 26,
   "metadata": {},
   "outputs": [],
   "source": [
    "pred_sport = model_LR.predict_proba(Tfidf_sport)"
   ]
  },
  {
   "cell_type": "code",
   "execution_count": 27,
   "metadata": {},
   "outputs": [
    {
     "data": {
      "text/plain": [
       "0.2205"
      ]
     },
     "execution_count": 27,
     "metadata": {},
     "output_type": "execute_result"
    }
   ],
   "source": [
    "pred_sport = pd.DataFrame(pred_sport)\n",
    "pred_sport[1].mean().round(4)"
   ]
  },
  {
   "cell_type": "code",
   "execution_count": 28,
   "metadata": {},
   "outputs": [
    {
     "data": {
      "text/html": [
       "<div>\n",
       "<style scoped>\n",
       "    .dataframe tbody tr th:only-of-type {\n",
       "        vertical-align: middle;\n",
       "    }\n",
       "\n",
       "    .dataframe tbody tr th {\n",
       "        vertical-align: top;\n",
       "    }\n",
       "\n",
       "    .dataframe thead th {\n",
       "        text-align: right;\n",
       "    }\n",
       "</style>\n",
       "<table border=\"1\" class=\"dataframe\">\n",
       "  <thead>\n",
       "    <tr style=\"text-align: right;\">\n",
       "      <th></th>\n",
       "      <th>0</th>\n",
       "      <th>1</th>\n",
       "    </tr>\n",
       "  </thead>\n",
       "  <tbody>\n",
       "    <tr>\n",
       "      <th>count</th>\n",
       "      <td>2981.000000</td>\n",
       "      <td>2981.000000</td>\n",
       "    </tr>\n",
       "    <tr>\n",
       "      <th>mean</th>\n",
       "      <td>0.779479</td>\n",
       "      <td>0.220521</td>\n",
       "    </tr>\n",
       "    <tr>\n",
       "      <th>std</th>\n",
       "      <td>0.214081</td>\n",
       "      <td>0.214081</td>\n",
       "    </tr>\n",
       "    <tr>\n",
       "      <th>min</th>\n",
       "      <td>0.003649</td>\n",
       "      <td>0.001247</td>\n",
       "    </tr>\n",
       "    <tr>\n",
       "      <th>25%</th>\n",
       "      <td>0.688415</td>\n",
       "      <td>0.062890</td>\n",
       "    </tr>\n",
       "    <tr>\n",
       "      <th>50%</th>\n",
       "      <td>0.858466</td>\n",
       "      <td>0.141534</td>\n",
       "    </tr>\n",
       "    <tr>\n",
       "      <th>75%</th>\n",
       "      <td>0.937110</td>\n",
       "      <td>0.311585</td>\n",
       "    </tr>\n",
       "    <tr>\n",
       "      <th>max</th>\n",
       "      <td>0.998753</td>\n",
       "      <td>0.996351</td>\n",
       "    </tr>\n",
       "  </tbody>\n",
       "</table>\n",
       "</div>"
      ],
      "text/plain": [
       "                 0            1\n",
       "count  2981.000000  2981.000000\n",
       "mean      0.779479     0.220521\n",
       "std       0.214081     0.214081\n",
       "min       0.003649     0.001247\n",
       "25%       0.688415     0.062890\n",
       "50%       0.858466     0.141534\n",
       "75%       0.937110     0.311585\n",
       "max       0.998753     0.996351"
      ]
     },
     "execution_count": 28,
     "metadata": {},
     "output_type": "execute_result"
    }
   ],
   "source": [
    "pred_sport.describe()"
   ]
  },
  {
   "cell_type": "code",
   "execution_count": 29,
   "metadata": {},
   "outputs": [],
   "source": [
    "pred_sport.to_csv(r'C:\\Users\\Sten\\Documents\\EUR BAM\\Thesis\\data\\predictions\\sport_predicted_LR1.csv', index=False)"
   ]
  },
  {
   "attachments": {},
   "cell_type": "markdown",
   "metadata": {},
   "source": [
    "## Election news"
   ]
  },
  {
   "cell_type": "code",
   "execution_count": 30,
   "metadata": {},
   "outputs": [],
   "source": [
    "df_election_news = pd.read_csv(r'C:\\Users\\Sten\\Documents\\EUR BAM\\Thesis\\data\\news\\election_processed.csv')"
   ]
  },
  {
   "cell_type": "code",
   "execution_count": 31,
   "metadata": {},
   "outputs": [
    {
     "data": {
      "text/plain": [
       "<3053x875483 sparse matrix of type '<class 'numpy.float64'>'\n",
       "\twith 193227 stored elements in Compressed Sparse Row format>"
      ]
     },
     "execution_count": 31,
     "metadata": {},
     "output_type": "execute_result"
    }
   ],
   "source": [
    "Tfidf_election = vectorizer.transform(df_election_news['summary'])\n",
    "Tfidf_election"
   ]
  },
  {
   "cell_type": "code",
   "execution_count": 32,
   "metadata": {},
   "outputs": [],
   "source": [
    "pred_election = model_LR.predict_proba(Tfidf_election)"
   ]
  },
  {
   "cell_type": "code",
   "execution_count": 33,
   "metadata": {},
   "outputs": [
    {
     "data": {
      "text/plain": [
       "0.2412"
      ]
     },
     "execution_count": 33,
     "metadata": {},
     "output_type": "execute_result"
    }
   ],
   "source": [
    "pred_election = pd.DataFrame(pred_election)\n",
    "pred_election[1].mean().round(4)"
   ]
  },
  {
   "cell_type": "code",
   "execution_count": 31,
   "metadata": {},
   "outputs": [],
   "source": [
    "election_highprob = list(pred_election[1].sort_values(ascending=False).iloc[0:10].index)"
   ]
  },
  {
   "cell_type": "code",
   "execution_count": 26,
   "metadata": {},
   "outputs": [],
   "source": [
    "highprob_news = df_election_news.loc[election_highprob, 'summary']"
   ]
  },
  {
   "cell_type": "code",
   "execution_count": 27,
   "metadata": {},
   "outputs": [
    {
     "data": {
      "text/plain": [
       "\"Labour is not gaining the seats that it would need to form a government at the next general election, a minister has said. Transport minister Richard Holden told the  BBC 's Elections 2023 programme: 'The truth is the seats that we need to win at a general election right across the country, you are just not seeing those Labour gains that they would need to do in order to form a government at the next general election at this stage.' Asked about the latest projections, Mr Holden said people have had a 'tough time' with the cost of living, adding: 'The Government has had to put a huge package in there, but people are still feeling it.\""
      ]
     },
     "execution_count": 27,
     "metadata": {},
     "output_type": "execute_result"
    }
   ],
   "source": [
    "highprob_news.iloc[2]"
   ]
  },
  {
   "cell_type": "code",
   "execution_count": 34,
   "metadata": {},
   "outputs": [
    {
     "data": {
      "text/html": [
       "<div>\n",
       "<style scoped>\n",
       "    .dataframe tbody tr th:only-of-type {\n",
       "        vertical-align: middle;\n",
       "    }\n",
       "\n",
       "    .dataframe tbody tr th {\n",
       "        vertical-align: top;\n",
       "    }\n",
       "\n",
       "    .dataframe thead th {\n",
       "        text-align: right;\n",
       "    }\n",
       "</style>\n",
       "<table border=\"1\" class=\"dataframe\">\n",
       "  <thead>\n",
       "    <tr style=\"text-align: right;\">\n",
       "      <th></th>\n",
       "      <th>0</th>\n",
       "      <th>1</th>\n",
       "    </tr>\n",
       "  </thead>\n",
       "  <tbody>\n",
       "    <tr>\n",
       "      <th>count</th>\n",
       "      <td>3053.000000</td>\n",
       "      <td>3053.000000</td>\n",
       "    </tr>\n",
       "    <tr>\n",
       "      <th>mean</th>\n",
       "      <td>0.758788</td>\n",
       "      <td>0.241212</td>\n",
       "    </tr>\n",
       "    <tr>\n",
       "      <th>std</th>\n",
       "      <td>0.204690</td>\n",
       "      <td>0.204690</td>\n",
       "    </tr>\n",
       "    <tr>\n",
       "      <th>min</th>\n",
       "      <td>0.014100</td>\n",
       "      <td>0.001325</td>\n",
       "    </tr>\n",
       "    <tr>\n",
       "      <th>25%</th>\n",
       "      <td>0.656406</td>\n",
       "      <td>0.082002</td>\n",
       "    </tr>\n",
       "    <tr>\n",
       "      <th>50%</th>\n",
       "      <td>0.819824</td>\n",
       "      <td>0.180176</td>\n",
       "    </tr>\n",
       "    <tr>\n",
       "      <th>75%</th>\n",
       "      <td>0.917998</td>\n",
       "      <td>0.343594</td>\n",
       "    </tr>\n",
       "    <tr>\n",
       "      <th>max</th>\n",
       "      <td>0.998675</td>\n",
       "      <td>0.985900</td>\n",
       "    </tr>\n",
       "  </tbody>\n",
       "</table>\n",
       "</div>"
      ],
      "text/plain": [
       "                 0            1\n",
       "count  3053.000000  3053.000000\n",
       "mean      0.758788     0.241212\n",
       "std       0.204690     0.204690\n",
       "min       0.014100     0.001325\n",
       "25%       0.656406     0.082002\n",
       "50%       0.819824     0.180176\n",
       "75%       0.917998     0.343594\n",
       "max       0.998675     0.985900"
      ]
     },
     "execution_count": 34,
     "metadata": {},
     "output_type": "execute_result"
    }
   ],
   "source": [
    "pred_election.describe()"
   ]
  },
  {
   "cell_type": "code",
   "execution_count": 35,
   "metadata": {},
   "outputs": [],
   "source": [
    "pred_election.to_csv(r'C:\\Users\\Sten\\Documents\\EUR BAM\\Thesis\\data\\predictions\\election_predicted_LR1.csv', index=False)"
   ]
  },
  {
   "attachments": {},
   "cell_type": "markdown",
   "metadata": {},
   "source": [
    "## general news"
   ]
  },
  {
   "cell_type": "code",
   "execution_count": 19,
   "metadata": {},
   "outputs": [],
   "source": [
    "df_general_news = pd.read_csv(r'C:\\Users\\Sten\\Documents\\EUR BAM\\Thesis\\data\\news\\general_processed.csv')"
   ]
  },
  {
   "cell_type": "code",
   "execution_count": 20,
   "metadata": {},
   "outputs": [
    {
     "data": {
      "text/html": [
       "<div>\n",
       "<style scoped>\n",
       "    .dataframe tbody tr th:only-of-type {\n",
       "        vertical-align: middle;\n",
       "    }\n",
       "\n",
       "    .dataframe tbody tr th {\n",
       "        vertical-align: top;\n",
       "    }\n",
       "\n",
       "    .dataframe thead th {\n",
       "        text-align: right;\n",
       "    }\n",
       "</style>\n",
       "<table border=\"1\" class=\"dataframe\">\n",
       "  <thead>\n",
       "    <tr style=\"text-align: right;\">\n",
       "      <th></th>\n",
       "      <th>index</th>\n",
       "      <th>date</th>\n",
       "      <th>url</th>\n",
       "      <th>author</th>\n",
       "      <th>title</th>\n",
       "      <th>topic</th>\n",
       "      <th>summary</th>\n",
       "      <th>q</th>\n",
       "    </tr>\n",
       "  </thead>\n",
       "  <tbody>\n",
       "    <tr>\n",
       "      <th>0</th>\n",
       "      <td>0</td>\n",
       "      <td>2023-06-01 13:55:00</td>\n",
       "      <td>yahoo.com</td>\n",
       "      <td>Valoe Oyj</td>\n",
       "      <td>Valoe Corporation's Share Subscription Based o...</td>\n",
       "      <td>news</td>\n",
       "      <td>Valoe Corporation                Stock Exchang...</td>\n",
       "      <td>\"the\"</td>\n",
       "    </tr>\n",
       "    <tr>\n",
       "      <th>1</th>\n",
       "      <td>1</td>\n",
       "      <td>2023-06-02 14:45:00</td>\n",
       "      <td>msn.com</td>\n",
       "      <td>Park Ranger John</td>\n",
       "      <td>Epic Guide to Revolutionary War National Park ...</td>\n",
       "      <td>travel</td>\n",
       "      <td>Epic Guide to Revolutionary War National Park ...</td>\n",
       "      <td>\"the\"</td>\n",
       "    </tr>\n",
       "    <tr>\n",
       "      <th>2</th>\n",
       "      <td>2</td>\n",
       "      <td>2023-05-31 21:00:00</td>\n",
       "      <td>msn.com</td>\n",
       "      <td>Kudanisar Shrine</td>\n",
       "      <td>Kudanisar Shrine location and walkthrough in Z...</td>\n",
       "      <td>entertainment</td>\n",
       "      <td>Kudanisar Shrine is located within The Legend ...</td>\n",
       "      <td>\"the\"</td>\n",
       "    </tr>\n",
       "    <tr>\n",
       "      <th>3</th>\n",
       "      <td>3</td>\n",
       "      <td>2023-06-04 00:00:00</td>\n",
       "      <td>mdpi.com</td>\n",
       "      <td>Jozef Vlček</td>\n",
       "      <td>Analysis of a Large-Scale Physical Model of Ge...</td>\n",
       "      <td>science</td>\n",
       "      <td>Department of Geotechnics, Faculty of Civil En...</td>\n",
       "      <td>\"the\"</td>\n",
       "    </tr>\n",
       "    <tr>\n",
       "      <th>4</th>\n",
       "      <td>4</td>\n",
       "      <td>2023-05-31 00:00:00</td>\n",
       "      <td>mdpi.com</td>\n",
       "      <td>Stefania Fedyay</td>\n",
       "      <td>Medical Support for Space Missions: The Case o...</td>\n",
       "      <td>science</td>\n",
       "      <td>Institute of Biomedical Problems (IBMP), Russi...</td>\n",
       "      <td>\"the\"</td>\n",
       "    </tr>\n",
       "    <tr>\n",
       "      <th>...</th>\n",
       "      <td>...</td>\n",
       "      <td>...</td>\n",
       "      <td>...</td>\n",
       "      <td>...</td>\n",
       "      <td>...</td>\n",
       "      <td>...</td>\n",
       "      <td>...</td>\n",
       "      <td>...</td>\n",
       "    </tr>\n",
       "    <tr>\n",
       "      <th>7340</th>\n",
       "      <td>9195</td>\n",
       "      <td>2023-05-29 14:34:57</td>\n",
       "      <td>msn.com</td>\n",
       "      <td>Sara Klimek</td>\n",
       "      <td>16 Mistakes You're Making With Homemade Cheese...</td>\n",
       "      <td>news</td>\n",
       "      <td>Although cheesecake technically isn't consider...</td>\n",
       "      <td>\"the\"</td>\n",
       "    </tr>\n",
       "    <tr>\n",
       "      <th>7341</th>\n",
       "      <td>9196</td>\n",
       "      <td>2023-05-29 00:06:06</td>\n",
       "      <td>foxnews.com</td>\n",
       "      <td>Bradford Betz</td>\n",
       "      <td>Biden, McCarthy reach debt ceiling deal to avo...</td>\n",
       "      <td>politics</td>\n",
       "      <td>President Biden and House Speaker  Kevin McCar...</td>\n",
       "      <td>\"the\"</td>\n",
       "    </tr>\n",
       "    <tr>\n",
       "      <th>7342</th>\n",
       "      <td>9197</td>\n",
       "      <td>2023-06-03 22:30:00</td>\n",
       "      <td>espn.com</td>\n",
       "      <td>Greg Wyshynski</td>\n",
       "      <td>NHL reveals 'unprecedented' twin bill of outdo...</td>\n",
       "      <td>news</td>\n",
       "      <td>The 2024 NHL Stadium Series will be held at Me...</td>\n",
       "      <td>\"the\"</td>\n",
       "    </tr>\n",
       "    <tr>\n",
       "      <th>7343</th>\n",
       "      <td>9198</td>\n",
       "      <td>2023-05-29 17:09:07</td>\n",
       "      <td>nypost.com</td>\n",
       "      <td>Emily Crane</td>\n",
       "      <td>Debt ceiling deal: What is it and what does it...</td>\n",
       "      <td>news</td>\n",
       "      <td>Just days before the US could start to run out...</td>\n",
       "      <td>\"the\"</td>\n",
       "    </tr>\n",
       "    <tr>\n",
       "      <th>7344</th>\n",
       "      <td>9199</td>\n",
       "      <td>2023-06-03 00:09:32</td>\n",
       "      <td>nypost.com</td>\n",
       "      <td>Mark Skousen</td>\n",
       "      <td>Thank Adam Smith for our prosperity — and hope...</td>\n",
       "      <td>news</td>\n",
       "      <td>Thank a Scot for our 100-fold increase in Amer...</td>\n",
       "      <td>\"the\"</td>\n",
       "    </tr>\n",
       "  </tbody>\n",
       "</table>\n",
       "<p>7345 rows × 8 columns</p>\n",
       "</div>"
      ],
      "text/plain": [
       "      index                 date          url            author  \\\n",
       "0         0  2023-06-01 13:55:00    yahoo.com         Valoe Oyj   \n",
       "1         1  2023-06-02 14:45:00      msn.com  Park Ranger John   \n",
       "2         2  2023-05-31 21:00:00      msn.com  Kudanisar Shrine   \n",
       "3         3  2023-06-04 00:00:00     mdpi.com       Jozef Vlček   \n",
       "4         4  2023-05-31 00:00:00     mdpi.com   Stefania Fedyay   \n",
       "...     ...                  ...          ...               ...   \n",
       "7340   9195  2023-05-29 14:34:57      msn.com       Sara Klimek   \n",
       "7341   9196  2023-05-29 00:06:06  foxnews.com     Bradford Betz   \n",
       "7342   9197  2023-06-03 22:30:00     espn.com    Greg Wyshynski   \n",
       "7343   9198  2023-05-29 17:09:07   nypost.com       Emily Crane   \n",
       "7344   9199  2023-06-03 00:09:32   nypost.com      Mark Skousen   \n",
       "\n",
       "                                                  title          topic  \\\n",
       "0     Valoe Corporation's Share Subscription Based o...           news   \n",
       "1     Epic Guide to Revolutionary War National Park ...         travel   \n",
       "2     Kudanisar Shrine location and walkthrough in Z...  entertainment   \n",
       "3     Analysis of a Large-Scale Physical Model of Ge...        science   \n",
       "4     Medical Support for Space Missions: The Case o...        science   \n",
       "...                                                 ...            ...   \n",
       "7340  16 Mistakes You're Making With Homemade Cheese...           news   \n",
       "7341  Biden, McCarthy reach debt ceiling deal to avo...       politics   \n",
       "7342  NHL reveals 'unprecedented' twin bill of outdo...           news   \n",
       "7343  Debt ceiling deal: What is it and what does it...           news   \n",
       "7344  Thank Adam Smith for our prosperity — and hope...           news   \n",
       "\n",
       "                                                summary      q  \n",
       "0     Valoe Corporation                Stock Exchang...  \"the\"  \n",
       "1     Epic Guide to Revolutionary War National Park ...  \"the\"  \n",
       "2     Kudanisar Shrine is located within The Legend ...  \"the\"  \n",
       "3     Department of Geotechnics, Faculty of Civil En...  \"the\"  \n",
       "4     Institute of Biomedical Problems (IBMP), Russi...  \"the\"  \n",
       "...                                                 ...    ...  \n",
       "7340  Although cheesecake technically isn't consider...  \"the\"  \n",
       "7341  President Biden and House Speaker  Kevin McCar...  \"the\"  \n",
       "7342  The 2024 NHL Stadium Series will be held at Me...  \"the\"  \n",
       "7343  Just days before the US could start to run out...  \"the\"  \n",
       "7344  Thank a Scot for our 100-fold increase in Amer...  \"the\"  \n",
       "\n",
       "[7345 rows x 8 columns]"
      ]
     },
     "execution_count": 20,
     "metadata": {},
     "output_type": "execute_result"
    }
   ],
   "source": [
    "df_general_news"
   ]
  },
  {
   "cell_type": "code",
   "execution_count": 21,
   "metadata": {},
   "outputs": [
    {
     "data": {
      "text/plain": [
       "<7345x875483 sparse matrix of type '<class 'numpy.float64'>'\n",
       "\twith 486429 stored elements in Compressed Sparse Row format>"
      ]
     },
     "execution_count": 21,
     "metadata": {},
     "output_type": "execute_result"
    }
   ],
   "source": [
    "Tfidf_general = vectorizer.transform(df_general_news['summary'])\n",
    "Tfidf_general"
   ]
  },
  {
   "cell_type": "code",
   "execution_count": 22,
   "metadata": {},
   "outputs": [],
   "source": [
    "pred_general = model_LR.predict_proba(Tfidf_general)"
   ]
  },
  {
   "cell_type": "code",
   "execution_count": 25,
   "metadata": {},
   "outputs": [],
   "source": [
    "pred_general = pd.DataFrame(pred_general)"
   ]
  },
  {
   "cell_type": "code",
   "execution_count": 26,
   "metadata": {},
   "outputs": [
    {
     "data": {
      "text/html": [
       "<div>\n",
       "<style scoped>\n",
       "    .dataframe tbody tr th:only-of-type {\n",
       "        vertical-align: middle;\n",
       "    }\n",
       "\n",
       "    .dataframe tbody tr th {\n",
       "        vertical-align: top;\n",
       "    }\n",
       "\n",
       "    .dataframe thead th {\n",
       "        text-align: right;\n",
       "    }\n",
       "</style>\n",
       "<table border=\"1\" class=\"dataframe\">\n",
       "  <thead>\n",
       "    <tr style=\"text-align: right;\">\n",
       "      <th></th>\n",
       "      <th>0</th>\n",
       "      <th>1</th>\n",
       "    </tr>\n",
       "  </thead>\n",
       "  <tbody>\n",
       "    <tr>\n",
       "      <th>count</th>\n",
       "      <td>7345.000000</td>\n",
       "      <td>7345.000000</td>\n",
       "    </tr>\n",
       "    <tr>\n",
       "      <th>mean</th>\n",
       "      <td>0.736594</td>\n",
       "      <td>0.263406</td>\n",
       "    </tr>\n",
       "    <tr>\n",
       "      <th>std</th>\n",
       "      <td>0.231227</td>\n",
       "      <td>0.231227</td>\n",
       "    </tr>\n",
       "    <tr>\n",
       "      <th>min</th>\n",
       "      <td>0.010382</td>\n",
       "      <td>0.000195</td>\n",
       "    </tr>\n",
       "    <tr>\n",
       "      <th>25%</th>\n",
       "      <td>0.608326</td>\n",
       "      <td>0.080042</td>\n",
       "    </tr>\n",
       "    <tr>\n",
       "      <th>50%</th>\n",
       "      <td>0.816838</td>\n",
       "      <td>0.183162</td>\n",
       "    </tr>\n",
       "    <tr>\n",
       "      <th>75%</th>\n",
       "      <td>0.919958</td>\n",
       "      <td>0.391674</td>\n",
       "    </tr>\n",
       "    <tr>\n",
       "      <th>max</th>\n",
       "      <td>0.999805</td>\n",
       "      <td>0.989618</td>\n",
       "    </tr>\n",
       "  </tbody>\n",
       "</table>\n",
       "</div>"
      ],
      "text/plain": [
       "                 0            1\n",
       "count  7345.000000  7345.000000\n",
       "mean      0.736594     0.263406\n",
       "std       0.231227     0.231227\n",
       "min       0.010382     0.000195\n",
       "25%       0.608326     0.080042\n",
       "50%       0.816838     0.183162\n",
       "75%       0.919958     0.391674\n",
       "max       0.999805     0.989618"
      ]
     },
     "execution_count": 26,
     "metadata": {},
     "output_type": "execute_result"
    }
   ],
   "source": [
    "pred_general.describe()"
   ]
  },
  {
   "cell_type": "code",
   "execution_count": 27,
   "metadata": {},
   "outputs": [],
   "source": [
    "pred_general.to_csv(r'C:\\Users\\Sten\\Documents\\EUR BAM\\Thesis\\data\\predictions\\general_predicted_LR1.csv', index=False)"
   ]
  },
  {
   "cell_type": "markdown",
   "metadata": {},
   "source": [
    "## Feature importance"
   ]
  },
  {
   "cell_type": "code",
   "execution_count": 6,
   "metadata": {},
   "outputs": [],
   "source": [
    "features = np.array(vectorizer.get_feature_names_out())"
   ]
  },
  {
   "cell_type": "code",
   "execution_count": 16,
   "metadata": {},
   "outputs": [],
   "source": [
    "sorted_coefficients = model_LR.coef_[0].argsort()"
   ]
  },
  {
   "cell_type": "code",
   "execution_count": 26,
   "metadata": {},
   "outputs": [
    {
     "name": "stdout",
     "output_type": "stream",
     "text": [
      "Positive features: ['new' 'also' 'the' 'an' 'few' 'been' 'including' 'able' 'variety' 'has'\n",
      " 'was' 'addition' 'number' 'domainmarket' 'not' 'make' 'first' 'lot'\n",
      " 'latest' 'other']\n",
      "Negative features: ['obviously' 'basically' 'perhaps' 'up' 'besides' 'literally' 'apparently'\n",
      " 'none' 'essentially' 'unlike' 'unfortunately' 'neither' 'seemingly'\n",
      " 'clearly' 'almost' 'honestly' 'mostly' 'ultimately' 'nobody' 'once']\n"
     ]
    }
   ],
   "source": [
    "print('Positive features:', features[sorted_coefficients[:-21:-1]])\n",
    "print('Negative features:',features[sorted_coefficients[:20]])"
   ]
  },
  {
   "cell_type": "code",
   "execution_count": 23,
   "metadata": {},
   "outputs": [
    {
     "data": {
      "text/plain": [
       "array(['new', 'also', 'the', 'an', 'few', 'been', 'including', 'able',\n",
       "       'variety', 'has', 'was', 'addition', 'number', 'domainmarket',\n",
       "       'not', 'make', 'first', 'lot', 'latest', 'other'], dtype=object)"
      ]
     },
     "execution_count": 23,
     "metadata": {},
     "output_type": "execute_result"
    }
   ],
   "source": [
    "features[sorted_coefficients[:-21:-1]]"
   ]
  }
 ],
 "metadata": {
  "kernelspec": {
   "display_name": "Python 3",
   "language": "python",
   "name": "python3"
  },
  "language_info": {
   "codemirror_mode": {
    "name": "ipython",
    "version": 3
   },
   "file_extension": ".py",
   "mimetype": "text/x-python",
   "name": "python",
   "nbconvert_exporter": "python",
   "pygments_lexer": "ipython3",
   "version": "3.9.16"
  },
  "orig_nbformat": 4
 },
 "nbformat": 4,
 "nbformat_minor": 2
}
